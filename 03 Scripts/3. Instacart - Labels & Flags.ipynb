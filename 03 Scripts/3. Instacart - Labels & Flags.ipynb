{
 "cells": [
  {
   "cell_type": "markdown",
   "id": "76f711ad",
   "metadata": {},
   "source": [
    "# Import libraries & dataframes"
   ]
  },
  {
   "cell_type": "code",
   "execution_count": 1,
   "id": "d8411a61",
   "metadata": {},
   "outputs": [],
   "source": [
    "import pandas as pd\n",
    "import numpy as np\n",
    "import os"
   ]
  },
  {
   "cell_type": "code",
   "execution_count": 2,
   "id": "3ef84ae3",
   "metadata": {},
   "outputs": [],
   "source": [
    "path = r'C:\\Users\\muril\\Data Analysis Projects\\07-2023 Instacart Basket Analysis\\02 Data'\n",
    "ords_prods_merged = pd.read_csv(os.path.join(path, 'Prepared Data', 'orders_products_merged.csv'), index_col=0)"
   ]
  },
  {
   "cell_type": "code",
   "execution_count": 35,
   "id": "353a1445",
   "metadata": {},
   "outputs": [],
   "source": [
    "cust = pd.read_csv(os.path.join(path, 'Prepared Data', 'customers_cleaned.csv'), index_col=0)"
   ]
  },
  {
   "cell_type": "markdown",
   "id": "fb9d5173",
   "metadata": {},
   "source": [
    "# 5. Assign labels\n",
    "\n",
    "## 5.1 price_label flag"
   ]
  },
  {
   "cell_type": "code",
   "execution_count": 3,
   "id": "6d7e79ab",
   "metadata": {},
   "outputs": [],
   "source": [
    "# assign high, mid-range and low flags to products\n",
    "ords_prods_merged.loc[ords_prods_merged['prices'] > 15, 'price_range_loc'] = 'High-range product'\n",
    "ords_prods_merged.loc[(ords_prods_merged['prices'] <= 15) & (ords_prods_merged['prices'] > 5), 'price_range_loc'] = 'Mid-range product' \n",
    "ords_prods_merged.loc[ords_prods_merged['prices'] <= 5, 'price_range_loc'] = 'Low-range product'"
   ]
  },
  {
   "cell_type": "code",
   "execution_count": 4,
   "id": "798e587c",
   "metadata": {},
   "outputs": [
    {
     "data": {
      "text/plain": [
       "Mid-range product     21894136\n",
       "Low-range product     10126339\n",
       "High-range product      412555\n",
       "Name: price_range_loc, dtype: int64"
      ]
     },
     "execution_count": 4,
     "metadata": {},
     "output_type": "execute_result"
    }
   ],
   "source": [
    "# Check count of loc function output\n",
    "ords_prods_merged['price_range_loc'].value_counts(dropna=False)"
   ]
  },
  {
   "cell_type": "markdown",
   "id": "8574e2c2",
   "metadata": {},
   "source": [
    "## 5.2 Busiest days flag"
   ]
  },
  {
   "cell_type": "code",
   "execution_count": 5,
   "id": "f9231f0b",
   "metadata": {},
   "outputs": [
    {
     "data": {
      "text/plain": [
       "0    6209410\n",
       "1    5665604\n",
       "6    4500101\n",
       "2    4217610\n",
       "5    4209334\n",
       "3    3843929\n",
       "4    3787042\n",
       "Name: order_day_of_week, dtype: int64"
      ]
     },
     "execution_count": 5,
     "metadata": {},
     "output_type": "execute_result"
    }
   ],
   "source": [
    "# find the counts of orders by day of the week\n",
    "ords_prods_merged['order_day_of_week'].value_counts(dropna = False)"
   ]
  },
  {
   "cell_type": "markdown",
   "id": "0b086680",
   "metadata": {},
   "source": [
    "Saturday (0) and Sunday (1) are the busiest days and Wednesday (4) and Tuesday (3) are the quietest days."
   ]
  },
  {
   "cell_type": "code",
   "execution_count": 6,
   "id": "0e3c60de",
   "metadata": {},
   "outputs": [],
   "source": [
    "# add column to dataframe that tags the busiest day and the quietest day\n",
    "\n",
    "result = []\n",
    "\n",
    "for value in ords_prods_merged[\"order_day_of_week\"]:\n",
    "  if value == 0:\n",
    "    result.append(\"Busiest day\")\n",
    "  elif value == 4:\n",
    "    result.append(\"Least busy\")\n",
    "  else:\n",
    "    result.append(\"Regularly busy\")"
   ]
  },
  {
   "cell_type": "code",
   "execution_count": 7,
   "id": "bb67d29a",
   "metadata": {},
   "outputs": [],
   "source": [
    "# add this column to the dataframe\n",
    "ords_prods_merged['busiest_day'] = result"
   ]
  },
  {
   "cell_type": "code",
   "execution_count": 8,
   "id": "c2290920",
   "metadata": {},
   "outputs": [
    {
     "data": {
      "text/plain": [
       "Regularly busy    22436578\n",
       "Busiest day        6209410\n",
       "Least busy         3787042\n",
       "Name: busiest_day, dtype: int64"
      ]
     },
     "execution_count": 8,
     "metadata": {},
     "output_type": "execute_result"
    }
   ],
   "source": [
    "ords_prods_merged['busiest_day'].value_counts(dropna = False)"
   ]
  },
  {
   "cell_type": "code",
   "execution_count": 9,
   "id": "934f38fe",
   "metadata": {},
   "outputs": [],
   "source": [
    "# add column to dataframe that tags the busiest two days and the quietest two days\n",
    "\n",
    "result2 = []\n",
    "\n",
    "for value in ords_prods_merged[\"order_day_of_week\"]:\n",
    "  if value in (0,1):\n",
    "    result2.append(\"Busiest days\")\n",
    "  elif value in (3,4):\n",
    "    result2.append(\"Slowest days\")\n",
    "  else:\n",
    "    result2.append(\"Regularly busy\")"
   ]
  },
  {
   "cell_type": "code",
   "execution_count": 10,
   "id": "e41f6baa",
   "metadata": {},
   "outputs": [],
   "source": [
    "# add this column to the dataframe\n",
    "ords_prods_merged['busiest_days'] = result2"
   ]
  },
  {
   "cell_type": "code",
   "execution_count": 11,
   "id": "2545d45c",
   "metadata": {},
   "outputs": [
    {
     "data": {
      "text/plain": [
       "Regularly busy    12927045\n",
       "Busiest days      11875014\n",
       "Slowest days       7630971\n",
       "Name: busiest_days, dtype: int64"
      ]
     },
     "execution_count": 11,
     "metadata": {},
     "output_type": "execute_result"
    }
   ],
   "source": [
    "ords_prods_merged['busiest_days'].value_counts(dropna = False)"
   ]
  },
  {
   "cell_type": "markdown",
   "id": "a6ba2889",
   "metadata": {},
   "source": [
    "The function seems to have performed correctly, the totals are correct and the entries return correctly for the observations above."
   ]
  },
  {
   "cell_type": "markdown",
   "id": "014b5d7b",
   "metadata": {},
   "source": [
    "## 5.3 Busiest time of day flag"
   ]
  },
  {
   "cell_type": "code",
   "execution_count": 12,
   "id": "75669c3a",
   "metadata": {},
   "outputs": [
    {
     "data": {
      "text/plain": [
       "10    2764288\n",
       "11    2738483\n",
       "14    2691448\n",
       "15    2664420\n",
       "13    2663169\n",
       "12    2620719\n",
       "16    2537358\n",
       "9     2456591\n",
       "17    2089385\n",
       "8     1719888\n",
       "18    1637858\n",
       "19    1259335\n",
       "20     976991\n",
       "7      891900\n",
       "21     796341\n",
       "22     634715\n",
       "23     402593\n",
       "6      290763\n",
       "0      218925\n",
       "1      115780\n",
       "5       88054\n",
       "2       69429\n",
       "4       53280\n",
       "3       51317\n",
       "Name: order_hour_of_day, dtype: int64"
      ]
     },
     "execution_count": 12,
     "metadata": {},
     "output_type": "execute_result"
    }
   ],
   "source": [
    "# frequencies of order hour\n",
    "ords_prods_merged['order_hour_of_day'].value_counts(dropna = False)"
   ]
  },
  {
   "cell_type": "markdown",
   "id": "ba2afe4e",
   "metadata": {},
   "source": [
    "The time periods “Most orders”, “Average orders” and “Fewest orders” will be distributed by 25%, 50% and 25% respectively of the number hours of the day, meaning that Most Orders will be the top 6 hours, Fewest Orders will be the bottom 6 hours and Average Orders will be the middle 12 hours."
   ]
  },
  {
   "cell_type": "markdown",
   "id": "89e72f44",
   "metadata": {},
   "source": [
    "Most Orders hours - 10, 11, 14, 15, 13, 12"
   ]
  },
  {
   "cell_type": "markdown",
   "id": "551a1952",
   "metadata": {},
   "source": [
    "Fewest Orders hours - 0, 1, 5, 2, 4, 3"
   ]
  },
  {
   "cell_type": "code",
   "execution_count": 13,
   "id": "b38fe5ef",
   "metadata": {},
   "outputs": [],
   "source": [
    "# add column to dataframe that tags the busiest and quietest hours\n",
    "\n",
    "result3 = []\n",
    "\n",
    "for value in ords_prods_merged[\"order_hour_of_day\"]:\n",
    "  if value in (10, 11, 14, 15, 13, 12):\n",
    "    result3.append(\"Most orders\")\n",
    "  elif value in (0, 1, 5, 2, 4, 3):\n",
    "    result3.append(\"Fewest orders\")\n",
    "  else:\n",
    "    result3.append(\"Average orders\")"
   ]
  },
  {
   "cell_type": "code",
   "execution_count": 14,
   "id": "13d74d7e",
   "metadata": {},
   "outputs": [],
   "source": [
    "# add this column to the dataframe\n",
    "ords_prods_merged['busiest_period_of_day'] = result3"
   ]
  },
  {
   "cell_type": "code",
   "execution_count": 15,
   "id": "10164c52",
   "metadata": {
    "scrolled": true
   },
   "outputs": [
    {
     "data": {
      "text/plain": [
       "Most orders       16142527\n",
       "Average orders    15693718\n",
       "Fewest orders       596785\n",
       "Name: busiest_period_of_day, dtype: int64"
      ]
     },
     "execution_count": 15,
     "metadata": {},
     "output_type": "execute_result"
    }
   ],
   "source": [
    "# check flag counts\n",
    "ords_prods_merged['busiest_period_of_day'].value_counts(dropna = False)"
   ]
  },
  {
   "cell_type": "code",
   "execution_count": 16,
   "id": "acd470cb",
   "metadata": {},
   "outputs": [],
   "source": [
    "del result\n",
    "del result2\n",
    "del result3"
   ]
  },
  {
   "cell_type": "markdown",
   "id": "95b740ef",
   "metadata": {},
   "source": [
    "## 5.4 Loyalty flag"
   ]
  },
  {
   "cell_type": "code",
   "execution_count": 17,
   "id": "4a0e8362",
   "metadata": {
    "scrolled": true
   },
   "outputs": [
    {
     "data": {
      "text/html": [
       "<div>\n",
       "<style scoped>\n",
       "    .dataframe tbody tr th:only-of-type {\n",
       "        vertical-align: middle;\n",
       "    }\n",
       "\n",
       "    .dataframe tbody tr th {\n",
       "        vertical-align: top;\n",
       "    }\n",
       "\n",
       "    .dataframe thead th {\n",
       "        text-align: right;\n",
       "    }\n",
       "</style>\n",
       "<table border=\"1\" class=\"dataframe\">\n",
       "  <thead>\n",
       "    <tr style=\"text-align: right;\">\n",
       "      <th></th>\n",
       "      <th>user_id</th>\n",
       "      <th>order_id</th>\n",
       "    </tr>\n",
       "  </thead>\n",
       "  <tbody>\n",
       "    <tr>\n",
       "      <th>0</th>\n",
       "      <td>1</td>\n",
       "      <td>10</td>\n",
       "    </tr>\n",
       "    <tr>\n",
       "      <th>1</th>\n",
       "      <td>2</td>\n",
       "      <td>14</td>\n",
       "    </tr>\n",
       "    <tr>\n",
       "      <th>2</th>\n",
       "      <td>3</td>\n",
       "      <td>12</td>\n",
       "    </tr>\n",
       "    <tr>\n",
       "      <th>3</th>\n",
       "      <td>4</td>\n",
       "      <td>5</td>\n",
       "    </tr>\n",
       "    <tr>\n",
       "      <th>4</th>\n",
       "      <td>5</td>\n",
       "      <td>4</td>\n",
       "    </tr>\n",
       "  </tbody>\n",
       "</table>\n",
       "</div>"
      ],
      "text/plain": [
       "   user_id  order_id\n",
       "0        1        10\n",
       "1        2        14\n",
       "2        3        12\n",
       "3        4         5\n",
       "4        5         4"
      ]
     },
     "execution_count": 17,
     "metadata": {},
     "output_type": "execute_result"
    }
   ],
   "source": [
    "# find maximum number of orders per user\n",
    "loyalty = ords_prods_merged.groupby('user_id')['order_id'].nunique().reset_index()\n",
    "loyalty.head()"
   ]
  },
  {
   "cell_type": "code",
   "execution_count": 18,
   "id": "491afbb8",
   "metadata": {},
   "outputs": [],
   "source": [
    "# assign loyalty flag - greater than 40 returns 'loyal', less than 10 returns 'new', otherwise 'regular'\n",
    "loyalty['loyalty_flag'] = loyalty['order_id'].apply(lambda order_id: 'loyal' if order_id > 40 else 'new' if order_id < 10 else 'regular')"
   ]
  },
  {
   "cell_type": "code",
   "execution_count": 25,
   "id": "5af238d0",
   "metadata": {},
   "outputs": [
    {
     "data": {
      "text/plain": [
       "new        104514\n",
       "regular     84678\n",
       "loyal       17017\n",
       "Name: loyalty_flag, dtype: int64"
      ]
     },
     "execution_count": 25,
     "metadata": {},
     "output_type": "execute_result"
    }
   ],
   "source": [
    "loyalty['loyalty_flag'].value_counts()"
   ]
  },
  {
   "cell_type": "code",
   "execution_count": 24,
   "id": "83d76370",
   "metadata": {},
   "outputs": [
    {
     "data": {
      "text/plain": [
       "0"
      ]
     },
     "execution_count": 24,
     "metadata": {},
     "output_type": "execute_result"
    }
   ],
   "source": [
    "loyalty['loyalty_flag'].isnull().sum()"
   ]
  },
  {
   "cell_type": "markdown",
   "id": "b73ecc94",
   "metadata": {},
   "source": [
    "Flag assignation appears to have functioned correctly."
   ]
  },
  {
   "cell_type": "code",
   "execution_count": 27,
   "id": "90209466",
   "metadata": {},
   "outputs": [],
   "source": [
    "# merge with dataframe\n",
    "ords_prods_merged = ords_prods_merged.merge(loyalty[['user_id','loyalty_flag']], on='user_id', how='left')"
   ]
  },
  {
   "cell_type": "code",
   "execution_count": 31,
   "id": "382c0186",
   "metadata": {},
   "outputs": [],
   "source": [
    "del loyalty"
   ]
  },
  {
   "cell_type": "code",
   "execution_count": 37,
   "id": "f036f45a",
   "metadata": {},
   "outputs": [
    {
     "data": {
      "text/html": [
       "<div>\n",
       "<style scoped>\n",
       "    .dataframe tbody tr th:only-of-type {\n",
       "        vertical-align: middle;\n",
       "    }\n",
       "\n",
       "    .dataframe tbody tr th {\n",
       "        vertical-align: top;\n",
       "    }\n",
       "\n",
       "    .dataframe thead th {\n",
       "        text-align: right;\n",
       "    }\n",
       "</style>\n",
       "<table border=\"1\" class=\"dataframe\">\n",
       "  <thead>\n",
       "    <tr style=\"text-align: right;\">\n",
       "      <th></th>\n",
       "      <th>order_id</th>\n",
       "      <th>user_id</th>\n",
       "      <th>order_number</th>\n",
       "      <th>order_day_of_week</th>\n",
       "      <th>order_hour_of_day</th>\n",
       "      <th>days_since_prior_order</th>\n",
       "      <th>product_id</th>\n",
       "      <th>add_to_cart_order</th>\n",
       "      <th>reordered</th>\n",
       "      <th>product_name</th>\n",
       "      <th>aisle_id</th>\n",
       "      <th>department_id</th>\n",
       "      <th>prices</th>\n",
       "      <th>price_range_loc</th>\n",
       "      <th>busiest_day</th>\n",
       "      <th>busiest_days</th>\n",
       "      <th>busiest_period_of_day</th>\n",
       "      <th>loyalty_flag</th>\n",
       "    </tr>\n",
       "  </thead>\n",
       "  <tbody>\n",
       "    <tr>\n",
       "      <th>0</th>\n",
       "      <td>2539329</td>\n",
       "      <td>1</td>\n",
       "      <td>1</td>\n",
       "      <td>2</td>\n",
       "      <td>8</td>\n",
       "      <td>NaN</td>\n",
       "      <td>196</td>\n",
       "      <td>1</td>\n",
       "      <td>0</td>\n",
       "      <td>Soda</td>\n",
       "      <td>77</td>\n",
       "      <td>7</td>\n",
       "      <td>9.0</td>\n",
       "      <td>Mid-range product</td>\n",
       "      <td>Regularly busy</td>\n",
       "      <td>Regularly busy</td>\n",
       "      <td>Average orders</td>\n",
       "      <td>regular</td>\n",
       "    </tr>\n",
       "    <tr>\n",
       "      <th>1</th>\n",
       "      <td>2398795</td>\n",
       "      <td>1</td>\n",
       "      <td>2</td>\n",
       "      <td>3</td>\n",
       "      <td>7</td>\n",
       "      <td>15.0</td>\n",
       "      <td>196</td>\n",
       "      <td>1</td>\n",
       "      <td>1</td>\n",
       "      <td>Soda</td>\n",
       "      <td>77</td>\n",
       "      <td>7</td>\n",
       "      <td>9.0</td>\n",
       "      <td>Mid-range product</td>\n",
       "      <td>Regularly busy</td>\n",
       "      <td>Slowest days</td>\n",
       "      <td>Average orders</td>\n",
       "      <td>regular</td>\n",
       "    </tr>\n",
       "    <tr>\n",
       "      <th>2</th>\n",
       "      <td>473747</td>\n",
       "      <td>1</td>\n",
       "      <td>3</td>\n",
       "      <td>3</td>\n",
       "      <td>12</td>\n",
       "      <td>21.0</td>\n",
       "      <td>196</td>\n",
       "      <td>1</td>\n",
       "      <td>1</td>\n",
       "      <td>Soda</td>\n",
       "      <td>77</td>\n",
       "      <td>7</td>\n",
       "      <td>9.0</td>\n",
       "      <td>Mid-range product</td>\n",
       "      <td>Regularly busy</td>\n",
       "      <td>Slowest days</td>\n",
       "      <td>Most orders</td>\n",
       "      <td>regular</td>\n",
       "    </tr>\n",
       "    <tr>\n",
       "      <th>3</th>\n",
       "      <td>2254736</td>\n",
       "      <td>1</td>\n",
       "      <td>4</td>\n",
       "      <td>4</td>\n",
       "      <td>7</td>\n",
       "      <td>29.0</td>\n",
       "      <td>196</td>\n",
       "      <td>1</td>\n",
       "      <td>1</td>\n",
       "      <td>Soda</td>\n",
       "      <td>77</td>\n",
       "      <td>7</td>\n",
       "      <td>9.0</td>\n",
       "      <td>Mid-range product</td>\n",
       "      <td>Least busy</td>\n",
       "      <td>Slowest days</td>\n",
       "      <td>Average orders</td>\n",
       "      <td>regular</td>\n",
       "    </tr>\n",
       "    <tr>\n",
       "      <th>4</th>\n",
       "      <td>431534</td>\n",
       "      <td>1</td>\n",
       "      <td>5</td>\n",
       "      <td>4</td>\n",
       "      <td>15</td>\n",
       "      <td>28.0</td>\n",
       "      <td>196</td>\n",
       "      <td>1</td>\n",
       "      <td>1</td>\n",
       "      <td>Soda</td>\n",
       "      <td>77</td>\n",
       "      <td>7</td>\n",
       "      <td>9.0</td>\n",
       "      <td>Mid-range product</td>\n",
       "      <td>Least busy</td>\n",
       "      <td>Slowest days</td>\n",
       "      <td>Most orders</td>\n",
       "      <td>regular</td>\n",
       "    </tr>\n",
       "  </tbody>\n",
       "</table>\n",
       "</div>"
      ],
      "text/plain": [
       "   order_id  user_id  order_number  order_day_of_week  order_hour_of_day  \\\n",
       "0   2539329        1             1                  2                  8   \n",
       "1   2398795        1             2                  3                  7   \n",
       "2    473747        1             3                  3                 12   \n",
       "3   2254736        1             4                  4                  7   \n",
       "4    431534        1             5                  4                 15   \n",
       "\n",
       "   days_since_prior_order  product_id  add_to_cart_order  reordered  \\\n",
       "0                     NaN         196                  1          0   \n",
       "1                    15.0         196                  1          1   \n",
       "2                    21.0         196                  1          1   \n",
       "3                    29.0         196                  1          1   \n",
       "4                    28.0         196                  1          1   \n",
       "\n",
       "  product_name  aisle_id  department_id  prices    price_range_loc  \\\n",
       "0         Soda        77              7     9.0  Mid-range product   \n",
       "1         Soda        77              7     9.0  Mid-range product   \n",
       "2         Soda        77              7     9.0  Mid-range product   \n",
       "3         Soda        77              7     9.0  Mid-range product   \n",
       "4         Soda        77              7     9.0  Mid-range product   \n",
       "\n",
       "      busiest_day    busiest_days busiest_period_of_day loyalty_flag  \n",
       "0  Regularly busy  Regularly busy        Average orders      regular  \n",
       "1  Regularly busy    Slowest days        Average orders      regular  \n",
       "2  Regularly busy    Slowest days           Most orders      regular  \n",
       "3      Least busy    Slowest days        Average orders      regular  \n",
       "4      Least busy    Slowest days           Most orders      regular  "
      ]
     },
     "execution_count": 37,
     "metadata": {},
     "output_type": "execute_result"
    }
   ],
   "source": [
    "ords_prods_merged.head()"
   ]
  },
  {
   "cell_type": "markdown",
   "id": "5f67ed9e",
   "metadata": {},
   "source": [
    "# Export dataframe"
   ]
  }
 ],
 "metadata": {
  "kernelspec": {
   "display_name": "Python 3 (ipykernel)",
   "language": "python",
   "name": "python3"
  },
  "language_info": {
   "codemirror_mode": {
    "name": "ipython",
    "version": 3
   },
   "file_extension": ".py",
   "mimetype": "text/x-python",
   "name": "python",
   "nbconvert_exporter": "python",
   "pygments_lexer": "ipython3",
   "version": "3.11.3"
  }
 },
 "nbformat": 4,
 "nbformat_minor": 5
}
