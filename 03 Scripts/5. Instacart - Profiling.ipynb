{
 "cells": [
  {
   "cell_type": "markdown",
   "id": "4cd0add0",
   "metadata": {},
   "source": [
    "# Import libraries & dataframe"
   ]
  },
  {
   "cell_type": "code",
   "execution_count": 1,
   "id": "d483b81b",
   "metadata": {},
   "outputs": [],
   "source": [
    "# import libraries\n",
    "import pandas as pd\n",
    "import numpy as np\n",
    "import os\n",
    "import matplotlib.pyplot as plt"
   ]
  },
  {
   "cell_type": "code",
   "execution_count": 2,
   "id": "015f4f88",
   "metadata": {},
   "outputs": [],
   "source": [
    "path = r'C:\\Users\\muril\\Data Analysis Projects\\07-2023 Instacart Basket Analysis\\02 Data'"
   ]
  },
  {
   "cell_type": "code",
   "execution_count": 3,
   "id": "159ab00e",
   "metadata": {},
   "outputs": [],
   "source": [
    "# import dataframe\n",
    "df = pd.read_pickle(os.path.join(path,'Prepared Data','instacart_wrangled.pkl'))"
   ]
  },
  {
   "cell_type": "code",
   "execution_count": 4,
   "id": "67bafd30",
   "metadata": {},
   "outputs": [],
   "source": [
    "df_high = pd.read_pickle(os.path.join(path,'Prepared Data','high_activity_customers.pkl'))"
   ]
  },
  {
   "cell_type": "markdown",
   "id": "fb5d3ae5",
   "metadata": {},
   "source": [
    "## 6 Customer profiling"
   ]
  },
  {
   "cell_type": "code",
   "execution_count": 5,
   "id": "dc7aaf6e",
   "metadata": {
    "scrolled": true
   },
   "outputs": [
    {
     "data": {
      "text/html": [
       "<div>\n",
       "<style scoped>\n",
       "    .dataframe tbody tr th:only-of-type {\n",
       "        vertical-align: middle;\n",
       "    }\n",
       "\n",
       "    .dataframe tbody tr th {\n",
       "        vertical-align: top;\n",
       "    }\n",
       "\n",
       "    .dataframe thead th {\n",
       "        text-align: right;\n",
       "    }\n",
       "</style>\n",
       "<table border=\"1\" class=\"dataframe\">\n",
       "  <thead>\n",
       "    <tr style=\"text-align: right;\">\n",
       "      <th></th>\n",
       "      <th>order_id</th>\n",
       "      <th>user_id</th>\n",
       "      <th>order_number</th>\n",
       "      <th>order_day_of_week</th>\n",
       "      <th>order_hour_of_day</th>\n",
       "      <th>days_since_prior_order</th>\n",
       "      <th>product_id</th>\n",
       "      <th>add_to_cart_order</th>\n",
       "      <th>reordered</th>\n",
       "      <th>product_name</th>\n",
       "      <th>...</th>\n",
       "      <th>sex</th>\n",
       "      <th>state</th>\n",
       "      <th>age</th>\n",
       "      <th>date_joined</th>\n",
       "      <th>n_dependents</th>\n",
       "      <th>family_status</th>\n",
       "      <th>income</th>\n",
       "      <th>region</th>\n",
       "      <th>number_of_orders</th>\n",
       "      <th>activity_status</th>\n",
       "    </tr>\n",
       "  </thead>\n",
       "  <tbody>\n",
       "    <tr>\n",
       "      <th>0</th>\n",
       "      <td>2539329</td>\n",
       "      <td>1</td>\n",
       "      <td>1</td>\n",
       "      <td>2</td>\n",
       "      <td>8</td>\n",
       "      <td>NaN</td>\n",
       "      <td>196</td>\n",
       "      <td>1</td>\n",
       "      <td>0</td>\n",
       "      <td>Soda</td>\n",
       "      <td>...</td>\n",
       "      <td>Female</td>\n",
       "      <td>Alabama</td>\n",
       "      <td>31</td>\n",
       "      <td>2/17/2019</td>\n",
       "      <td>3</td>\n",
       "      <td>married</td>\n",
       "      <td>40423</td>\n",
       "      <td>South</td>\n",
       "      <td>10</td>\n",
       "      <td>high</td>\n",
       "    </tr>\n",
       "    <tr>\n",
       "      <th>1</th>\n",
       "      <td>2398795</td>\n",
       "      <td>1</td>\n",
       "      <td>2</td>\n",
       "      <td>3</td>\n",
       "      <td>7</td>\n",
       "      <td>15.0</td>\n",
       "      <td>196</td>\n",
       "      <td>1</td>\n",
       "      <td>1</td>\n",
       "      <td>Soda</td>\n",
       "      <td>...</td>\n",
       "      <td>Female</td>\n",
       "      <td>Alabama</td>\n",
       "      <td>31</td>\n",
       "      <td>2/17/2019</td>\n",
       "      <td>3</td>\n",
       "      <td>married</td>\n",
       "      <td>40423</td>\n",
       "      <td>South</td>\n",
       "      <td>10</td>\n",
       "      <td>high</td>\n",
       "    </tr>\n",
       "    <tr>\n",
       "      <th>2</th>\n",
       "      <td>473747</td>\n",
       "      <td>1</td>\n",
       "      <td>3</td>\n",
       "      <td>3</td>\n",
       "      <td>12</td>\n",
       "      <td>21.0</td>\n",
       "      <td>196</td>\n",
       "      <td>1</td>\n",
       "      <td>1</td>\n",
       "      <td>Soda</td>\n",
       "      <td>...</td>\n",
       "      <td>Female</td>\n",
       "      <td>Alabama</td>\n",
       "      <td>31</td>\n",
       "      <td>2/17/2019</td>\n",
       "      <td>3</td>\n",
       "      <td>married</td>\n",
       "      <td>40423</td>\n",
       "      <td>South</td>\n",
       "      <td>10</td>\n",
       "      <td>high</td>\n",
       "    </tr>\n",
       "    <tr>\n",
       "      <th>3</th>\n",
       "      <td>2254736</td>\n",
       "      <td>1</td>\n",
       "      <td>4</td>\n",
       "      <td>4</td>\n",
       "      <td>7</td>\n",
       "      <td>29.0</td>\n",
       "      <td>196</td>\n",
       "      <td>1</td>\n",
       "      <td>1</td>\n",
       "      <td>Soda</td>\n",
       "      <td>...</td>\n",
       "      <td>Female</td>\n",
       "      <td>Alabama</td>\n",
       "      <td>31</td>\n",
       "      <td>2/17/2019</td>\n",
       "      <td>3</td>\n",
       "      <td>married</td>\n",
       "      <td>40423</td>\n",
       "      <td>South</td>\n",
       "      <td>10</td>\n",
       "      <td>high</td>\n",
       "    </tr>\n",
       "    <tr>\n",
       "      <th>4</th>\n",
       "      <td>431534</td>\n",
       "      <td>1</td>\n",
       "      <td>5</td>\n",
       "      <td>4</td>\n",
       "      <td>15</td>\n",
       "      <td>28.0</td>\n",
       "      <td>196</td>\n",
       "      <td>1</td>\n",
       "      <td>1</td>\n",
       "      <td>Soda</td>\n",
       "      <td>...</td>\n",
       "      <td>Female</td>\n",
       "      <td>Alabama</td>\n",
       "      <td>31</td>\n",
       "      <td>2/17/2019</td>\n",
       "      <td>3</td>\n",
       "      <td>married</td>\n",
       "      <td>40423</td>\n",
       "      <td>South</td>\n",
       "      <td>10</td>\n",
       "      <td>high</td>\n",
       "    </tr>\n",
       "  </tbody>\n",
       "</table>\n",
       "<p>5 rows × 23 columns</p>\n",
       "</div>"
      ],
      "text/plain": [
       "   order_id  user_id  order_number  order_day_of_week  order_hour_of_day  \\\n",
       "0   2539329        1             1                  2                  8   \n",
       "1   2398795        1             2                  3                  7   \n",
       "2    473747        1             3                  3                 12   \n",
       "3   2254736        1             4                  4                  7   \n",
       "4    431534        1             5                  4                 15   \n",
       "\n",
       "   days_since_prior_order  product_id  add_to_cart_order  reordered  \\\n",
       "0                     NaN         196                  1          0   \n",
       "1                    15.0         196                  1          1   \n",
       "2                    21.0         196                  1          1   \n",
       "3                    29.0         196                  1          1   \n",
       "4                    28.0         196                  1          1   \n",
       "\n",
       "  product_name  ...     sex    state  age date_joined n_dependents  \\\n",
       "0         Soda  ...  Female  Alabama   31   2/17/2019            3   \n",
       "1         Soda  ...  Female  Alabama   31   2/17/2019            3   \n",
       "2         Soda  ...  Female  Alabama   31   2/17/2019            3   \n",
       "3         Soda  ...  Female  Alabama   31   2/17/2019            3   \n",
       "4         Soda  ...  Female  Alabama   31   2/17/2019            3   \n",
       "\n",
       "   family_status income  region number_of_orders  activity_status  \n",
       "0        married  40423   South               10             high  \n",
       "1        married  40423   South               10             high  \n",
       "2        married  40423   South               10             high  \n",
       "3        married  40423   South               10             high  \n",
       "4        married  40423   South               10             high  \n",
       "\n",
       "[5 rows x 23 columns]"
      ]
     },
     "execution_count": 5,
     "metadata": {},
     "output_type": "execute_result"
    }
   ],
   "source": [
    "df_high.head()"
   ]
  },
  {
   "cell_type": "code",
   "execution_count": 6,
   "id": "cd267170",
   "metadata": {},
   "outputs": [
    {
     "data": {
      "text/plain": [
       "(30991533, 23)"
      ]
     },
     "execution_count": 6,
     "metadata": {},
     "output_type": "execute_result"
    }
   ],
   "source": [
    "df_high.shape"
   ]
  },
  {
   "cell_type": "markdown",
   "id": "a9d4be30",
   "metadata": {},
   "source": [
    "### 6.1 Age profiling"
   ]
  },
  {
   "cell_type": "markdown",
   "id": "d6b940f8",
   "metadata": {},
   "source": [
    "#### 6.1.1 age_flag creation"
   ]
  },
  {
   "cell_type": "code",
   "execution_count": 7,
   "id": "e7aae824",
   "metadata": {},
   "outputs": [
    {
     "data": {
      "text/plain": [
       "count    3.099153e+07\n",
       "mean     4.946796e+01\n",
       "std      1.848522e+01\n",
       "min      1.800000e+01\n",
       "25%      3.300000e+01\n",
       "50%      4.900000e+01\n",
       "75%      6.500000e+01\n",
       "max      8.100000e+01\n",
       "Name: age, dtype: float64"
      ]
     },
     "execution_count": 7,
     "metadata": {},
     "output_type": "execute_result"
    }
   ],
   "source": [
    "# find summary statistics of the ages\n",
    "df_high['age'].describe()"
   ]
  },
  {
   "cell_type": "markdown",
   "id": "6fc5e324",
   "metadata": {},
   "source": [
    "There are no minors (under-18s). Define 18-35 years old as 'young_adult', 36-64 years old as 'adult' and over-64 years old as 'senior'."
   ]
  },
  {
   "cell_type": "code",
   "execution_count": 8,
   "id": "05db9b3a",
   "metadata": {},
   "outputs": [],
   "source": [
    "# create age flag\n",
    "df_high['age_flag'] = df_high['age'].apply(lambda x: 'young_adult' if x < 36 else 'senior' if x > 64 else 'adult')"
   ]
  },
  {
   "cell_type": "code",
   "execution_count": 9,
   "id": "b9029dab",
   "metadata": {},
   "outputs": [
    {
     "data": {
      "text/plain": [
       "adult          14042587\n",
       "young_adult     8746462\n",
       "senior          8202484\n",
       "Name: age_flag, dtype: int64"
      ]
     },
     "execution_count": 9,
     "metadata": {},
     "output_type": "execute_result"
    }
   ],
   "source": [
    "# check frequencies and total of new age_flag\n",
    "df_high['age_flag'].value_counts()"
   ]
  },
  {
   "cell_type": "code",
   "execution_count": 10,
   "id": "bff816d9",
   "metadata": {},
   "outputs": [
    {
     "data": {
      "text/plain": [
       "30991533"
      ]
     },
     "execution_count": 10,
     "metadata": {},
     "output_type": "execute_result"
    }
   ],
   "source": [
    "df_high['age_flag'].value_counts().sum()"
   ]
  },
  {
   "cell_type": "code",
   "execution_count": 11,
   "id": "abf5a219",
   "metadata": {},
   "outputs": [
    {
     "data": {
      "text/plain": [
       "(30991533, 24)"
      ]
     },
     "execution_count": 11,
     "metadata": {},
     "output_type": "execute_result"
    }
   ],
   "source": [
    "# check against dataframe size\n",
    "df_high.shape"
   ]
  },
  {
   "cell_type": "markdown",
   "id": "c68700c9",
   "metadata": {},
   "source": [
    "#### 6.1.2 Visualize distribution of ages"
   ]
  },
  {
   "cell_type": "code",
   "execution_count": 12,
   "id": "c63910de",
   "metadata": {},
   "outputs": [
    {
     "data": {
      "image/png": "[encoded data removed]",
      "text/plain": [
       "<Figure size 640x480 with 1 Axes>"
      ]
     },
     "metadata": {},
     "output_type": "display_data"
    }
   ],
   "source": [
    "# view pie chart of age_flag\n",
    "\n",
    "# Calculate the value counts of age_flag\n",
    "age_flag_counts = df_high['age_flag'].value_counts()\n",
    "\n",
    "# Create a pie chart\n",
    "plt.pie(age_flag_counts, labels=age_flag_counts.index, autopct='%1.1f%%')\n",
    "\n",
    "# Set the title\n",
    "plt.title('Distribution of Age Flags')\n",
    "\n",
    "# Display the chart\n",
    "plt.show()\n"
   ]
  },
  {
   "cell_type": "code",
   "execution_count": 13,
   "id": "43a7b15d",
   "metadata": {},
   "outputs": [
    {
     "data": {
      "image/png": "[encoded data removed]",
      "text/plain": [
       "<Figure size 640x480 with 1 Axes>"
      ]
     },
     "metadata": {},
     "output_type": "display_data"
    }
   ],
   "source": [
    "# view distribution of all ages via histogram, bin size 4 years\n",
    "\n",
    "# Create the histogram\n",
    "plt.hist(df_high['age'], bins=range(min(df_high['age']), max(df_high['age']) + 4, 4), edgecolor='black')\n",
    "\n",
    "# Set the x-axis label and title\n",
    "plt.xlabel('Age')\n",
    "plt.ylabel('Frequency')\n",
    "plt.title('Distribution of Ages')\n",
    "\n",
    "# Display the histogram\n",
    "plt.show()"
   ]
  },
  {
   "cell_type": "markdown",
   "id": "d1f668b3",
   "metadata": {},
   "source": [
    "We can clearly see that there is a very even distribution of ages across highly active customers. The largest age flag are the adults, being a size similar to that of both the young adults and seniors put together. The young adults and seniors account for roughly a quarter of the customer base each."
   ]
  },
  {
   "cell_type": "markdown",
   "id": "48d60169",
   "metadata": {},
   "source": [
    "### 6.2 Income profiling"
   ]
  },
  {
   "cell_type": "markdown",
   "id": "d0570771",
   "metadata": {},
   "source": [
    "#### 6.2.1 income_flag creation"
   ]
  },
  {
   "cell_type": "code",
   "execution_count": 14,
   "id": "60d3cbf0",
   "metadata": {},
   "outputs": [
    {
     "data": {
      "text/plain": [
       "count    3.099153e+07\n",
       "mean     9.967334e+04\n",
       "std      4.313947e+04\n",
       "min      2.590300e+04\n",
       "25%      6.728900e+04\n",
       "50%      9.676500e+04\n",
       "75%      1.281010e+05\n",
       "max      5.939010e+05\n",
       "Name: income, dtype: float64"
      ]
     },
     "execution_count": 14,
     "metadata": {},
     "output_type": "execute_result"
    }
   ],
   "source": [
    "# find summary stats of income\n",
    "df_high['income'].describe()"
   ]
  },
  {
   "cell_type": "markdown",
   "id": "4c261707",
   "metadata": {},
   "source": [
    "Using the quartiles as boundaries, define 'low' earners as income less than 67,006, 'high' earners as greater than 127,914 and 'medium' earners as everything in between."
   ]
  },
  {
   "cell_type": "code",
   "execution_count": 15,
   "id": "3279d422",
   "metadata": {},
   "outputs": [],
   "source": [
    "# create income flag\n",
    "df_high['income_flag'] = df_high['income'].apply(lambda x: 'low' if x < 67006 else 'high' if x > 127914 else 'medium')"
   ]
  },
  {
   "cell_type": "code",
   "execution_count": 16,
   "id": "48dbd77b",
   "metadata": {},
   "outputs": [
    {
     "data": {
      "text/plain": [
       "medium    15545201\n",
       "high       7777017\n",
       "low        7669315\n",
       "Name: income_flag, dtype: int64"
      ]
     },
     "execution_count": 16,
     "metadata": {},
     "output_type": "execute_result"
    }
   ],
   "source": [
    "# check frequencies and total of new income_flag\n",
    "df_high['income_flag'].value_counts()"
   ]
  },
  {
   "cell_type": "code",
   "execution_count": 17,
   "id": "75b983e4",
   "metadata": {},
   "outputs": [
    {
     "data": {
      "text/plain": [
       "30991533"
      ]
     },
     "execution_count": 17,
     "metadata": {},
     "output_type": "execute_result"
    }
   ],
   "source": [
    "df_high['income_flag'].value_counts().sum()"
   ]
  },
  {
   "cell_type": "markdown",
   "id": "efc63fef",
   "metadata": {},
   "source": [
    "income_flag totals are correct"
   ]
  },
  {
   "cell_type": "markdown",
   "id": "b939e1d5",
   "metadata": {},
   "source": [
    "#### 6.2.2 Visualize income distribution"
   ]
  },
  {
   "cell_type": "markdown",
   "id": "ac6ae41c",
   "metadata": {},
   "source": [
    "By definition the distribution of income_flag must be 25% for low earners, 50% for medium earners and 25% for high earners."
   ]
  },
  {
   "cell_type": "code",
   "execution_count": 18,
   "id": "29add484",
   "metadata": {},
   "outputs": [
    {
     "data": {
      "image/png": "[encoded data removed]",
      "text/plain": [
       "<Figure size 640x480 with 1 Axes>"
      ]
     },
     "metadata": {},
     "output_type": "display_data"
    }
   ],
   "source": [
    "# view distribution of all incomes via histogram, bin size 10000\n",
    "\n",
    "# Create the histogram\n",
    "plt.hist(df_high['income'], bins=range(min(df_high['income']), max(df_high['income']) + 10000, 10000), edgecolor='black')\n",
    "\n",
    "# Set the x-axis label and title\n",
    "plt.xlabel('Income')\n",
    "plt.ylabel('Frequency')\n",
    "plt.title('Distribution of Income')\n",
    "\n",
    "# Display the histogram\n",
    "plt.show()"
   ]
  },
  {
   "cell_type": "markdown",
   "id": "541b38f5",
   "metadata": {},
   "source": [
    "The distribution of income shows positive skew with a right tail. The majority of incomes are centred around 99,675 resembling a normal distribution, but then there are a few customers with much higher incomes once you reach incomes of approximately 180,000."
   ]
  },
  {
   "cell_type": "code",
   "execution_count": 19,
   "id": "d0cd6c17",
   "metadata": {},
   "outputs": [
    {
     "data": {
      "text/plain": [
       "Index(['order_id', 'user_id', 'order_number', 'order_day_of_week',\n",
       "       'order_hour_of_day', 'days_since_prior_order', 'product_id',\n",
       "       'add_to_cart_order', 'reordered', 'product_name', 'aisle_id',\n",
       "       'department_id', 'prices', 'sex', 'state', 'age', 'date_joined',\n",
       "       'n_dependents', 'family_status', 'income', 'region', 'number_of_orders',\n",
       "       'activity_status', 'age_flag', 'income_flag'],\n",
       "      dtype='object')"
      ]
     },
     "execution_count": 19,
     "metadata": {},
     "output_type": "execute_result"
    }
   ],
   "source": [
    "df_high.columns"
   ]
  },
  {
   "cell_type": "code",
   "execution_count": 20,
   "id": "09da9525",
   "metadata": {},
   "outputs": [
    {
     "data": {
      "text/plain": [
       "4     9079274\n",
       "16    5191823\n",
       "19    2766406\n",
       "7     2571934\n",
       "1     2123341\n",
       "13    1782903\n",
       "3     1125026\n",
       "15    1012074\n",
       "20    1003834\n",
       "9      822136\n",
       "17     699857\n",
       "14     677073\n",
       "12     674785\n",
       "11     424362\n",
       "18     410392\n",
       "6      255991\n",
       "5      144627\n",
       "8       93065\n",
       "21      64768\n",
       "2       34411\n",
       "10      33451\n",
       "Name: department_id, dtype: int64"
      ]
     },
     "execution_count": 20,
     "metadata": {},
     "output_type": "execute_result"
    }
   ],
   "source": [
    "df_high['department_id'].value_counts()"
   ]
  },
  {
   "cell_type": "code",
   "execution_count": 21,
   "id": "5561d786",
   "metadata": {
    "scrolled": true
   },
   "outputs": [
    {
     "data": {
      "text/plain": [
       "married                             21762261\n",
       "single                               5099036\n",
       "divorced/widowed                     2647661\n",
       "living with parents and siblings     1482575\n",
       "Name: family_status, dtype: int64"
      ]
     },
     "execution_count": 21,
     "metadata": {},
     "output_type": "execute_result"
    }
   ],
   "source": [
    "df_high['family_status'].value_counts()"
   ]
  },
  {
   "cell_type": "markdown",
   "id": "67975606",
   "metadata": {},
   "source": [
    "### 6.3 Regularity profiling"
   ]
  },
  {
   "cell_type": "markdown",
   "id": "52b8524c",
   "metadata": {},
   "source": [
    "#### 6.3.1 Percentage occurence of order_day_of_week, grouped by customer"
   ]
  },
  {
   "cell_type": "code",
   "execution_count": 22,
   "id": "e6412670",
   "metadata": {},
   "outputs": [],
   "source": [
    "# Calculate the percentages of occurrences\n",
    "percentages = df_high.groupby(['user_id', 'order_day_of_week']).size() / df_high.groupby('user_id').size() * 100"
   ]
  },
  {
   "cell_type": "code",
   "execution_count": 23,
   "id": "d9980ef1",
   "metadata": {},
   "outputs": [
    {
     "data": {
      "text/plain": [
       "user_id  order_day_of_week\n",
       "1        1                    28.813559\n",
       "         2                    15.254237\n",
       "         3                    18.644068\n",
       "         4                    37.288136\n",
       "2        1                    32.820513\n",
       "                                ...    \n",
       "206209   1                    34.883721\n",
       "         2                     7.751938\n",
       "         3                    26.356589\n",
       "         4                    10.852713\n",
       "         5                    18.604651\n",
       "Length: 849935, dtype: float64"
      ]
     },
     "execution_count": 23,
     "metadata": {},
     "output_type": "execute_result"
    }
   ],
   "source": [
    "percentages"
   ]
  },
  {
   "cell_type": "code",
   "execution_count": 24,
   "id": "d85c6fc5",
   "metadata": {},
   "outputs": [],
   "source": [
    "# Get the highest percentage occurrence for each user_id\n",
    "regularity = percentages.groupby('user_id').max()"
   ]
  },
  {
   "cell_type": "code",
   "execution_count": 25,
   "id": "9bc1bec9",
   "metadata": {},
   "outputs": [],
   "source": [
    "# Convert percentages Series to DataFrame\n",
    "percentages_df = percentages.reset_index(name='percentage')"
   ]
  },
  {
   "cell_type": "code",
   "execution_count": 26,
   "id": "707d1d4d",
   "metadata": {},
   "outputs": [],
   "source": [
    "# Calculate the average percentages grouped by user_id\n",
    "average_percentages = percentages_df.groupby('user_id')['percentage'].mean()"
   ]
  },
  {
   "cell_type": "code",
   "execution_count": 27,
   "id": "53c5210b",
   "metadata": {},
   "outputs": [
    {
     "data": {
      "text/plain": [
       "user_id\n",
       "1    25.000000\n",
       "2    20.000000\n",
       "3    25.000000\n",
       "4    33.333333\n",
       "7    16.666667\n",
       "Name: percentage, dtype: float64"
      ]
     },
     "execution_count": 27,
     "metadata": {},
     "output_type": "execute_result"
    }
   ],
   "source": [
    "# visual check of dataframe\n",
    "average_percentages.head()"
   ]
  },
  {
   "cell_type": "code",
   "execution_count": 28,
   "id": "a67d1ae4",
   "metadata": {},
   "outputs": [],
   "source": [
    "# Create a new DataFrame with user_id and average_percentage column\n",
    "day_avg_pcntg = pd.DataFrame({'user_id': average_percentages.index, 'average_percentage': average_percentages.values})"
   ]
  },
  {
   "cell_type": "code",
   "execution_count": 29,
   "id": "341e81ed",
   "metadata": {},
   "outputs": [
    {
     "data": {
      "text/html": [
       "<div>\n",
       "<style scoped>\n",
       "    .dataframe tbody tr th:only-of-type {\n",
       "        vertical-align: middle;\n",
       "    }\n",
       "\n",
       "    .dataframe tbody tr th {\n",
       "        vertical-align: top;\n",
       "    }\n",
       "\n",
       "    .dataframe thead th {\n",
       "        text-align: right;\n",
       "    }\n",
       "</style>\n",
       "<table border=\"1\" class=\"dataframe\">\n",
       "  <thead>\n",
       "    <tr style=\"text-align: right;\">\n",
       "      <th></th>\n",
       "      <th>user_id</th>\n",
       "      <th>average_percentage</th>\n",
       "    </tr>\n",
       "  </thead>\n",
       "  <tbody>\n",
       "    <tr>\n",
       "      <th>0</th>\n",
       "      <td>1</td>\n",
       "      <td>25.000000</td>\n",
       "    </tr>\n",
       "    <tr>\n",
       "      <th>1</th>\n",
       "      <td>2</td>\n",
       "      <td>20.000000</td>\n",
       "    </tr>\n",
       "    <tr>\n",
       "      <th>2</th>\n",
       "      <td>3</td>\n",
       "      <td>25.000000</td>\n",
       "    </tr>\n",
       "    <tr>\n",
       "      <th>3</th>\n",
       "      <td>4</td>\n",
       "      <td>33.333333</td>\n",
       "    </tr>\n",
       "    <tr>\n",
       "      <th>4</th>\n",
       "      <td>7</td>\n",
       "      <td>16.666667</td>\n",
       "    </tr>\n",
       "  </tbody>\n",
       "</table>\n",
       "</div>"
      ],
      "text/plain": [
       "   user_id  average_percentage\n",
       "0        1           25.000000\n",
       "1        2           20.000000\n",
       "2        3           25.000000\n",
       "3        4           33.333333\n",
       "4        7           16.666667"
      ]
     },
     "execution_count": 29,
     "metadata": {},
     "output_type": "execute_result"
    }
   ],
   "source": [
    "# visual check of day_avg_pcntg dataframe\n",
    "day_avg_pcntg.head()"
   ]
  },
  {
   "cell_type": "code",
   "execution_count": 30,
   "id": "11c74499",
   "metadata": {},
   "outputs": [
    {
     "data": {
      "text/plain": [
       "count    162632.000000\n",
       "mean         21.227188\n",
       "std           8.587118\n",
       "min          14.285714\n",
       "25%          14.285714\n",
       "50%          20.000000\n",
       "75%          25.000000\n",
       "max         100.000000\n",
       "Name: average_percentage, dtype: float64"
      ]
     },
     "execution_count": 30,
     "metadata": {},
     "output_type": "execute_result"
    }
   ],
   "source": [
    "# summary statistics of day_avg_pcntg\n",
    "day_avg_pcntg['average_percentage'].describe()"
   ]
  },
  {
   "cell_type": "markdown",
   "id": "128c61e7",
   "metadata": {},
   "source": [
    "#### 6.3.2 Regularity flag creation"
   ]
  },
  {
   "cell_type": "markdown",
   "id": "5e8323fb",
   "metadata": {},
   "source": [
    "Define a 'regular' customer as a customer with an average order_day_of_week percentage as greater than 33.3%, otherwise define the customer as 'irregular'."
   ]
  },
  {
   "cell_type": "code",
   "execution_count": 31,
   "id": "260eb02d",
   "metadata": {},
   "outputs": [],
   "source": [
    "# create regularity flag\n",
    "day_avg_pcntg['regularity_flag'] = day_avg_pcntg['average_percentage'].apply(lambda x: 'regular' if x > 100/3 else 'irregular')"
   ]
  },
  {
   "cell_type": "code",
   "execution_count": 32,
   "id": "db210c57",
   "metadata": {},
   "outputs": [
    {
     "data": {
      "text/html": [
       "<div>\n",
       "<style scoped>\n",
       "    .dataframe tbody tr th:only-of-type {\n",
       "        vertical-align: middle;\n",
       "    }\n",
       "\n",
       "    .dataframe tbody tr th {\n",
       "        vertical-align: top;\n",
       "    }\n",
       "\n",
       "    .dataframe thead th {\n",
       "        text-align: right;\n",
       "    }\n",
       "</style>\n",
       "<table border=\"1\" class=\"dataframe\">\n",
       "  <thead>\n",
       "    <tr style=\"text-align: right;\">\n",
       "      <th></th>\n",
       "      <th>user_id</th>\n",
       "      <th>average_percentage</th>\n",
       "      <th>regularity_flag</th>\n",
       "    </tr>\n",
       "  </thead>\n",
       "  <tbody>\n",
       "    <tr>\n",
       "      <th>0</th>\n",
       "      <td>1</td>\n",
       "      <td>25.000000</td>\n",
       "      <td>irregular</td>\n",
       "    </tr>\n",
       "    <tr>\n",
       "      <th>1</th>\n",
       "      <td>2</td>\n",
       "      <td>20.000000</td>\n",
       "      <td>irregular</td>\n",
       "    </tr>\n",
       "    <tr>\n",
       "      <th>2</th>\n",
       "      <td>3</td>\n",
       "      <td>25.000000</td>\n",
       "      <td>irregular</td>\n",
       "    </tr>\n",
       "    <tr>\n",
       "      <th>3</th>\n",
       "      <td>4</td>\n",
       "      <td>33.333333</td>\n",
       "      <td>irregular</td>\n",
       "    </tr>\n",
       "    <tr>\n",
       "      <th>4</th>\n",
       "      <td>7</td>\n",
       "      <td>16.666667</td>\n",
       "      <td>irregular</td>\n",
       "    </tr>\n",
       "    <tr>\n",
       "      <th>...</th>\n",
       "      <td>...</td>\n",
       "      <td>...</td>\n",
       "      <td>...</td>\n",
       "    </tr>\n",
       "    <tr>\n",
       "      <th>162627</th>\n",
       "      <td>206203</td>\n",
       "      <td>25.000000</td>\n",
       "      <td>irregular</td>\n",
       "    </tr>\n",
       "    <tr>\n",
       "      <th>162628</th>\n",
       "      <td>206206</td>\n",
       "      <td>14.285714</td>\n",
       "      <td>irregular</td>\n",
       "    </tr>\n",
       "    <tr>\n",
       "      <th>162629</th>\n",
       "      <td>206207</td>\n",
       "      <td>14.285714</td>\n",
       "      <td>irregular</td>\n",
       "    </tr>\n",
       "    <tr>\n",
       "      <th>162630</th>\n",
       "      <td>206208</td>\n",
       "      <td>14.285714</td>\n",
       "      <td>irregular</td>\n",
       "    </tr>\n",
       "    <tr>\n",
       "      <th>162631</th>\n",
       "      <td>206209</td>\n",
       "      <td>16.666667</td>\n",
       "      <td>irregular</td>\n",
       "    </tr>\n",
       "  </tbody>\n",
       "</table>\n",
       "<p>162632 rows × 3 columns</p>\n",
       "</div>"
      ],
      "text/plain": [
       "        user_id  average_percentage regularity_flag\n",
       "0             1           25.000000       irregular\n",
       "1             2           20.000000       irregular\n",
       "2             3           25.000000       irregular\n",
       "3             4           33.333333       irregular\n",
       "4             7           16.666667       irregular\n",
       "...         ...                 ...             ...\n",
       "162627   206203           25.000000       irregular\n",
       "162628   206206           14.285714       irregular\n",
       "162629   206207           14.285714       irregular\n",
       "162630   206208           14.285714       irregular\n",
       "162631   206209           16.666667       irregular\n",
       "\n",
       "[162632 rows x 3 columns]"
      ]
     },
     "execution_count": 32,
     "metadata": {},
     "output_type": "execute_result"
    }
   ],
   "source": [
    "# check of dataframe and flag\n",
    "day_avg_pcntg"
   ]
  },
  {
   "cell_type": "code",
   "execution_count": 33,
   "id": "fd5a4707",
   "metadata": {},
   "outputs": [
    {
     "data": {
      "text/plain": [
       "irregular    157732\n",
       "regular        4900\n",
       "Name: regularity_flag, dtype: int64"
      ]
     },
     "execution_count": 33,
     "metadata": {},
     "output_type": "execute_result"
    }
   ],
   "source": [
    "day_avg_pcntg['regularity_flag'].value_counts()"
   ]
  },
  {
   "cell_type": "markdown",
   "id": "52ef8e19",
   "metadata": {},
   "source": [
    "#### 6.3.3 Join regularity_flag to df_high"
   ]
  },
  {
   "cell_type": "code",
   "execution_count": 34,
   "id": "44e41496",
   "metadata": {
    "scrolled": true
   },
   "outputs": [],
   "source": [
    "# reduce memory consumption, delete df\n",
    "del df"
   ]
  },
  {
   "cell_type": "code",
   "execution_count": 35,
   "id": "724935a3",
   "metadata": {},
   "outputs": [],
   "source": [
    "day_avg_pcntg = day_avg_pcntg.drop('average_percentage', axis=1)"
   ]
  },
  {
   "cell_type": "code",
   "execution_count": 36,
   "id": "1400ef8c",
   "metadata": {},
   "outputs": [],
   "source": [
    "user_flags = df_high[['user_id','age_flag','income_flag']]"
   ]
  },
  {
   "cell_type": "code",
   "execution_count": 37,
   "id": "9f4497a2",
   "metadata": {},
   "outputs": [],
   "source": [
    "# Perform inner join and add regularity_flag column to user_flags\n",
    "user_flags = user_flags.merge(day_avg_pcntg[['user_id', 'regularity_flag']], on='user_id', how='inner')"
   ]
  },
  {
   "cell_type": "code",
   "execution_count": 38,
   "id": "54310aa2",
   "metadata": {},
   "outputs": [
    {
     "data": {
      "text/html": [
       "<div>\n",
       "<style scoped>\n",
       "    .dataframe tbody tr th:only-of-type {\n",
       "        vertical-align: middle;\n",
       "    }\n",
       "\n",
       "    .dataframe tbody tr th {\n",
       "        vertical-align: top;\n",
       "    }\n",
       "\n",
       "    .dataframe thead th {\n",
       "        text-align: right;\n",
       "    }\n",
       "</style>\n",
       "<table border=\"1\" class=\"dataframe\">\n",
       "  <thead>\n",
       "    <tr style=\"text-align: right;\">\n",
       "      <th></th>\n",
       "      <th>user_id</th>\n",
       "      <th>age_flag</th>\n",
       "      <th>income_flag</th>\n",
       "      <th>regularity_flag</th>\n",
       "    </tr>\n",
       "  </thead>\n",
       "  <tbody>\n",
       "    <tr>\n",
       "      <th>0</th>\n",
       "      <td>1</td>\n",
       "      <td>young_adult</td>\n",
       "      <td>low</td>\n",
       "      <td>irregular</td>\n",
       "    </tr>\n",
       "    <tr>\n",
       "      <th>1</th>\n",
       "      <td>1</td>\n",
       "      <td>young_adult</td>\n",
       "      <td>low</td>\n",
       "      <td>irregular</td>\n",
       "    </tr>\n",
       "    <tr>\n",
       "      <th>2</th>\n",
       "      <td>1</td>\n",
       "      <td>young_adult</td>\n",
       "      <td>low</td>\n",
       "      <td>irregular</td>\n",
       "    </tr>\n",
       "    <tr>\n",
       "      <th>3</th>\n",
       "      <td>1</td>\n",
       "      <td>young_adult</td>\n",
       "      <td>low</td>\n",
       "      <td>irregular</td>\n",
       "    </tr>\n",
       "    <tr>\n",
       "      <th>4</th>\n",
       "      <td>1</td>\n",
       "      <td>young_adult</td>\n",
       "      <td>low</td>\n",
       "      <td>irregular</td>\n",
       "    </tr>\n",
       "  </tbody>\n",
       "</table>\n",
       "</div>"
      ],
      "text/plain": [
       "   user_id     age_flag income_flag regularity_flag\n",
       "0        1  young_adult         low       irregular\n",
       "1        1  young_adult         low       irregular\n",
       "2        1  young_adult         low       irregular\n",
       "3        1  young_adult         low       irregular\n",
       "4        1  young_adult         low       irregular"
      ]
     },
     "execution_count": 38,
     "metadata": {},
     "output_type": "execute_result"
    }
   ],
   "source": [
    "# visual check of user_flags\n",
    "user_flags.head()"
   ]
  },
  {
   "cell_type": "code",
   "execution_count": 39,
   "id": "a916be51",
   "metadata": {},
   "outputs": [],
   "source": [
    "# drop duplicates\n",
    "user_flags = user_flags.drop_duplicates()"
   ]
  },
  {
   "cell_type": "markdown",
   "id": "148b6943",
   "metadata": {},
   "source": [
    "#### 6.3.4 Visualise distribution of regular customers"
   ]
  },
  {
   "cell_type": "code",
   "execution_count": 40,
   "id": "785596a5",
   "metadata": {},
   "outputs": [
    {
     "data": {
      "image/png": "[encoded data removed]",
      "text/plain": [
       "<Figure size 640x480 with 1 Axes>"
      ]
     },
     "metadata": {},
     "output_type": "display_data"
    }
   ],
   "source": [
    "# view pie chart of regularity_flag\n",
    "\n",
    "# Calculate the value counts of age_flag\n",
    "user_flag_counts = user_flags['regularity_flag'].value_counts()\n",
    "\n",
    "# Create a pie chart\n",
    "plt.pie(user_flag_counts, labels=user_flag_counts.index, autopct='%1.1f%%')\n",
    "\n",
    "# Set the title\n",
    "plt.title('Distribution of Regularity Flag')\n",
    "\n",
    "# Display the chart\n",
    "plt.show()\n"
   ]
  },
  {
   "cell_type": "markdown",
   "id": "4dc58733",
   "metadata": {},
   "source": [
    "This distribution may seem odd or surprising, however given that InstaCart is an online service and users are not as constrained by physical logistics, it makes sense that users would place orders on a more ad hoc basis as needed."
   ]
  },
  {
   "cell_type": "markdown",
   "id": "01dcbee7",
   "metadata": {},
   "source": [
    "### 6.4 Grocery type flag"
   ]
  },
  {
   "cell_type": "code",
   "execution_count": 41,
   "id": "0e6ae04a",
   "metadata": {},
   "outputs": [],
   "source": [
    "# import departments dataframe\n",
    "depts = pd.read_csv(os.path.join(path,'Prepared Data','departments_cleaned.csv'))"
   ]
  },
  {
   "cell_type": "code",
   "execution_count": 42,
   "id": "f6d623d4",
   "metadata": {},
   "outputs": [
    {
     "data": {
      "text/html": [
       "<div>\n",
       "<style scoped>\n",
       "    .dataframe tbody tr th:only-of-type {\n",
       "        vertical-align: middle;\n",
       "    }\n",
       "\n",
       "    .dataframe tbody tr th {\n",
       "        vertical-align: top;\n",
       "    }\n",
       "\n",
       "    .dataframe thead th {\n",
       "        text-align: right;\n",
       "    }\n",
       "</style>\n",
       "<table border=\"1\" class=\"dataframe\">\n",
       "  <thead>\n",
       "    <tr style=\"text-align: right;\">\n",
       "      <th></th>\n",
       "      <th>department_id</th>\n",
       "      <th>department</th>\n",
       "    </tr>\n",
       "  </thead>\n",
       "  <tbody>\n",
       "    <tr>\n",
       "      <th>0</th>\n",
       "      <td>1</td>\n",
       "      <td>frozen</td>\n",
       "    </tr>\n",
       "    <tr>\n",
       "      <th>1</th>\n",
       "      <td>2</td>\n",
       "      <td>other</td>\n",
       "    </tr>\n",
       "    <tr>\n",
       "      <th>2</th>\n",
       "      <td>3</td>\n",
       "      <td>bakery</td>\n",
       "    </tr>\n",
       "    <tr>\n",
       "      <th>3</th>\n",
       "      <td>4</td>\n",
       "      <td>produce</td>\n",
       "    </tr>\n",
       "    <tr>\n",
       "      <th>4</th>\n",
       "      <td>5</td>\n",
       "      <td>alcohol</td>\n",
       "    </tr>\n",
       "    <tr>\n",
       "      <th>5</th>\n",
       "      <td>6</td>\n",
       "      <td>international</td>\n",
       "    </tr>\n",
       "    <tr>\n",
       "      <th>6</th>\n",
       "      <td>7</td>\n",
       "      <td>beverages</td>\n",
       "    </tr>\n",
       "    <tr>\n",
       "      <th>7</th>\n",
       "      <td>8</td>\n",
       "      <td>pets</td>\n",
       "    </tr>\n",
       "    <tr>\n",
       "      <th>8</th>\n",
       "      <td>9</td>\n",
       "      <td>dry goods</td>\n",
       "    </tr>\n",
       "    <tr>\n",
       "      <th>9</th>\n",
       "      <td>10</td>\n",
       "      <td>bulk</td>\n",
       "    </tr>\n",
       "    <tr>\n",
       "      <th>10</th>\n",
       "      <td>11</td>\n",
       "      <td>personal care</td>\n",
       "    </tr>\n",
       "    <tr>\n",
       "      <th>11</th>\n",
       "      <td>12</td>\n",
       "      <td>meat seafood</td>\n",
       "    </tr>\n",
       "    <tr>\n",
       "      <th>12</th>\n",
       "      <td>13</td>\n",
       "      <td>pantry</td>\n",
       "    </tr>\n",
       "    <tr>\n",
       "      <th>13</th>\n",
       "      <td>14</td>\n",
       "      <td>breakfast</td>\n",
       "    </tr>\n",
       "    <tr>\n",
       "      <th>14</th>\n",
       "      <td>15</td>\n",
       "      <td>canned goods</td>\n",
       "    </tr>\n",
       "    <tr>\n",
       "      <th>15</th>\n",
       "      <td>16</td>\n",
       "      <td>dairy</td>\n",
       "    </tr>\n",
       "    <tr>\n",
       "      <th>16</th>\n",
       "      <td>17</td>\n",
       "      <td>household</td>\n",
       "    </tr>\n",
       "    <tr>\n",
       "      <th>17</th>\n",
       "      <td>18</td>\n",
       "      <td>babies</td>\n",
       "    </tr>\n",
       "    <tr>\n",
       "      <th>18</th>\n",
       "      <td>19</td>\n",
       "      <td>snacks</td>\n",
       "    </tr>\n",
       "    <tr>\n",
       "      <th>19</th>\n",
       "      <td>20</td>\n",
       "      <td>deli</td>\n",
       "    </tr>\n",
       "    <tr>\n",
       "      <th>20</th>\n",
       "      <td>21</td>\n",
       "      <td>missing</td>\n",
       "    </tr>\n",
       "  </tbody>\n",
       "</table>\n",
       "</div>"
      ],
      "text/plain": [
       "    department_id     department\n",
       "0               1         frozen\n",
       "1               2          other\n",
       "2               3         bakery\n",
       "3               4        produce\n",
       "4               5        alcohol\n",
       "5               6  international\n",
       "6               7      beverages\n",
       "7               8           pets\n",
       "8               9      dry goods\n",
       "9              10           bulk\n",
       "10             11  personal care\n",
       "11             12   meat seafood\n",
       "12             13         pantry\n",
       "13             14      breakfast\n",
       "14             15   canned goods\n",
       "15             16          dairy\n",
       "16             17      household\n",
       "17             18         babies\n",
       "18             19         snacks\n",
       "19             20           deli\n",
       "20             21        missing"
      ]
     },
     "execution_count": 42,
     "metadata": {},
     "output_type": "execute_result"
    }
   ],
   "source": [
    "# visual check of dataframe\n",
    "depts"
   ]
  },
  {
   "cell_type": "markdown",
   "id": "11b1bafc",
   "metadata": {},
   "source": [
    "#### 6.4.1 Create subset for grocery_flag"
   ]
  },
  {
   "cell_type": "code",
   "execution_count": 43,
   "id": "8ce3bc24",
   "metadata": {},
   "outputs": [],
   "source": [
    "# create groceries subset from df_high\n",
    "groceries = df_high[['user_id', 'department_id']].copy()"
   ]
  },
  {
   "cell_type": "code",
   "execution_count": 44,
   "id": "24777d60",
   "metadata": {},
   "outputs": [
    {
     "data": {
      "text/html": [
       "<div>\n",
       "<style scoped>\n",
       "    .dataframe tbody tr th:only-of-type {\n",
       "        vertical-align: middle;\n",
       "    }\n",
       "\n",
       "    .dataframe tbody tr th {\n",
       "        vertical-align: top;\n",
       "    }\n",
       "\n",
       "    .dataframe thead th {\n",
       "        text-align: right;\n",
       "    }\n",
       "</style>\n",
       "<table border=\"1\" class=\"dataframe\">\n",
       "  <thead>\n",
       "    <tr style=\"text-align: right;\">\n",
       "      <th></th>\n",
       "      <th>user_id</th>\n",
       "      <th>department_id</th>\n",
       "    </tr>\n",
       "  </thead>\n",
       "  <tbody>\n",
       "    <tr>\n",
       "      <th>0</th>\n",
       "      <td>1</td>\n",
       "      <td>7</td>\n",
       "    </tr>\n",
       "    <tr>\n",
       "      <th>1</th>\n",
       "      <td>1</td>\n",
       "      <td>7</td>\n",
       "    </tr>\n",
       "    <tr>\n",
       "      <th>2</th>\n",
       "      <td>1</td>\n",
       "      <td>7</td>\n",
       "    </tr>\n",
       "    <tr>\n",
       "      <th>3</th>\n",
       "      <td>1</td>\n",
       "      <td>7</td>\n",
       "    </tr>\n",
       "    <tr>\n",
       "      <th>4</th>\n",
       "      <td>1</td>\n",
       "      <td>7</td>\n",
       "    </tr>\n",
       "    <tr>\n",
       "      <th>...</th>\n",
       "      <td>...</td>\n",
       "      <td>...</td>\n",
       "    </tr>\n",
       "    <tr>\n",
       "      <th>32433021</th>\n",
       "      <td>106143</td>\n",
       "      <td>7</td>\n",
       "    </tr>\n",
       "    <tr>\n",
       "      <th>32433022</th>\n",
       "      <td>106143</td>\n",
       "      <td>7</td>\n",
       "    </tr>\n",
       "    <tr>\n",
       "      <th>32433023</th>\n",
       "      <td>106143</td>\n",
       "      <td>7</td>\n",
       "    </tr>\n",
       "    <tr>\n",
       "      <th>32433024</th>\n",
       "      <td>106143</td>\n",
       "      <td>7</td>\n",
       "    </tr>\n",
       "    <tr>\n",
       "      <th>32433025</th>\n",
       "      <td>106143</td>\n",
       "      <td>7</td>\n",
       "    </tr>\n",
       "  </tbody>\n",
       "</table>\n",
       "<p>30991533 rows × 2 columns</p>\n",
       "</div>"
      ],
      "text/plain": [
       "          user_id  department_id\n",
       "0               1              7\n",
       "1               1              7\n",
       "2               1              7\n",
       "3               1              7\n",
       "4               1              7\n",
       "...           ...            ...\n",
       "32433021   106143              7\n",
       "32433022   106143              7\n",
       "32433023   106143              7\n",
       "32433024   106143              7\n",
       "32433025   106143              7\n",
       "\n",
       "[30991533 rows x 2 columns]"
      ]
     },
     "execution_count": 44,
     "metadata": {},
     "output_type": "execute_result"
    }
   ],
   "source": [
    "groceries"
   ]
  },
  {
   "cell_type": "code",
   "execution_count": 45,
   "id": "b7932f0b",
   "metadata": {},
   "outputs": [],
   "source": [
    "# create frequency table of department_id\n",
    "grouped_user = groceries.groupby('user_id')['department_id'].value_counts().reset_index(name='frequency')"
   ]
  },
  {
   "cell_type": "code",
   "execution_count": 46,
   "id": "179e08bc",
   "metadata": {},
   "outputs": [
    {
     "data": {
      "text/html": [
       "<div>\n",
       "<style scoped>\n",
       "    .dataframe tbody tr th:only-of-type {\n",
       "        vertical-align: middle;\n",
       "    }\n",
       "\n",
       "    .dataframe tbody tr th {\n",
       "        vertical-align: top;\n",
       "    }\n",
       "\n",
       "    .dataframe thead th {\n",
       "        text-align: right;\n",
       "    }\n",
       "</style>\n",
       "<table border=\"1\" class=\"dataframe\">\n",
       "  <thead>\n",
       "    <tr style=\"text-align: right;\">\n",
       "      <th></th>\n",
       "      <th>user_id</th>\n",
       "      <th>department_id</th>\n",
       "      <th>frequency</th>\n",
       "    </tr>\n",
       "  </thead>\n",
       "  <tbody>\n",
       "    <tr>\n",
       "      <th>0</th>\n",
       "      <td>1</td>\n",
       "      <td>19</td>\n",
       "      <td>22</td>\n",
       "    </tr>\n",
       "    <tr>\n",
       "      <th>1</th>\n",
       "      <td>1</td>\n",
       "      <td>7</td>\n",
       "      <td>13</td>\n",
       "    </tr>\n",
       "    <tr>\n",
       "      <th>2</th>\n",
       "      <td>1</td>\n",
       "      <td>16</td>\n",
       "      <td>13</td>\n",
       "    </tr>\n",
       "    <tr>\n",
       "      <th>3</th>\n",
       "      <td>1</td>\n",
       "      <td>4</td>\n",
       "      <td>5</td>\n",
       "    </tr>\n",
       "    <tr>\n",
       "      <th>4</th>\n",
       "      <td>1</td>\n",
       "      <td>14</td>\n",
       "      <td>3</td>\n",
       "    </tr>\n",
       "    <tr>\n",
       "      <th>...</th>\n",
       "      <td>...</td>\n",
       "      <td>...</td>\n",
       "      <td>...</td>\n",
       "    </tr>\n",
       "    <tr>\n",
       "      <th>1882226</th>\n",
       "      <td>206209</td>\n",
       "      <td>20</td>\n",
       "      <td>6</td>\n",
       "    </tr>\n",
       "    <tr>\n",
       "      <th>1882227</th>\n",
       "      <td>206209</td>\n",
       "      <td>9</td>\n",
       "      <td>3</td>\n",
       "    </tr>\n",
       "    <tr>\n",
       "      <th>1882228</th>\n",
       "      <td>206209</td>\n",
       "      <td>1</td>\n",
       "      <td>2</td>\n",
       "    </tr>\n",
       "    <tr>\n",
       "      <th>1882229</th>\n",
       "      <td>206209</td>\n",
       "      <td>12</td>\n",
       "      <td>2</td>\n",
       "    </tr>\n",
       "    <tr>\n",
       "      <th>1882230</th>\n",
       "      <td>206209</td>\n",
       "      <td>6</td>\n",
       "      <td>1</td>\n",
       "    </tr>\n",
       "  </tbody>\n",
       "</table>\n",
       "<p>1882231 rows × 3 columns</p>\n",
       "</div>"
      ],
      "text/plain": [
       "         user_id  department_id  frequency\n",
       "0              1             19         22\n",
       "1              1              7         13\n",
       "2              1             16         13\n",
       "3              1              4          5\n",
       "4              1             14          3\n",
       "...          ...            ...        ...\n",
       "1882226   206209             20          6\n",
       "1882227   206209              9          3\n",
       "1882228   206209              1          2\n",
       "1882229   206209             12          2\n",
       "1882230   206209              6          1\n",
       "\n",
       "[1882231 rows x 3 columns]"
      ]
     },
     "execution_count": 46,
     "metadata": {},
     "output_type": "execute_result"
    }
   ],
   "source": [
    "# visual check of frequency table\n",
    "grouped_user"
   ]
  },
  {
   "cell_type": "code",
   "execution_count": 47,
   "id": "bf5acdb8",
   "metadata": {},
   "outputs": [
    {
     "name": "stderr",
     "output_type": "stream",
     "text": [
      "C:\\Users\\muril\\AppData\\Local\\Temp\\ipykernel_20804\\1557015141.py:2: FutureWarning: Not prepending group keys to the result index of transform-like apply. In the future, the group keys will be included in the index, regardless of whether the applied function returns a like-indexed object.\n",
      "To preserve the previous behavior, use\n",
      "\n",
      "\t>>> .groupby(..., group_keys=False)\n",
      "\n",
      "To adopt the future behavior and silence this warning, use \n",
      "\n",
      "\t>>> .groupby(..., group_keys=True)\n",
      "  grouped_user['percentage'] = grouped_user.groupby('user_id')['frequency'].apply(lambda x: x / x.sum() * 100)\n"
     ]
    }
   ],
   "source": [
    "# add percentages of the frequencies\n",
    "grouped_user['percentage'] = grouped_user.groupby('user_id')['frequency'].apply(lambda x: x / x.sum() * 100)"
   ]
  },
  {
   "cell_type": "code",
   "execution_count": 48,
   "id": "d118bd97",
   "metadata": {},
   "outputs": [
    {
     "data": {
      "text/html": [
       "<div>\n",
       "<style scoped>\n",
       "    .dataframe tbody tr th:only-of-type {\n",
       "        vertical-align: middle;\n",
       "    }\n",
       "\n",
       "    .dataframe tbody tr th {\n",
       "        vertical-align: top;\n",
       "    }\n",
       "\n",
       "    .dataframe thead th {\n",
       "        text-align: right;\n",
       "    }\n",
       "</style>\n",
       "<table border=\"1\" class=\"dataframe\">\n",
       "  <thead>\n",
       "    <tr style=\"text-align: right;\">\n",
       "      <th></th>\n",
       "      <th>user_id</th>\n",
       "      <th>department_id</th>\n",
       "      <th>frequency</th>\n",
       "      <th>percentage</th>\n",
       "    </tr>\n",
       "  </thead>\n",
       "  <tbody>\n",
       "    <tr>\n",
       "      <th>0</th>\n",
       "      <td>1</td>\n",
       "      <td>19</td>\n",
       "      <td>22</td>\n",
       "      <td>37.288136</td>\n",
       "    </tr>\n",
       "    <tr>\n",
       "      <th>1</th>\n",
       "      <td>1</td>\n",
       "      <td>7</td>\n",
       "      <td>13</td>\n",
       "      <td>22.033898</td>\n",
       "    </tr>\n",
       "    <tr>\n",
       "      <th>2</th>\n",
       "      <td>1</td>\n",
       "      <td>16</td>\n",
       "      <td>13</td>\n",
       "      <td>22.033898</td>\n",
       "    </tr>\n",
       "    <tr>\n",
       "      <th>3</th>\n",
       "      <td>1</td>\n",
       "      <td>4</td>\n",
       "      <td>5</td>\n",
       "      <td>8.474576</td>\n",
       "    </tr>\n",
       "    <tr>\n",
       "      <th>4</th>\n",
       "      <td>1</td>\n",
       "      <td>14</td>\n",
       "      <td>3</td>\n",
       "      <td>5.084746</td>\n",
       "    </tr>\n",
       "    <tr>\n",
       "      <th>...</th>\n",
       "      <td>...</td>\n",
       "      <td>...</td>\n",
       "      <td>...</td>\n",
       "      <td>...</td>\n",
       "    </tr>\n",
       "    <tr>\n",
       "      <th>1882226</th>\n",
       "      <td>206209</td>\n",
       "      <td>20</td>\n",
       "      <td>6</td>\n",
       "      <td>4.651163</td>\n",
       "    </tr>\n",
       "    <tr>\n",
       "      <th>1882227</th>\n",
       "      <td>206209</td>\n",
       "      <td>9</td>\n",
       "      <td>3</td>\n",
       "      <td>2.325581</td>\n",
       "    </tr>\n",
       "    <tr>\n",
       "      <th>1882228</th>\n",
       "      <td>206209</td>\n",
       "      <td>1</td>\n",
       "      <td>2</td>\n",
       "      <td>1.550388</td>\n",
       "    </tr>\n",
       "    <tr>\n",
       "      <th>1882229</th>\n",
       "      <td>206209</td>\n",
       "      <td>12</td>\n",
       "      <td>2</td>\n",
       "      <td>1.550388</td>\n",
       "    </tr>\n",
       "    <tr>\n",
       "      <th>1882230</th>\n",
       "      <td>206209</td>\n",
       "      <td>6</td>\n",
       "      <td>1</td>\n",
       "      <td>0.775194</td>\n",
       "    </tr>\n",
       "  </tbody>\n",
       "</table>\n",
       "<p>1882231 rows × 4 columns</p>\n",
       "</div>"
      ],
      "text/plain": [
       "         user_id  department_id  frequency  percentage\n",
       "0              1             19         22   37.288136\n",
       "1              1              7         13   22.033898\n",
       "2              1             16         13   22.033898\n",
       "3              1              4          5    8.474576\n",
       "4              1             14          3    5.084746\n",
       "...          ...            ...        ...         ...\n",
       "1882226   206209             20          6    4.651163\n",
       "1882227   206209              9          3    2.325581\n",
       "1882228   206209              1          2    1.550388\n",
       "1882229   206209             12          2    1.550388\n",
       "1882230   206209              6          1    0.775194\n",
       "\n",
       "[1882231 rows x 4 columns]"
      ]
     },
     "execution_count": 48,
     "metadata": {},
     "output_type": "execute_result"
    }
   ],
   "source": [
    "# visual check of frequency table\n",
    "grouped_user"
   ]
  },
  {
   "cell_type": "code",
   "execution_count": 49,
   "id": "59519784",
   "metadata": {},
   "outputs": [],
   "source": [
    "# rename depts column to prepare for joining\n",
    "depts = depts.rename(columns={'Unnamed: 0': 'department_id'})"
   ]
  },
  {
   "cell_type": "code",
   "execution_count": 50,
   "id": "29f8f0b1",
   "metadata": {},
   "outputs": [],
   "source": [
    "# join depts to grouped_user\n",
    "groceries_merged = grouped_user.merge(depts, on='department_id', how='inner')\n"
   ]
  },
  {
   "cell_type": "code",
   "execution_count": 51,
   "id": "164f4f48",
   "metadata": {},
   "outputs": [
    {
     "data": {
      "text/html": [
       "<div>\n",
       "<style scoped>\n",
       "    .dataframe tbody tr th:only-of-type {\n",
       "        vertical-align: middle;\n",
       "    }\n",
       "\n",
       "    .dataframe tbody tr th {\n",
       "        vertical-align: top;\n",
       "    }\n",
       "\n",
       "    .dataframe thead th {\n",
       "        text-align: right;\n",
       "    }\n",
       "</style>\n",
       "<table border=\"1\" class=\"dataframe\">\n",
       "  <thead>\n",
       "    <tr style=\"text-align: right;\">\n",
       "      <th></th>\n",
       "      <th>user_id</th>\n",
       "      <th>department_id</th>\n",
       "      <th>frequency</th>\n",
       "      <th>percentage</th>\n",
       "      <th>department</th>\n",
       "    </tr>\n",
       "  </thead>\n",
       "  <tbody>\n",
       "    <tr>\n",
       "      <th>0</th>\n",
       "      <td>1</td>\n",
       "      <td>19</td>\n",
       "      <td>22</td>\n",
       "      <td>37.288136</td>\n",
       "      <td>snacks</td>\n",
       "    </tr>\n",
       "    <tr>\n",
       "      <th>1</th>\n",
       "      <td>2</td>\n",
       "      <td>19</td>\n",
       "      <td>42</td>\n",
       "      <td>21.538462</td>\n",
       "      <td>snacks</td>\n",
       "    </tr>\n",
       "    <tr>\n",
       "      <th>2</th>\n",
       "      <td>3</td>\n",
       "      <td>19</td>\n",
       "      <td>9</td>\n",
       "      <td>10.227273</td>\n",
       "      <td>snacks</td>\n",
       "    </tr>\n",
       "    <tr>\n",
       "      <th>3</th>\n",
       "      <td>4</td>\n",
       "      <td>19</td>\n",
       "      <td>1</td>\n",
       "      <td>5.555556</td>\n",
       "      <td>snacks</td>\n",
       "    </tr>\n",
       "    <tr>\n",
       "      <th>4</th>\n",
       "      <td>7</td>\n",
       "      <td>19</td>\n",
       "      <td>19</td>\n",
       "      <td>9.223301</td>\n",
       "      <td>snacks</td>\n",
       "    </tr>\n",
       "    <tr>\n",
       "      <th>...</th>\n",
       "      <td>...</td>\n",
       "      <td>...</td>\n",
       "      <td>...</td>\n",
       "      <td>...</td>\n",
       "      <td>...</td>\n",
       "    </tr>\n",
       "    <tr>\n",
       "      <th>1882226</th>\n",
       "      <td>206103</td>\n",
       "      <td>10</td>\n",
       "      <td>1</td>\n",
       "      <td>0.340136</td>\n",
       "      <td>bulk</td>\n",
       "    </tr>\n",
       "    <tr>\n",
       "      <th>1882227</th>\n",
       "      <td>206105</td>\n",
       "      <td>10</td>\n",
       "      <td>1</td>\n",
       "      <td>0.165289</td>\n",
       "      <td>bulk</td>\n",
       "    </tr>\n",
       "    <tr>\n",
       "      <th>1882228</th>\n",
       "      <td>206108</td>\n",
       "      <td>10</td>\n",
       "      <td>2</td>\n",
       "      <td>0.351494</td>\n",
       "      <td>bulk</td>\n",
       "    </tr>\n",
       "    <tr>\n",
       "      <th>1882229</th>\n",
       "      <td>206148</td>\n",
       "      <td>10</td>\n",
       "      <td>1</td>\n",
       "      <td>0.418410</td>\n",
       "      <td>bulk</td>\n",
       "    </tr>\n",
       "    <tr>\n",
       "      <th>1882230</th>\n",
       "      <td>206203</td>\n",
       "      <td>10</td>\n",
       "      <td>1</td>\n",
       "      <td>0.840336</td>\n",
       "      <td>bulk</td>\n",
       "    </tr>\n",
       "  </tbody>\n",
       "</table>\n",
       "<p>1882231 rows × 5 columns</p>\n",
       "</div>"
      ],
      "text/plain": [
       "         user_id  department_id  frequency  percentage department\n",
       "0              1             19         22   37.288136     snacks\n",
       "1              2             19         42   21.538462     snacks\n",
       "2              3             19          9   10.227273     snacks\n",
       "3              4             19          1    5.555556     snacks\n",
       "4              7             19         19    9.223301     snacks\n",
       "...          ...            ...        ...         ...        ...\n",
       "1882226   206103             10          1    0.340136       bulk\n",
       "1882227   206105             10          1    0.165289       bulk\n",
       "1882228   206108             10          2    0.351494       bulk\n",
       "1882229   206148             10          1    0.418410       bulk\n",
       "1882230   206203             10          1    0.840336       bulk\n",
       "\n",
       "[1882231 rows x 5 columns]"
      ]
     },
     "execution_count": 51,
     "metadata": {},
     "output_type": "execute_result"
    }
   ],
   "source": [
    "# check merge\n",
    "groceries_merged"
   ]
  },
  {
   "cell_type": "code",
   "execution_count": 52,
   "id": "9048abf5",
   "metadata": {},
   "outputs": [],
   "source": [
    "# add unique department_id count by user_id to groceries_merged\n",
    "groceries_merged['diversity_count'] = groceries_merged.groupby('user_id')['department_id'].transform('nunique')"
   ]
  },
  {
   "cell_type": "code",
   "execution_count": 53,
   "id": "63fd8718",
   "metadata": {},
   "outputs": [
    {
     "data": {
      "text/html": [
       "<div>\n",
       "<style scoped>\n",
       "    .dataframe tbody tr th:only-of-type {\n",
       "        vertical-align: middle;\n",
       "    }\n",
       "\n",
       "    .dataframe tbody tr th {\n",
       "        vertical-align: top;\n",
       "    }\n",
       "\n",
       "    .dataframe thead th {\n",
       "        text-align: right;\n",
       "    }\n",
       "</style>\n",
       "<table border=\"1\" class=\"dataframe\">\n",
       "  <thead>\n",
       "    <tr style=\"text-align: right;\">\n",
       "      <th></th>\n",
       "      <th>user_id</th>\n",
       "      <th>department_id</th>\n",
       "      <th>frequency</th>\n",
       "      <th>percentage</th>\n",
       "      <th>department</th>\n",
       "      <th>diversity_count</th>\n",
       "    </tr>\n",
       "  </thead>\n",
       "  <tbody>\n",
       "    <tr>\n",
       "      <th>0</th>\n",
       "      <td>1</td>\n",
       "      <td>19</td>\n",
       "      <td>22</td>\n",
       "      <td>37.288136</td>\n",
       "      <td>snacks</td>\n",
       "      <td>7</td>\n",
       "    </tr>\n",
       "    <tr>\n",
       "      <th>1</th>\n",
       "      <td>2</td>\n",
       "      <td>19</td>\n",
       "      <td>42</td>\n",
       "      <td>21.538462</td>\n",
       "      <td>snacks</td>\n",
       "      <td>13</td>\n",
       "    </tr>\n",
       "    <tr>\n",
       "      <th>2</th>\n",
       "      <td>3</td>\n",
       "      <td>19</td>\n",
       "      <td>9</td>\n",
       "      <td>10.227273</td>\n",
       "      <td>snacks</td>\n",
       "      <td>9</td>\n",
       "    </tr>\n",
       "    <tr>\n",
       "      <th>3</th>\n",
       "      <td>4</td>\n",
       "      <td>19</td>\n",
       "      <td>1</td>\n",
       "      <td>5.555556</td>\n",
       "      <td>snacks</td>\n",
       "      <td>9</td>\n",
       "    </tr>\n",
       "    <tr>\n",
       "      <th>4</th>\n",
       "      <td>7</td>\n",
       "      <td>19</td>\n",
       "      <td>19</td>\n",
       "      <td>9.223301</td>\n",
       "      <td>snacks</td>\n",
       "      <td>12</td>\n",
       "    </tr>\n",
       "    <tr>\n",
       "      <th>...</th>\n",
       "      <td>...</td>\n",
       "      <td>...</td>\n",
       "      <td>...</td>\n",
       "      <td>...</td>\n",
       "      <td>...</td>\n",
       "      <td>...</td>\n",
       "    </tr>\n",
       "    <tr>\n",
       "      <th>1882226</th>\n",
       "      <td>206103</td>\n",
       "      <td>10</td>\n",
       "      <td>1</td>\n",
       "      <td>0.340136</td>\n",
       "      <td>bulk</td>\n",
       "      <td>15</td>\n",
       "    </tr>\n",
       "    <tr>\n",
       "      <th>1882227</th>\n",
       "      <td>206105</td>\n",
       "      <td>10</td>\n",
       "      <td>1</td>\n",
       "      <td>0.165289</td>\n",
       "      <td>bulk</td>\n",
       "      <td>16</td>\n",
       "    </tr>\n",
       "    <tr>\n",
       "      <th>1882228</th>\n",
       "      <td>206108</td>\n",
       "      <td>10</td>\n",
       "      <td>2</td>\n",
       "      <td>0.351494</td>\n",
       "      <td>bulk</td>\n",
       "      <td>16</td>\n",
       "    </tr>\n",
       "    <tr>\n",
       "      <th>1882229</th>\n",
       "      <td>206148</td>\n",
       "      <td>10</td>\n",
       "      <td>1</td>\n",
       "      <td>0.418410</td>\n",
       "      <td>bulk</td>\n",
       "      <td>15</td>\n",
       "    </tr>\n",
       "    <tr>\n",
       "      <th>1882230</th>\n",
       "      <td>206203</td>\n",
       "      <td>10</td>\n",
       "      <td>1</td>\n",
       "      <td>0.840336</td>\n",
       "      <td>bulk</td>\n",
       "      <td>13</td>\n",
       "    </tr>\n",
       "  </tbody>\n",
       "</table>\n",
       "<p>1882231 rows × 6 columns</p>\n",
       "</div>"
      ],
      "text/plain": [
       "         user_id  department_id  frequency  percentage department  \\\n",
       "0              1             19         22   37.288136     snacks   \n",
       "1              2             19         42   21.538462     snacks   \n",
       "2              3             19          9   10.227273     snacks   \n",
       "3              4             19          1    5.555556     snacks   \n",
       "4              7             19         19    9.223301     snacks   \n",
       "...          ...            ...        ...         ...        ...   \n",
       "1882226   206103             10          1    0.340136       bulk   \n",
       "1882227   206105             10          1    0.165289       bulk   \n",
       "1882228   206108             10          2    0.351494       bulk   \n",
       "1882229   206148             10          1    0.418410       bulk   \n",
       "1882230   206203             10          1    0.840336       bulk   \n",
       "\n",
       "         diversity_count  \n",
       "0                      7  \n",
       "1                     13  \n",
       "2                      9  \n",
       "3                      9  \n",
       "4                     12  \n",
       "...                  ...  \n",
       "1882226               15  \n",
       "1882227               16  \n",
       "1882228               16  \n",
       "1882229               15  \n",
       "1882230               13  \n",
       "\n",
       "[1882231 rows x 6 columns]"
      ]
     },
     "execution_count": 53,
     "metadata": {},
     "output_type": "execute_result"
    }
   ],
   "source": [
    "# visual check of groceries merged\n",
    "groceries_merged"
   ]
  },
  {
   "cell_type": "code",
   "execution_count": 54,
   "id": "bb3bb4d3",
   "metadata": {},
   "outputs": [
    {
     "data": {
      "text/html": [
       "<div>\n",
       "<style scoped>\n",
       "    .dataframe tbody tr th:only-of-type {\n",
       "        vertical-align: middle;\n",
       "    }\n",
       "\n",
       "    .dataframe tbody tr th {\n",
       "        vertical-align: top;\n",
       "    }\n",
       "\n",
       "    .dataframe thead th {\n",
       "        text-align: right;\n",
       "    }\n",
       "</style>\n",
       "<table border=\"1\" class=\"dataframe\">\n",
       "  <thead>\n",
       "    <tr style=\"text-align: right;\">\n",
       "      <th></th>\n",
       "      <th>user_id</th>\n",
       "      <th>department_id</th>\n",
       "      <th>frequency</th>\n",
       "      <th>percentage</th>\n",
       "      <th>department</th>\n",
       "      <th>diversity_count</th>\n",
       "    </tr>\n",
       "  </thead>\n",
       "  <tbody>\n",
       "    <tr>\n",
       "      <th>0</th>\n",
       "      <td>1</td>\n",
       "      <td>19</td>\n",
       "      <td>22</td>\n",
       "      <td>37.288136</td>\n",
       "      <td>snacks</td>\n",
       "      <td>7</td>\n",
       "    </tr>\n",
       "    <tr>\n",
       "      <th>144544</th>\n",
       "      <td>1</td>\n",
       "      <td>7</td>\n",
       "      <td>13</td>\n",
       "      <td>22.033898</td>\n",
       "      <td>beverages</td>\n",
       "      <td>7</td>\n",
       "    </tr>\n",
       "    <tr>\n",
       "      <th>287285</th>\n",
       "      <td>1</td>\n",
       "      <td>16</td>\n",
       "      <td>13</td>\n",
       "      <td>22.033898</td>\n",
       "      <td>dairy</td>\n",
       "      <td>7</td>\n",
       "    </tr>\n",
       "    <tr>\n",
       "      <th>440896</th>\n",
       "      <td>1</td>\n",
       "      <td>4</td>\n",
       "      <td>5</td>\n",
       "      <td>8.474576</td>\n",
       "      <td>produce</td>\n",
       "      <td>7</td>\n",
       "    </tr>\n",
       "    <tr>\n",
       "      <th>595958</th>\n",
       "      <td>1</td>\n",
       "      <td>14</td>\n",
       "      <td>3</td>\n",
       "      <td>5.084746</td>\n",
       "      <td>breakfast</td>\n",
       "      <td>7</td>\n",
       "    </tr>\n",
       "    <tr>\n",
       "      <th>...</th>\n",
       "      <td>...</td>\n",
       "      <td>...</td>\n",
       "      <td>...</td>\n",
       "      <td>...</td>\n",
       "      <td>...</td>\n",
       "      <td>...</td>\n",
       "    </tr>\n",
       "    <tr>\n",
       "      <th>1049082</th>\n",
       "      <td>206209</td>\n",
       "      <td>20</td>\n",
       "      <td>6</td>\n",
       "      <td>4.651163</td>\n",
       "      <td>deli</td>\n",
       "      <td>14</td>\n",
       "    </tr>\n",
       "    <tr>\n",
       "      <th>1772532</th>\n",
       "      <td>206209</td>\n",
       "      <td>9</td>\n",
       "      <td>3</td>\n",
       "      <td>2.325581</td>\n",
       "      <td>dry goods</td>\n",
       "      <td>14</td>\n",
       "    </tr>\n",
       "    <tr>\n",
       "      <th>1184533</th>\n",
       "      <td>206209</td>\n",
       "      <td>1</td>\n",
       "      <td>2</td>\n",
       "      <td>1.550388</td>\n",
       "      <td>frozen</td>\n",
       "      <td>14</td>\n",
       "    </tr>\n",
       "    <tr>\n",
       "      <th>1552332</th>\n",
       "      <td>206209</td>\n",
       "      <td>12</td>\n",
       "      <td>2</td>\n",
       "      <td>1.550388</td>\n",
       "      <td>meat seafood</td>\n",
       "      <td>14</td>\n",
       "    </tr>\n",
       "    <tr>\n",
       "      <th>1253074</th>\n",
       "      <td>206209</td>\n",
       "      <td>6</td>\n",
       "      <td>1</td>\n",
       "      <td>0.775194</td>\n",
       "      <td>international</td>\n",
       "      <td>14</td>\n",
       "    </tr>\n",
       "  </tbody>\n",
       "</table>\n",
       "<p>1882231 rows × 6 columns</p>\n",
       "</div>"
      ],
      "text/plain": [
       "         user_id  department_id  frequency  percentage     department  \\\n",
       "0              1             19         22   37.288136         snacks   \n",
       "144544         1              7         13   22.033898      beverages   \n",
       "287285         1             16         13   22.033898          dairy   \n",
       "440896         1              4          5    8.474576        produce   \n",
       "595958         1             14          3    5.084746      breakfast   \n",
       "...          ...            ...        ...         ...            ...   \n",
       "1049082   206209             20          6    4.651163           deli   \n",
       "1772532   206209              9          3    2.325581      dry goods   \n",
       "1184533   206209              1          2    1.550388         frozen   \n",
       "1552332   206209             12          2    1.550388   meat seafood   \n",
       "1253074   206209              6          1    0.775194  international   \n",
       "\n",
       "         diversity_count  \n",
       "0                      7  \n",
       "144544                 7  \n",
       "287285                 7  \n",
       "440896                 7  \n",
       "595958                 7  \n",
       "...                  ...  \n",
       "1049082               14  \n",
       "1772532               14  \n",
       "1184533               14  \n",
       "1552332               14  \n",
       "1253074               14  \n",
       "\n",
       "[1882231 rows x 6 columns]"
      ]
     },
     "execution_count": 54,
     "metadata": {},
     "output_type": "execute_result"
    }
   ],
   "source": [
    "groceries_merged = groceries_merged.sort_values(['user_id', 'frequency'], ascending=[True, False])\n",
    "groceries_merged"
   ]
  },
  {
   "cell_type": "code",
   "execution_count": 55,
   "id": "5bcc1211",
   "metadata": {},
   "outputs": [
    {
     "data": {
      "text/plain": [
       "count    1.882231e+06\n",
       "mean     1.268024e+01\n",
       "std      3.060886e+00\n",
       "min      1.000000e+00\n",
       "25%      1.100000e+01\n",
       "50%      1.300000e+01\n",
       "75%      1.500000e+01\n",
       "max      2.100000e+01\n",
       "Name: diversity_count, dtype: float64"
      ]
     },
     "execution_count": 55,
     "metadata": {},
     "output_type": "execute_result"
    }
   ],
   "source": [
    "# find summary statistics of diversity count\n",
    "groceries_merged['diversity_count'].describe()"
   ]
  },
  {
   "cell_type": "code",
   "execution_count": 56,
   "id": "09d00788",
   "metadata": {},
   "outputs": [],
   "source": [
    "# create subset that keeps only the top 3 department_id's for each customer\n",
    "groceries_reduced = groceries_merged.groupby('user_id').apply(lambda x: x.nlargest(3, 'frequency')).reset_index(drop=True)"
   ]
  },
  {
   "cell_type": "code",
   "execution_count": 57,
   "id": "c252e7ee",
   "metadata": {},
   "outputs": [
    {
     "data": {
      "text/html": [
       "<div>\n",
       "<style scoped>\n",
       "    .dataframe tbody tr th:only-of-type {\n",
       "        vertical-align: middle;\n",
       "    }\n",
       "\n",
       "    .dataframe tbody tr th {\n",
       "        vertical-align: top;\n",
       "    }\n",
       "\n",
       "    .dataframe thead th {\n",
       "        text-align: right;\n",
       "    }\n",
       "</style>\n",
       "<table border=\"1\" class=\"dataframe\">\n",
       "  <thead>\n",
       "    <tr style=\"text-align: right;\">\n",
       "      <th></th>\n",
       "      <th>user_id</th>\n",
       "      <th>department_id</th>\n",
       "      <th>frequency</th>\n",
       "      <th>percentage</th>\n",
       "      <th>department</th>\n",
       "      <th>diversity_count</th>\n",
       "    </tr>\n",
       "  </thead>\n",
       "  <tbody>\n",
       "    <tr>\n",
       "      <th>0</th>\n",
       "      <td>1</td>\n",
       "      <td>19</td>\n",
       "      <td>22</td>\n",
       "      <td>37.288136</td>\n",
       "      <td>snacks</td>\n",
       "      <td>7</td>\n",
       "    </tr>\n",
       "    <tr>\n",
       "      <th>1</th>\n",
       "      <td>1</td>\n",
       "      <td>7</td>\n",
       "      <td>13</td>\n",
       "      <td>22.033898</td>\n",
       "      <td>beverages</td>\n",
       "      <td>7</td>\n",
       "    </tr>\n",
       "    <tr>\n",
       "      <th>2</th>\n",
       "      <td>1</td>\n",
       "      <td>16</td>\n",
       "      <td>13</td>\n",
       "      <td>22.033898</td>\n",
       "      <td>dairy</td>\n",
       "      <td>7</td>\n",
       "    </tr>\n",
       "    <tr>\n",
       "      <th>3</th>\n",
       "      <td>2</td>\n",
       "      <td>16</td>\n",
       "      <td>48</td>\n",
       "      <td>24.615385</td>\n",
       "      <td>dairy</td>\n",
       "      <td>13</td>\n",
       "    </tr>\n",
       "    <tr>\n",
       "      <th>4</th>\n",
       "      <td>2</td>\n",
       "      <td>19</td>\n",
       "      <td>42</td>\n",
       "      <td>21.538462</td>\n",
       "      <td>snacks</td>\n",
       "      <td>13</td>\n",
       "    </tr>\n",
       "    <tr>\n",
       "      <th>...</th>\n",
       "      <td>...</td>\n",
       "      <td>...</td>\n",
       "      <td>...</td>\n",
       "      <td>...</td>\n",
       "      <td>...</td>\n",
       "      <td>...</td>\n",
       "    </tr>\n",
       "    <tr>\n",
       "      <th>485519</th>\n",
       "      <td>206208</td>\n",
       "      <td>16</td>\n",
       "      <td>161</td>\n",
       "      <td>23.781388</td>\n",
       "      <td>dairy</td>\n",
       "      <td>17</td>\n",
       "    </tr>\n",
       "    <tr>\n",
       "      <th>485520</th>\n",
       "      <td>206208</td>\n",
       "      <td>3</td>\n",
       "      <td>62</td>\n",
       "      <td>9.158050</td>\n",
       "      <td>bakery</td>\n",
       "      <td>17</td>\n",
       "    </tr>\n",
       "    <tr>\n",
       "      <th>485521</th>\n",
       "      <td>206209</td>\n",
       "      <td>16</td>\n",
       "      <td>28</td>\n",
       "      <td>21.705426</td>\n",
       "      <td>dairy</td>\n",
       "      <td>14</td>\n",
       "    </tr>\n",
       "    <tr>\n",
       "      <th>485522</th>\n",
       "      <td>206209</td>\n",
       "      <td>4</td>\n",
       "      <td>19</td>\n",
       "      <td>14.728682</td>\n",
       "      <td>produce</td>\n",
       "      <td>14</td>\n",
       "    </tr>\n",
       "    <tr>\n",
       "      <th>485523</th>\n",
       "      <td>206209</td>\n",
       "      <td>17</td>\n",
       "      <td>14</td>\n",
       "      <td>10.852713</td>\n",
       "      <td>household</td>\n",
       "      <td>14</td>\n",
       "    </tr>\n",
       "  </tbody>\n",
       "</table>\n",
       "<p>485524 rows × 6 columns</p>\n",
       "</div>"
      ],
      "text/plain": [
       "        user_id  department_id  frequency  percentage department  \\\n",
       "0             1             19         22   37.288136     snacks   \n",
       "1             1              7         13   22.033898  beverages   \n",
       "2             1             16         13   22.033898      dairy   \n",
       "3             2             16         48   24.615385      dairy   \n",
       "4             2             19         42   21.538462     snacks   \n",
       "...         ...            ...        ...         ...        ...   \n",
       "485519   206208             16        161   23.781388      dairy   \n",
       "485520   206208              3         62    9.158050     bakery   \n",
       "485521   206209             16         28   21.705426      dairy   \n",
       "485522   206209              4         19   14.728682    produce   \n",
       "485523   206209             17         14   10.852713  household   \n",
       "\n",
       "        diversity_count  \n",
       "0                     7  \n",
       "1                     7  \n",
       "2                     7  \n",
       "3                    13  \n",
       "4                    13  \n",
       "...                 ...  \n",
       "485519               17  \n",
       "485520               17  \n",
       "485521               14  \n",
       "485522               14  \n",
       "485523               14  \n",
       "\n",
       "[485524 rows x 6 columns]"
      ]
     },
     "execution_count": 57,
     "metadata": {},
     "output_type": "execute_result"
    }
   ],
   "source": [
    "# visual check of subset\n",
    "groceries_reduced"
   ]
  },
  {
   "cell_type": "code",
   "execution_count": 58,
   "id": "1addadfb",
   "metadata": {},
   "outputs": [],
   "source": [
    "# create subset of user_id, top departments and diversity_count\n",
    "groceries_top = groceries_reduced.astype({'department_id': str}).groupby('user_id').agg({'diversity_count': 'first', 'department_id': ', '.join, 'department': ', '.join}).reset_index()"
   ]
  },
  {
   "cell_type": "code",
   "execution_count": 59,
   "id": "ec3540d8",
   "metadata": {},
   "outputs": [
    {
     "data": {
      "text/html": [
       "<div>\n",
       "<style scoped>\n",
       "    .dataframe tbody tr th:only-of-type {\n",
       "        vertical-align: middle;\n",
       "    }\n",
       "\n",
       "    .dataframe tbody tr th {\n",
       "        vertical-align: top;\n",
       "    }\n",
       "\n",
       "    .dataframe thead th {\n",
       "        text-align: right;\n",
       "    }\n",
       "</style>\n",
       "<table border=\"1\" class=\"dataframe\">\n",
       "  <thead>\n",
       "    <tr style=\"text-align: right;\">\n",
       "      <th></th>\n",
       "      <th>user_id</th>\n",
       "      <th>diversity_count</th>\n",
       "      <th>department_id</th>\n",
       "      <th>department</th>\n",
       "    </tr>\n",
       "  </thead>\n",
       "  <tbody>\n",
       "    <tr>\n",
       "      <th>0</th>\n",
       "      <td>1</td>\n",
       "      <td>7</td>\n",
       "      <td>19, 7, 16</td>\n",
       "      <td>snacks, beverages, dairy</td>\n",
       "    </tr>\n",
       "    <tr>\n",
       "      <th>1</th>\n",
       "      <td>2</td>\n",
       "      <td>13</td>\n",
       "      <td>16, 19, 4</td>\n",
       "      <td>dairy, snacks, produce</td>\n",
       "    </tr>\n",
       "    <tr>\n",
       "      <th>2</th>\n",
       "      <td>3</td>\n",
       "      <td>9</td>\n",
       "      <td>4, 16, 19</td>\n",
       "      <td>produce, dairy, snacks</td>\n",
       "    </tr>\n",
       "    <tr>\n",
       "      <th>3</th>\n",
       "      <td>4</td>\n",
       "      <td>9</td>\n",
       "      <td>7, 1, 4</td>\n",
       "      <td>beverages, frozen, produce</td>\n",
       "    </tr>\n",
       "    <tr>\n",
       "      <th>4</th>\n",
       "      <td>7</td>\n",
       "      <td>12</td>\n",
       "      <td>4, 7, 16</td>\n",
       "      <td>produce, beverages, dairy</td>\n",
       "    </tr>\n",
       "    <tr>\n",
       "      <th>...</th>\n",
       "      <td>...</td>\n",
       "      <td>...</td>\n",
       "      <td>...</td>\n",
       "      <td>...</td>\n",
       "    </tr>\n",
       "    <tr>\n",
       "      <th>162627</th>\n",
       "      <td>206203</td>\n",
       "      <td>13</td>\n",
       "      <td>4, 7, 16</td>\n",
       "      <td>produce, beverages, dairy</td>\n",
       "    </tr>\n",
       "    <tr>\n",
       "      <th>162628</th>\n",
       "      <td>206206</td>\n",
       "      <td>16</td>\n",
       "      <td>1, 19, 16</td>\n",
       "      <td>frozen, snacks, dairy</td>\n",
       "    </tr>\n",
       "    <tr>\n",
       "      <th>162629</th>\n",
       "      <td>206207</td>\n",
       "      <td>14</td>\n",
       "      <td>16, 4, 19</td>\n",
       "      <td>dairy, produce, snacks</td>\n",
       "    </tr>\n",
       "    <tr>\n",
       "      <th>162630</th>\n",
       "      <td>206208</td>\n",
       "      <td>17</td>\n",
       "      <td>4, 16, 3</td>\n",
       "      <td>produce, dairy, bakery</td>\n",
       "    </tr>\n",
       "    <tr>\n",
       "      <th>162631</th>\n",
       "      <td>206209</td>\n",
       "      <td>14</td>\n",
       "      <td>16, 4, 17</td>\n",
       "      <td>dairy, produce, household</td>\n",
       "    </tr>\n",
       "  </tbody>\n",
       "</table>\n",
       "<p>162632 rows × 4 columns</p>\n",
       "</div>"
      ],
      "text/plain": [
       "        user_id  diversity_count department_id                  department\n",
       "0             1                7     19, 7, 16    snacks, beverages, dairy\n",
       "1             2               13     16, 19, 4      dairy, snacks, produce\n",
       "2             3                9     4, 16, 19      produce, dairy, snacks\n",
       "3             4                9       7, 1, 4  beverages, frozen, produce\n",
       "4             7               12      4, 7, 16   produce, beverages, dairy\n",
       "...         ...              ...           ...                         ...\n",
       "162627   206203               13      4, 7, 16   produce, beverages, dairy\n",
       "162628   206206               16     1, 19, 16       frozen, snacks, dairy\n",
       "162629   206207               14     16, 4, 19      dairy, produce, snacks\n",
       "162630   206208               17      4, 16, 3      produce, dairy, bakery\n",
       "162631   206209               14     16, 4, 17   dairy, produce, household\n",
       "\n",
       "[162632 rows x 4 columns]"
      ]
     },
     "execution_count": 59,
     "metadata": {},
     "output_type": "execute_result"
    }
   ],
   "source": [
    "# visual check\n",
    "groceries_top"
   ]
  },
  {
   "cell_type": "markdown",
   "id": "af4e9315",
   "metadata": {},
   "source": [
    "#### 6.4.2 Grocery flag creation"
   ]
  },
  {
   "cell_type": "markdown",
   "id": "90787b67",
   "metadata": {},
   "source": [
    "Firstly, separate healthy from junk food buyers. If a customer has produce, but not snacks in their department list, flag them as 'healthy'. If a customer has snacks, but not produce in their department list, flag them as 'healthy'. "
   ]
  },
  {
   "cell_type": "code",
   "execution_count": 60,
   "id": "4bb1f17c",
   "metadata": {},
   "outputs": [],
   "source": [
    "# assign healthy flags\n",
    "groceries_top.loc[(groceries_top['department_id'].str.contains('4')) & (~groceries_top['department_id'].str.contains('19')), 'groceries_flag'] = 'healthy'"
   ]
  },
  {
   "cell_type": "code",
   "execution_count": 61,
   "id": "e6fe51b2",
   "metadata": {},
   "outputs": [
    {
     "data": {
      "text/html": [
       "<div>\n",
       "<style scoped>\n",
       "    .dataframe tbody tr th:only-of-type {\n",
       "        vertical-align: middle;\n",
       "    }\n",
       "\n",
       "    .dataframe tbody tr th {\n",
       "        vertical-align: top;\n",
       "    }\n",
       "\n",
       "    .dataframe thead th {\n",
       "        text-align: right;\n",
       "    }\n",
       "</style>\n",
       "<table border=\"1\" class=\"dataframe\">\n",
       "  <thead>\n",
       "    <tr style=\"text-align: right;\">\n",
       "      <th></th>\n",
       "      <th>user_id</th>\n",
       "      <th>diversity_count</th>\n",
       "      <th>department_id</th>\n",
       "      <th>department</th>\n",
       "      <th>groceries_flag</th>\n",
       "    </tr>\n",
       "  </thead>\n",
       "  <tbody>\n",
       "    <tr>\n",
       "      <th>0</th>\n",
       "      <td>1</td>\n",
       "      <td>7</td>\n",
       "      <td>19, 7, 16</td>\n",
       "      <td>snacks, beverages, dairy</td>\n",
       "      <td>NaN</td>\n",
       "    </tr>\n",
       "    <tr>\n",
       "      <th>1</th>\n",
       "      <td>2</td>\n",
       "      <td>13</td>\n",
       "      <td>16, 19, 4</td>\n",
       "      <td>dairy, snacks, produce</td>\n",
       "      <td>NaN</td>\n",
       "    </tr>\n",
       "    <tr>\n",
       "      <th>2</th>\n",
       "      <td>3</td>\n",
       "      <td>9</td>\n",
       "      <td>4, 16, 19</td>\n",
       "      <td>produce, dairy, snacks</td>\n",
       "      <td>NaN</td>\n",
       "    </tr>\n",
       "    <tr>\n",
       "      <th>3</th>\n",
       "      <td>4</td>\n",
       "      <td>9</td>\n",
       "      <td>7, 1, 4</td>\n",
       "      <td>beverages, frozen, produce</td>\n",
       "      <td>healthy</td>\n",
       "    </tr>\n",
       "    <tr>\n",
       "      <th>4</th>\n",
       "      <td>7</td>\n",
       "      <td>12</td>\n",
       "      <td>4, 7, 16</td>\n",
       "      <td>produce, beverages, dairy</td>\n",
       "      <td>healthy</td>\n",
       "    </tr>\n",
       "    <tr>\n",
       "      <th>...</th>\n",
       "      <td>...</td>\n",
       "      <td>...</td>\n",
       "      <td>...</td>\n",
       "      <td>...</td>\n",
       "      <td>...</td>\n",
       "    </tr>\n",
       "    <tr>\n",
       "      <th>162627</th>\n",
       "      <td>206203</td>\n",
       "      <td>13</td>\n",
       "      <td>4, 7, 16</td>\n",
       "      <td>produce, beverages, dairy</td>\n",
       "      <td>healthy</td>\n",
       "    </tr>\n",
       "    <tr>\n",
       "      <th>162628</th>\n",
       "      <td>206206</td>\n",
       "      <td>16</td>\n",
       "      <td>1, 19, 16</td>\n",
       "      <td>frozen, snacks, dairy</td>\n",
       "      <td>NaN</td>\n",
       "    </tr>\n",
       "    <tr>\n",
       "      <th>162629</th>\n",
       "      <td>206207</td>\n",
       "      <td>14</td>\n",
       "      <td>16, 4, 19</td>\n",
       "      <td>dairy, produce, snacks</td>\n",
       "      <td>NaN</td>\n",
       "    </tr>\n",
       "    <tr>\n",
       "      <th>162630</th>\n",
       "      <td>206208</td>\n",
       "      <td>17</td>\n",
       "      <td>4, 16, 3</td>\n",
       "      <td>produce, dairy, bakery</td>\n",
       "      <td>healthy</td>\n",
       "    </tr>\n",
       "    <tr>\n",
       "      <th>162631</th>\n",
       "      <td>206209</td>\n",
       "      <td>14</td>\n",
       "      <td>16, 4, 17</td>\n",
       "      <td>dairy, produce, household</td>\n",
       "      <td>healthy</td>\n",
       "    </tr>\n",
       "  </tbody>\n",
       "</table>\n",
       "<p>162632 rows × 5 columns</p>\n",
       "</div>"
      ],
      "text/plain": [
       "        user_id  diversity_count department_id                  department  \\\n",
       "0             1                7     19, 7, 16    snacks, beverages, dairy   \n",
       "1             2               13     16, 19, 4      dairy, snacks, produce   \n",
       "2             3                9     4, 16, 19      produce, dairy, snacks   \n",
       "3             4                9       7, 1, 4  beverages, frozen, produce   \n",
       "4             7               12      4, 7, 16   produce, beverages, dairy   \n",
       "...         ...              ...           ...                         ...   \n",
       "162627   206203               13      4, 7, 16   produce, beverages, dairy   \n",
       "162628   206206               16     1, 19, 16       frozen, snacks, dairy   \n",
       "162629   206207               14     16, 4, 19      dairy, produce, snacks   \n",
       "162630   206208               17      4, 16, 3      produce, dairy, bakery   \n",
       "162631   206209               14     16, 4, 17   dairy, produce, household   \n",
       "\n",
       "       groceries_flag  \n",
       "0                 NaN  \n",
       "1                 NaN  \n",
       "2                 NaN  \n",
       "3             healthy  \n",
       "4             healthy  \n",
       "...               ...  \n",
       "162627        healthy  \n",
       "162628            NaN  \n",
       "162629            NaN  \n",
       "162630        healthy  \n",
       "162631        healthy  \n",
       "\n",
       "[162632 rows x 5 columns]"
      ]
     },
     "execution_count": 61,
     "metadata": {},
     "output_type": "execute_result"
    }
   ],
   "source": [
    "# visual check\n",
    "groceries_top"
   ]
  },
  {
   "cell_type": "code",
   "execution_count": 62,
   "id": "f74a7142",
   "metadata": {},
   "outputs": [
    {
     "data": {
      "text/plain": [
       "42.031088592650896"
      ]
     },
     "execution_count": 62,
     "metadata": {},
     "output_type": "execute_result"
    }
   ],
   "source": [
    "# percentage of remaining user_id\n",
    "groceries_top['groceries_flag'].isnull().sum() / len(groceries_top) * 100"
   ]
  },
  {
   "cell_type": "code",
   "execution_count": 63,
   "id": "d46308cd",
   "metadata": {},
   "outputs": [],
   "source": [
    "# assign junk flags\n",
    "groceries_top.loc[(groceries_top['department_id'].str.contains('19')) & (~groceries_top['department_id'].str.contains('4')), 'groceries_flag'] = 'junk'"
   ]
  },
  {
   "cell_type": "code",
   "execution_count": 64,
   "id": "cd5d8de9",
   "metadata": {},
   "outputs": [
    {
     "data": {
      "text/html": [
       "<div>\n",
       "<style scoped>\n",
       "    .dataframe tbody tr th:only-of-type {\n",
       "        vertical-align: middle;\n",
       "    }\n",
       "\n",
       "    .dataframe tbody tr th {\n",
       "        vertical-align: top;\n",
       "    }\n",
       "\n",
       "    .dataframe thead th {\n",
       "        text-align: right;\n",
       "    }\n",
       "</style>\n",
       "<table border=\"1\" class=\"dataframe\">\n",
       "  <thead>\n",
       "    <tr style=\"text-align: right;\">\n",
       "      <th></th>\n",
       "      <th>user_id</th>\n",
       "      <th>diversity_count</th>\n",
       "      <th>department_id</th>\n",
       "      <th>department</th>\n",
       "      <th>groceries_flag</th>\n",
       "    </tr>\n",
       "  </thead>\n",
       "  <tbody>\n",
       "    <tr>\n",
       "      <th>0</th>\n",
       "      <td>1</td>\n",
       "      <td>7</td>\n",
       "      <td>19, 7, 16</td>\n",
       "      <td>snacks, beverages, dairy</td>\n",
       "      <td>junk</td>\n",
       "    </tr>\n",
       "    <tr>\n",
       "      <th>1</th>\n",
       "      <td>2</td>\n",
       "      <td>13</td>\n",
       "      <td>16, 19, 4</td>\n",
       "      <td>dairy, snacks, produce</td>\n",
       "      <td>NaN</td>\n",
       "    </tr>\n",
       "    <tr>\n",
       "      <th>2</th>\n",
       "      <td>3</td>\n",
       "      <td>9</td>\n",
       "      <td>4, 16, 19</td>\n",
       "      <td>produce, dairy, snacks</td>\n",
       "      <td>NaN</td>\n",
       "    </tr>\n",
       "    <tr>\n",
       "      <th>3</th>\n",
       "      <td>4</td>\n",
       "      <td>9</td>\n",
       "      <td>7, 1, 4</td>\n",
       "      <td>beverages, frozen, produce</td>\n",
       "      <td>healthy</td>\n",
       "    </tr>\n",
       "    <tr>\n",
       "      <th>4</th>\n",
       "      <td>7</td>\n",
       "      <td>12</td>\n",
       "      <td>4, 7, 16</td>\n",
       "      <td>produce, beverages, dairy</td>\n",
       "      <td>healthy</td>\n",
       "    </tr>\n",
       "    <tr>\n",
       "      <th>...</th>\n",
       "      <td>...</td>\n",
       "      <td>...</td>\n",
       "      <td>...</td>\n",
       "      <td>...</td>\n",
       "      <td>...</td>\n",
       "    </tr>\n",
       "    <tr>\n",
       "      <th>162627</th>\n",
       "      <td>206203</td>\n",
       "      <td>13</td>\n",
       "      <td>4, 7, 16</td>\n",
       "      <td>produce, beverages, dairy</td>\n",
       "      <td>healthy</td>\n",
       "    </tr>\n",
       "    <tr>\n",
       "      <th>162628</th>\n",
       "      <td>206206</td>\n",
       "      <td>16</td>\n",
       "      <td>1, 19, 16</td>\n",
       "      <td>frozen, snacks, dairy</td>\n",
       "      <td>junk</td>\n",
       "    </tr>\n",
       "    <tr>\n",
       "      <th>162629</th>\n",
       "      <td>206207</td>\n",
       "      <td>14</td>\n",
       "      <td>16, 4, 19</td>\n",
       "      <td>dairy, produce, snacks</td>\n",
       "      <td>NaN</td>\n",
       "    </tr>\n",
       "    <tr>\n",
       "      <th>162630</th>\n",
       "      <td>206208</td>\n",
       "      <td>17</td>\n",
       "      <td>4, 16, 3</td>\n",
       "      <td>produce, dairy, bakery</td>\n",
       "      <td>healthy</td>\n",
       "    </tr>\n",
       "    <tr>\n",
       "      <th>162631</th>\n",
       "      <td>206209</td>\n",
       "      <td>14</td>\n",
       "      <td>16, 4, 17</td>\n",
       "      <td>dairy, produce, household</td>\n",
       "      <td>healthy</td>\n",
       "    </tr>\n",
       "  </tbody>\n",
       "</table>\n",
       "<p>162632 rows × 5 columns</p>\n",
       "</div>"
      ],
      "text/plain": [
       "        user_id  diversity_count department_id                  department  \\\n",
       "0             1                7     19, 7, 16    snacks, beverages, dairy   \n",
       "1             2               13     16, 19, 4      dairy, snacks, produce   \n",
       "2             3                9     4, 16, 19      produce, dairy, snacks   \n",
       "3             4                9       7, 1, 4  beverages, frozen, produce   \n",
       "4             7               12      4, 7, 16   produce, beverages, dairy   \n",
       "...         ...              ...           ...                         ...   \n",
       "162627   206203               13      4, 7, 16   produce, beverages, dairy   \n",
       "162628   206206               16     1, 19, 16       frozen, snacks, dairy   \n",
       "162629   206207               14     16, 4, 19      dairy, produce, snacks   \n",
       "162630   206208               17      4, 16, 3      produce, dairy, bakery   \n",
       "162631   206209               14     16, 4, 17   dairy, produce, household   \n",
       "\n",
       "       groceries_flag  \n",
       "0                junk  \n",
       "1                 NaN  \n",
       "2                 NaN  \n",
       "3             healthy  \n",
       "4             healthy  \n",
       "...               ...  \n",
       "162627        healthy  \n",
       "162628           junk  \n",
       "162629            NaN  \n",
       "162630        healthy  \n",
       "162631        healthy  \n",
       "\n",
       "[162632 rows x 5 columns]"
      ]
     },
     "execution_count": 64,
     "metadata": {},
     "output_type": "execute_result"
    }
   ],
   "source": [
    "# visual check\n",
    "groceries_top"
   ]
  },
  {
   "cell_type": "code",
   "execution_count": 65,
   "id": "27be364a",
   "metadata": {},
   "outputs": [
    {
     "data": {
      "text/plain": [
       "32.32574155147818"
      ]
     },
     "execution_count": 65,
     "metadata": {},
     "output_type": "execute_result"
    }
   ],
   "source": [
    "# percentage of remaining user_id\n",
    "groceries_top['groceries_flag'].isnull().sum() / len(groceries_top) * 100"
   ]
  },
  {
   "cell_type": "code",
   "execution_count": 66,
   "id": "f519cb7e",
   "metadata": {},
   "outputs": [
    {
     "data": {
      "text/plain": [
       "healthy    94276\n",
       "junk       15784\n",
       "Name: groceries_flag, dtype: int64"
      ]
     },
     "execution_count": 66,
     "metadata": {},
     "output_type": "execute_result"
    }
   ],
   "source": [
    "groceries_top['groceries_flag'].value_counts()"
   ]
  },
  {
   "cell_type": "markdown",
   "id": "1a66e7d1",
   "metadata": {},
   "source": [
    "Now separate remaining customers into 'diverse' and 'non-diverse' buyers. Define customers who are more/less than two standard deviations from the mean (12.1 +/- 3.2) 5 or less and 19 or greater) diverse and non-diverse."
   ]
  },
  {
   "cell_type": "code",
   "execution_count": 67,
   "id": "b0179756",
   "metadata": {},
   "outputs": [],
   "source": [
    "# assign diverse flags\n",
    "groceries_top.loc[(groceries_top['diversity_count'] > 18) & (groceries_top['groceries_flag'].isnull()), 'groceries_flag'] = 'diverse'"
   ]
  },
  {
   "cell_type": "code",
   "execution_count": 68,
   "id": "96f641c5",
   "metadata": {},
   "outputs": [
    {
     "data": {
      "text/html": [
       "<div>\n",
       "<style scoped>\n",
       "    .dataframe tbody tr th:only-of-type {\n",
       "        vertical-align: middle;\n",
       "    }\n",
       "\n",
       "    .dataframe tbody tr th {\n",
       "        vertical-align: top;\n",
       "    }\n",
       "\n",
       "    .dataframe thead th {\n",
       "        text-align: right;\n",
       "    }\n",
       "</style>\n",
       "<table border=\"1\" class=\"dataframe\">\n",
       "  <thead>\n",
       "    <tr style=\"text-align: right;\">\n",
       "      <th></th>\n",
       "      <th>user_id</th>\n",
       "      <th>diversity_count</th>\n",
       "      <th>department_id</th>\n",
       "      <th>department</th>\n",
       "      <th>groceries_flag</th>\n",
       "    </tr>\n",
       "  </thead>\n",
       "  <tbody>\n",
       "    <tr>\n",
       "      <th>0</th>\n",
       "      <td>1</td>\n",
       "      <td>7</td>\n",
       "      <td>19, 7, 16</td>\n",
       "      <td>snacks, beverages, dairy</td>\n",
       "      <td>junk</td>\n",
       "    </tr>\n",
       "    <tr>\n",
       "      <th>1</th>\n",
       "      <td>2</td>\n",
       "      <td>13</td>\n",
       "      <td>16, 19, 4</td>\n",
       "      <td>dairy, snacks, produce</td>\n",
       "      <td>NaN</td>\n",
       "    </tr>\n",
       "    <tr>\n",
       "      <th>2</th>\n",
       "      <td>3</td>\n",
       "      <td>9</td>\n",
       "      <td>4, 16, 19</td>\n",
       "      <td>produce, dairy, snacks</td>\n",
       "      <td>NaN</td>\n",
       "    </tr>\n",
       "    <tr>\n",
       "      <th>3</th>\n",
       "      <td>4</td>\n",
       "      <td>9</td>\n",
       "      <td>7, 1, 4</td>\n",
       "      <td>beverages, frozen, produce</td>\n",
       "      <td>healthy</td>\n",
       "    </tr>\n",
       "    <tr>\n",
       "      <th>4</th>\n",
       "      <td>7</td>\n",
       "      <td>12</td>\n",
       "      <td>4, 7, 16</td>\n",
       "      <td>produce, beverages, dairy</td>\n",
       "      <td>healthy</td>\n",
       "    </tr>\n",
       "    <tr>\n",
       "      <th>...</th>\n",
       "      <td>...</td>\n",
       "      <td>...</td>\n",
       "      <td>...</td>\n",
       "      <td>...</td>\n",
       "      <td>...</td>\n",
       "    </tr>\n",
       "    <tr>\n",
       "      <th>162627</th>\n",
       "      <td>206203</td>\n",
       "      <td>13</td>\n",
       "      <td>4, 7, 16</td>\n",
       "      <td>produce, beverages, dairy</td>\n",
       "      <td>healthy</td>\n",
       "    </tr>\n",
       "    <tr>\n",
       "      <th>162628</th>\n",
       "      <td>206206</td>\n",
       "      <td>16</td>\n",
       "      <td>1, 19, 16</td>\n",
       "      <td>frozen, snacks, dairy</td>\n",
       "      <td>junk</td>\n",
       "    </tr>\n",
       "    <tr>\n",
       "      <th>162629</th>\n",
       "      <td>206207</td>\n",
       "      <td>14</td>\n",
       "      <td>16, 4, 19</td>\n",
       "      <td>dairy, produce, snacks</td>\n",
       "      <td>NaN</td>\n",
       "    </tr>\n",
       "    <tr>\n",
       "      <th>162630</th>\n",
       "      <td>206208</td>\n",
       "      <td>17</td>\n",
       "      <td>4, 16, 3</td>\n",
       "      <td>produce, dairy, bakery</td>\n",
       "      <td>healthy</td>\n",
       "    </tr>\n",
       "    <tr>\n",
       "      <th>162631</th>\n",
       "      <td>206209</td>\n",
       "      <td>14</td>\n",
       "      <td>16, 4, 17</td>\n",
       "      <td>dairy, produce, household</td>\n",
       "      <td>healthy</td>\n",
       "    </tr>\n",
       "  </tbody>\n",
       "</table>\n",
       "<p>162632 rows × 5 columns</p>\n",
       "</div>"
      ],
      "text/plain": [
       "        user_id  diversity_count department_id                  department  \\\n",
       "0             1                7     19, 7, 16    snacks, beverages, dairy   \n",
       "1             2               13     16, 19, 4      dairy, snacks, produce   \n",
       "2             3                9     4, 16, 19      produce, dairy, snacks   \n",
       "3             4                9       7, 1, 4  beverages, frozen, produce   \n",
       "4             7               12      4, 7, 16   produce, beverages, dairy   \n",
       "...         ...              ...           ...                         ...   \n",
       "162627   206203               13      4, 7, 16   produce, beverages, dairy   \n",
       "162628   206206               16     1, 19, 16       frozen, snacks, dairy   \n",
       "162629   206207               14     16, 4, 19      dairy, produce, snacks   \n",
       "162630   206208               17      4, 16, 3      produce, dairy, bakery   \n",
       "162631   206209               14     16, 4, 17   dairy, produce, household   \n",
       "\n",
       "       groceries_flag  \n",
       "0                junk  \n",
       "1                 NaN  \n",
       "2                 NaN  \n",
       "3             healthy  \n",
       "4             healthy  \n",
       "...               ...  \n",
       "162627        healthy  \n",
       "162628           junk  \n",
       "162629            NaN  \n",
       "162630        healthy  \n",
       "162631        healthy  \n",
       "\n",
       "[162632 rows x 5 columns]"
      ]
     },
     "execution_count": 68,
     "metadata": {},
     "output_type": "execute_result"
    }
   ],
   "source": [
    "# visual check\n",
    "groceries_top"
   ]
  },
  {
   "cell_type": "code",
   "execution_count": 69,
   "id": "811ffd33",
   "metadata": {},
   "outputs": [
    {
     "data": {
      "text/html": [
       "<div>\n",
       "<style scoped>\n",
       "    .dataframe tbody tr th:only-of-type {\n",
       "        vertical-align: middle;\n",
       "    }\n",
       "\n",
       "    .dataframe tbody tr th {\n",
       "        vertical-align: top;\n",
       "    }\n",
       "\n",
       "    .dataframe thead th {\n",
       "        text-align: right;\n",
       "    }\n",
       "</style>\n",
       "<table border=\"1\" class=\"dataframe\">\n",
       "  <thead>\n",
       "    <tr style=\"text-align: right;\">\n",
       "      <th></th>\n",
       "      <th>user_id</th>\n",
       "      <th>diversity_count</th>\n",
       "      <th>department_id</th>\n",
       "      <th>department</th>\n",
       "      <th>groceries_flag</th>\n",
       "    </tr>\n",
       "  </thead>\n",
       "  <tbody>\n",
       "    <tr>\n",
       "      <th>1798</th>\n",
       "      <td>2279</td>\n",
       "      <td>19</td>\n",
       "      <td>4, 13, 19</td>\n",
       "      <td>produce, pantry, snacks</td>\n",
       "      <td>diverse</td>\n",
       "    </tr>\n",
       "    <tr>\n",
       "      <th>2161</th>\n",
       "      <td>2735</td>\n",
       "      <td>19</td>\n",
       "      <td>16, 3, 13</td>\n",
       "      <td>dairy, bakery, pantry</td>\n",
       "      <td>diverse</td>\n",
       "    </tr>\n",
       "    <tr>\n",
       "      <th>3586</th>\n",
       "      <td>4557</td>\n",
       "      <td>19</td>\n",
       "      <td>7, 4, 19</td>\n",
       "      <td>beverages, produce, snacks</td>\n",
       "      <td>diverse</td>\n",
       "    </tr>\n",
       "    <tr>\n",
       "      <th>5275</th>\n",
       "      <td>6668</td>\n",
       "      <td>19</td>\n",
       "      <td>7, 4, 19</td>\n",
       "      <td>beverages, produce, snacks</td>\n",
       "      <td>diverse</td>\n",
       "    </tr>\n",
       "    <tr>\n",
       "      <th>5290</th>\n",
       "      <td>6692</td>\n",
       "      <td>19</td>\n",
       "      <td>19, 4, 16</td>\n",
       "      <td>snacks, produce, dairy</td>\n",
       "      <td>diverse</td>\n",
       "    </tr>\n",
       "    <tr>\n",
       "      <th>5821</th>\n",
       "      <td>7385</td>\n",
       "      <td>20</td>\n",
       "      <td>4, 16, 19</td>\n",
       "      <td>produce, dairy, snacks</td>\n",
       "      <td>diverse</td>\n",
       "    </tr>\n",
       "    <tr>\n",
       "      <th>6730</th>\n",
       "      <td>8524</td>\n",
       "      <td>19</td>\n",
       "      <td>4, 16, 19</td>\n",
       "      <td>produce, dairy, snacks</td>\n",
       "      <td>diverse</td>\n",
       "    </tr>\n",
       "    <tr>\n",
       "      <th>6968</th>\n",
       "      <td>8832</td>\n",
       "      <td>19</td>\n",
       "      <td>4, 16, 19</td>\n",
       "      <td>produce, dairy, snacks</td>\n",
       "      <td>diverse</td>\n",
       "    </tr>\n",
       "    <tr>\n",
       "      <th>7352</th>\n",
       "      <td>9321</td>\n",
       "      <td>19</td>\n",
       "      <td>4, 16, 19</td>\n",
       "      <td>produce, dairy, snacks</td>\n",
       "      <td>diverse</td>\n",
       "    </tr>\n",
       "    <tr>\n",
       "      <th>7373</th>\n",
       "      <td>9349</td>\n",
       "      <td>20</td>\n",
       "      <td>19, 4, 7</td>\n",
       "      <td>snacks, produce, beverages</td>\n",
       "      <td>diverse</td>\n",
       "    </tr>\n",
       "  </tbody>\n",
       "</table>\n",
       "</div>"
      ],
      "text/plain": [
       "      user_id  diversity_count department_id                  department  \\\n",
       "1798     2279               19     4, 13, 19     produce, pantry, snacks   \n",
       "2161     2735               19     16, 3, 13       dairy, bakery, pantry   \n",
       "3586     4557               19      7, 4, 19  beverages, produce, snacks   \n",
       "5275     6668               19      7, 4, 19  beverages, produce, snacks   \n",
       "5290     6692               19     19, 4, 16      snacks, produce, dairy   \n",
       "5821     7385               20     4, 16, 19      produce, dairy, snacks   \n",
       "6730     8524               19     4, 16, 19      produce, dairy, snacks   \n",
       "6968     8832               19     4, 16, 19      produce, dairy, snacks   \n",
       "7352     9321               19     4, 16, 19      produce, dairy, snacks   \n",
       "7373     9349               20      19, 4, 7  snacks, produce, beverages   \n",
       "\n",
       "     groceries_flag  \n",
       "1798        diverse  \n",
       "2161        diverse  \n",
       "3586        diverse  \n",
       "5275        diverse  \n",
       "5290        diverse  \n",
       "5821        diverse  \n",
       "6730        diverse  \n",
       "6968        diverse  \n",
       "7352        diverse  \n",
       "7373        diverse  "
      ]
     },
     "execution_count": 69,
     "metadata": {},
     "output_type": "execute_result"
    }
   ],
   "source": [
    "groceries_top[groceries_top['groceries_flag'] == 'diverse'].head(10)"
   ]
  },
  {
   "cell_type": "code",
   "execution_count": 70,
   "id": "03768bd6",
   "metadata": {},
   "outputs": [
    {
     "data": {
      "text/plain": [
       "32.226745044025776"
      ]
     },
     "execution_count": 70,
     "metadata": {},
     "output_type": "execute_result"
    }
   ],
   "source": [
    "# percentage of remaining user_id\n",
    "groceries_top['groceries_flag'].isnull().sum() / len(groceries_top) * 100"
   ]
  },
  {
   "cell_type": "code",
   "execution_count": 71,
   "id": "01f02325",
   "metadata": {},
   "outputs": [],
   "source": [
    "# assign non-diverse flags\n",
    "groceries_top.loc[(groceries_top['diversity_count'] < 6) & (groceries_top['groceries_flag'].isnull()), 'groceries_flag'] = 'non-diverse'"
   ]
  },
  {
   "cell_type": "code",
   "execution_count": 72,
   "id": "aeb35219",
   "metadata": {},
   "outputs": [
    {
     "data": {
      "text/plain": [
       "29.37490776722908"
      ]
     },
     "execution_count": 72,
     "metadata": {},
     "output_type": "execute_result"
    }
   ],
   "source": [
    "# percentage of remaining user_id\n",
    "groceries_top['groceries_flag'].isnull().sum() / len(groceries_top) * 100"
   ]
  },
  {
   "cell_type": "code",
   "execution_count": 73,
   "id": "c54aa5c8",
   "metadata": {},
   "outputs": [
    {
     "data": {
      "text/html": [
       "<div>\n",
       "<style scoped>\n",
       "    .dataframe tbody tr th:only-of-type {\n",
       "        vertical-align: middle;\n",
       "    }\n",
       "\n",
       "    .dataframe tbody tr th {\n",
       "        vertical-align: top;\n",
       "    }\n",
       "\n",
       "    .dataframe thead th {\n",
       "        text-align: right;\n",
       "    }\n",
       "</style>\n",
       "<table border=\"1\" class=\"dataframe\">\n",
       "  <thead>\n",
       "    <tr style=\"text-align: right;\">\n",
       "      <th></th>\n",
       "      <th>user_id</th>\n",
       "      <th>diversity_count</th>\n",
       "      <th>department_id</th>\n",
       "      <th>department</th>\n",
       "      <th>groceries_flag</th>\n",
       "    </tr>\n",
       "  </thead>\n",
       "  <tbody>\n",
       "    <tr>\n",
       "      <th>74</th>\n",
       "      <td>88</td>\n",
       "      <td>3</td>\n",
       "      <td>8, 16, 3</td>\n",
       "      <td>pets, dairy, bakery</td>\n",
       "      <td>non-diverse</td>\n",
       "    </tr>\n",
       "    <tr>\n",
       "      <th>90</th>\n",
       "      <td>104</td>\n",
       "      <td>2</td>\n",
       "      <td>20, 16</td>\n",
       "      <td>deli, dairy</td>\n",
       "      <td>non-diverse</td>\n",
       "    </tr>\n",
       "    <tr>\n",
       "      <th>91</th>\n",
       "      <td>105</td>\n",
       "      <td>5</td>\n",
       "      <td>4, 19, 16</td>\n",
       "      <td>produce, snacks, dairy</td>\n",
       "      <td>non-diverse</td>\n",
       "    </tr>\n",
       "    <tr>\n",
       "      <th>98</th>\n",
       "      <td>113</td>\n",
       "      <td>1</td>\n",
       "      <td>17</td>\n",
       "      <td>household</td>\n",
       "      <td>non-diverse</td>\n",
       "    </tr>\n",
       "    <tr>\n",
       "      <th>121</th>\n",
       "      <td>144</td>\n",
       "      <td>5</td>\n",
       "      <td>16, 20, 7</td>\n",
       "      <td>dairy, deli, beverages</td>\n",
       "      <td>non-diverse</td>\n",
       "    </tr>\n",
       "    <tr>\n",
       "      <th>176</th>\n",
       "      <td>209</td>\n",
       "      <td>5</td>\n",
       "      <td>19, 4, 6</td>\n",
       "      <td>snacks, produce, international</td>\n",
       "      <td>non-diverse</td>\n",
       "    </tr>\n",
       "    <tr>\n",
       "      <th>203</th>\n",
       "      <td>240</td>\n",
       "      <td>5</td>\n",
       "      <td>19, 4, 10</td>\n",
       "      <td>snacks, produce, bulk</td>\n",
       "      <td>non-diverse</td>\n",
       "    </tr>\n",
       "    <tr>\n",
       "      <th>212</th>\n",
       "      <td>249</td>\n",
       "      <td>3</td>\n",
       "      <td>4, 19, 13</td>\n",
       "      <td>produce, snacks, pantry</td>\n",
       "      <td>non-diverse</td>\n",
       "    </tr>\n",
       "    <tr>\n",
       "      <th>228</th>\n",
       "      <td>271</td>\n",
       "      <td>2</td>\n",
       "      <td>7, 11</td>\n",
       "      <td>beverages, personal care</td>\n",
       "      <td>non-diverse</td>\n",
       "    </tr>\n",
       "    <tr>\n",
       "      <th>263</th>\n",
       "      <td>318</td>\n",
       "      <td>1</td>\n",
       "      <td>7</td>\n",
       "      <td>beverages</td>\n",
       "      <td>non-diverse</td>\n",
       "    </tr>\n",
       "  </tbody>\n",
       "</table>\n",
       "</div>"
      ],
      "text/plain": [
       "     user_id  diversity_count department_id                      department  \\\n",
       "74        88                3      8, 16, 3             pets, dairy, bakery   \n",
       "90       104                2        20, 16                     deli, dairy   \n",
       "91       105                5     4, 19, 16          produce, snacks, dairy   \n",
       "98       113                1            17                       household   \n",
       "121      144                5     16, 20, 7          dairy, deli, beverages   \n",
       "176      209                5      19, 4, 6  snacks, produce, international   \n",
       "203      240                5     19, 4, 10           snacks, produce, bulk   \n",
       "212      249                3     4, 19, 13         produce, snacks, pantry   \n",
       "228      271                2         7, 11        beverages, personal care   \n",
       "263      318                1             7                       beverages   \n",
       "\n",
       "    groceries_flag  \n",
       "74     non-diverse  \n",
       "90     non-diverse  \n",
       "91     non-diverse  \n",
       "98     non-diverse  \n",
       "121    non-diverse  \n",
       "176    non-diverse  \n",
       "203    non-diverse  \n",
       "212    non-diverse  \n",
       "228    non-diverse  \n",
       "263    non-diverse  "
      ]
     },
     "execution_count": 73,
     "metadata": {},
     "output_type": "execute_result"
    }
   ],
   "source": [
    "groceries_top[groceries_top['groceries_flag'] == 'non-diverse'].head(10)"
   ]
  },
  {
   "cell_type": "markdown",
   "id": "26857886",
   "metadata": {},
   "source": [
    "Assign all remaining null flags as 'none'. These customers have no notable or unusual spending patterns by grocery type."
   ]
  },
  {
   "cell_type": "code",
   "execution_count": 74,
   "id": "a5c4ad9a",
   "metadata": {},
   "outputs": [],
   "source": [
    "# assign none flags\n",
    "groceries_top['groceries_flag'] = groceries_top['groceries_flag'].fillna('none')"
   ]
  },
  {
   "cell_type": "code",
   "execution_count": 75,
   "id": "0ae5b859",
   "metadata": {},
   "outputs": [
    {
     "data": {
      "text/plain": [
       "0.0"
      ]
     },
     "execution_count": 75,
     "metadata": {},
     "output_type": "execute_result"
    }
   ],
   "source": [
    "# percentage of remaining user_id\n",
    "groceries_top['groceries_flag'].isnull().sum() / len(groceries_top) * 100"
   ]
  },
  {
   "cell_type": "code",
   "execution_count": 76,
   "id": "534c8093",
   "metadata": {},
   "outputs": [
    {
     "data": {
      "text/plain": [
       "healthy        94276\n",
       "none           47773\n",
       "junk           15784\n",
       "non-diverse     4638\n",
       "diverse          161\n",
       "Name: groceries_flag, dtype: int64"
      ]
     },
     "execution_count": 76,
     "metadata": {},
     "output_type": "execute_result"
    }
   ],
   "source": [
    "groceries_top['groceries_flag'].value_counts()"
   ]
  },
  {
   "cell_type": "markdown",
   "id": "4c093faf",
   "metadata": {},
   "source": [
    "#### 6.4.3 Add groceries_flag to user_flags"
   ]
  },
  {
   "cell_type": "code",
   "execution_count": 77,
   "id": "47197d02",
   "metadata": {},
   "outputs": [],
   "source": [
    "# Perform inner join and add groceries_flag column to user_flags\n",
    "user_flags = user_flags.merge(groceries_top[['user_id', 'groceries_flag']], on='user_id', how='inner')"
   ]
  },
  {
   "cell_type": "code",
   "execution_count": 78,
   "id": "3d9cfa50",
   "metadata": {},
   "outputs": [
    {
     "data": {
      "text/html": [
       "<div>\n",
       "<style scoped>\n",
       "    .dataframe tbody tr th:only-of-type {\n",
       "        vertical-align: middle;\n",
       "    }\n",
       "\n",
       "    .dataframe tbody tr th {\n",
       "        vertical-align: top;\n",
       "    }\n",
       "\n",
       "    .dataframe thead th {\n",
       "        text-align: right;\n",
       "    }\n",
       "</style>\n",
       "<table border=\"1\" class=\"dataframe\">\n",
       "  <thead>\n",
       "    <tr style=\"text-align: right;\">\n",
       "      <th></th>\n",
       "      <th>user_id</th>\n",
       "      <th>age_flag</th>\n",
       "      <th>income_flag</th>\n",
       "      <th>regularity_flag</th>\n",
       "      <th>groceries_flag</th>\n",
       "    </tr>\n",
       "  </thead>\n",
       "  <tbody>\n",
       "    <tr>\n",
       "      <th>0</th>\n",
       "      <td>1</td>\n",
       "      <td>young_adult</td>\n",
       "      <td>low</td>\n",
       "      <td>irregular</td>\n",
       "      <td>junk</td>\n",
       "    </tr>\n",
       "    <tr>\n",
       "      <th>1</th>\n",
       "      <td>15</td>\n",
       "      <td>senior</td>\n",
       "      <td>low</td>\n",
       "      <td>irregular</td>\n",
       "      <td>junk</td>\n",
       "    </tr>\n",
       "    <tr>\n",
       "      <th>2</th>\n",
       "      <td>19</td>\n",
       "      <td>adult</td>\n",
       "      <td>high</td>\n",
       "      <td>irregular</td>\n",
       "      <td>none</td>\n",
       "    </tr>\n",
       "    <tr>\n",
       "      <th>3</th>\n",
       "      <td>21</td>\n",
       "      <td>senior</td>\n",
       "      <td>medium</td>\n",
       "      <td>irregular</td>\n",
       "      <td>junk</td>\n",
       "    </tr>\n",
       "    <tr>\n",
       "      <th>4</th>\n",
       "      <td>31</td>\n",
       "      <td>adult</td>\n",
       "      <td>low</td>\n",
       "      <td>irregular</td>\n",
       "      <td>none</td>\n",
       "    </tr>\n",
       "    <tr>\n",
       "      <th>...</th>\n",
       "      <td>...</td>\n",
       "      <td>...</td>\n",
       "      <td>...</td>\n",
       "      <td>...</td>\n",
       "      <td>...</td>\n",
       "    </tr>\n",
       "    <tr>\n",
       "      <th>162627</th>\n",
       "      <td>178074</td>\n",
       "      <td>adult</td>\n",
       "      <td>low</td>\n",
       "      <td>irregular</td>\n",
       "      <td>non-diverse</td>\n",
       "    </tr>\n",
       "    <tr>\n",
       "      <th>162628</th>\n",
       "      <td>11534</td>\n",
       "      <td>senior</td>\n",
       "      <td>medium</td>\n",
       "      <td>irregular</td>\n",
       "      <td>non-diverse</td>\n",
       "    </tr>\n",
       "    <tr>\n",
       "      <th>162629</th>\n",
       "      <td>105857</td>\n",
       "      <td>young_adult</td>\n",
       "      <td>low</td>\n",
       "      <td>irregular</td>\n",
       "      <td>non-diverse</td>\n",
       "    </tr>\n",
       "    <tr>\n",
       "      <th>162630</th>\n",
       "      <td>120516</td>\n",
       "      <td>young_adult</td>\n",
       "      <td>medium</td>\n",
       "      <td>irregular</td>\n",
       "      <td>non-diverse</td>\n",
       "    </tr>\n",
       "    <tr>\n",
       "      <th>162631</th>\n",
       "      <td>106143</td>\n",
       "      <td>young_adult</td>\n",
       "      <td>low</td>\n",
       "      <td>irregular</td>\n",
       "      <td>non-diverse</td>\n",
       "    </tr>\n",
       "  </tbody>\n",
       "</table>\n",
       "<p>162632 rows × 5 columns</p>\n",
       "</div>"
      ],
      "text/plain": [
       "        user_id     age_flag income_flag regularity_flag groceries_flag\n",
       "0             1  young_adult         low       irregular           junk\n",
       "1            15       senior         low       irregular           junk\n",
       "2            19        adult        high       irregular           none\n",
       "3            21       senior      medium       irregular           junk\n",
       "4            31        adult         low       irregular           none\n",
       "...         ...          ...         ...             ...            ...\n",
       "162627   178074        adult         low       irregular    non-diverse\n",
       "162628    11534       senior      medium       irregular    non-diverse\n",
       "162629   105857  young_adult         low       irregular    non-diverse\n",
       "162630   120516  young_adult      medium       irregular    non-diverse\n",
       "162631   106143  young_adult         low       irregular    non-diverse\n",
       "\n",
       "[162632 rows x 5 columns]"
      ]
     },
     "execution_count": 78,
     "metadata": {},
     "output_type": "execute_result"
    }
   ],
   "source": [
    "# visual check of user_flags\n",
    "user_flags"
   ]
  },
  {
   "cell_type": "code",
   "execution_count": 79,
   "id": "2ab0aba3",
   "metadata": {},
   "outputs": [
    {
     "data": {
      "image/png": "[encoded data removed]",
      "text/plain": [
       "<Figure size 640x480 with 1 Axes>"
      ]
     },
     "metadata": {},
     "output_type": "display_data"
    }
   ],
   "source": [
    "user_flags['groceries_flag'].value_counts().plot(kind='bar')\n",
    "plt.xlabel('Groceries Flag')\n",
    "plt.ylabel('Frequency')\n",
    "plt.title('Frequency of Groceries Flag')\n",
    "plt.show()"
   ]
  },
  {
   "cell_type": "markdown",
   "id": "2808a6be",
   "metadata": {},
   "source": [
    "### 6.5 Spending flag"
   ]
  },
  {
   "cell_type": "markdown",
   "id": "f2bb7647",
   "metadata": {},
   "source": [
    "The goal is to find the average weekly spend per customer. We will create a dataframe of customers and the number of days they have been a customer for (sum of days_since_prior_order), the total amount spent (sum of cost) and then the average weekly amount spent (sum of cost divided by sum days_since_prior_order multiplied by 7). Then we will categorise the weekly spend into low, medium and high spending customers."
   ]
  },
  {
   "cell_type": "markdown",
   "id": "7ad36a0a",
   "metadata": {},
   "source": [
    "#### 6.5.1 Average weekly spending per customer"
   ]
  },
  {
   "cell_type": "code",
   "execution_count": 80,
   "id": "69ee583b",
   "metadata": {},
   "outputs": [],
   "source": [
    "# extract users from df_high\n",
    "df_spend = df_high.groupby('user_id')['prices'].sum().reset_index()"
   ]
  },
  {
   "cell_type": "code",
   "execution_count": 81,
   "id": "d9580536",
   "metadata": {
    "scrolled": true
   },
   "outputs": [
    {
     "data": {
      "text/html": [
       "<div>\n",
       "<style scoped>\n",
       "    .dataframe tbody tr th:only-of-type {\n",
       "        vertical-align: middle;\n",
       "    }\n",
       "\n",
       "    .dataframe tbody tr th {\n",
       "        vertical-align: top;\n",
       "    }\n",
       "\n",
       "    .dataframe thead th {\n",
       "        text-align: right;\n",
       "    }\n",
       "</style>\n",
       "<table border=\"1\" class=\"dataframe\">\n",
       "  <thead>\n",
       "    <tr style=\"text-align: right;\">\n",
       "      <th></th>\n",
       "      <th>user_id</th>\n",
       "      <th>prices</th>\n",
       "    </tr>\n",
       "  </thead>\n",
       "  <tbody>\n",
       "    <tr>\n",
       "      <th>0</th>\n",
       "      <td>1</td>\n",
       "      <td>375.7</td>\n",
       "    </tr>\n",
       "    <tr>\n",
       "      <th>1</th>\n",
       "      <td>2</td>\n",
       "      <td>1465.6</td>\n",
       "    </tr>\n",
       "    <tr>\n",
       "      <th>2</th>\n",
       "      <td>3</td>\n",
       "      <td>721.4</td>\n",
       "    </tr>\n",
       "    <tr>\n",
       "      <th>3</th>\n",
       "      <td>4</td>\n",
       "      <td>147.7</td>\n",
       "    </tr>\n",
       "    <tr>\n",
       "      <th>4</th>\n",
       "      <td>7</td>\n",
       "      <td>1538.2</td>\n",
       "    </tr>\n",
       "    <tr>\n",
       "      <th>...</th>\n",
       "      <td>...</td>\n",
       "      <td>...</td>\n",
       "    </tr>\n",
       "    <tr>\n",
       "      <th>162627</th>\n",
       "      <td>206203</td>\n",
       "      <td>849.5</td>\n",
       "    </tr>\n",
       "    <tr>\n",
       "      <th>162628</th>\n",
       "      <td>206206</td>\n",
       "      <td>2179.3</td>\n",
       "    </tr>\n",
       "    <tr>\n",
       "      <th>162629</th>\n",
       "      <td>206207</td>\n",
       "      <td>1630.9</td>\n",
       "    </tr>\n",
       "    <tr>\n",
       "      <th>162630</th>\n",
       "      <td>206208</td>\n",
       "      <td>5664.2</td>\n",
       "    </tr>\n",
       "    <tr>\n",
       "      <th>162631</th>\n",
       "      <td>206209</td>\n",
       "      <td>910.6</td>\n",
       "    </tr>\n",
       "  </tbody>\n",
       "</table>\n",
       "<p>162632 rows × 2 columns</p>\n",
       "</div>"
      ],
      "text/plain": [
       "        user_id  prices\n",
       "0             1   375.7\n",
       "1             2  1465.6\n",
       "2             3   721.4\n",
       "3             4   147.7\n",
       "4             7  1538.2\n",
       "...         ...     ...\n",
       "162627   206203   849.5\n",
       "162628   206206  2179.3\n",
       "162629   206207  1630.9\n",
       "162630   206208  5664.2\n",
       "162631   206209   910.6\n",
       "\n",
       "[162632 rows x 2 columns]"
      ]
     },
     "execution_count": 81,
     "metadata": {},
     "output_type": "execute_result"
    }
   ],
   "source": [
    "# visual check\n",
    "df_spend"
   ]
  },
  {
   "cell_type": "code",
   "execution_count": 82,
   "id": "8d72b5b2",
   "metadata": {},
   "outputs": [],
   "source": [
    "# take subset of user_id, order_id and days since prior order from df_high\n",
    "user_days = df_high[['user_id','order_id','days_since_prior_order']].drop_duplicates()"
   ]
  },
  {
   "cell_type": "code",
   "execution_count": 83,
   "id": "a9112406",
   "metadata": {
    "scrolled": true
   },
   "outputs": [
    {
     "data": {
      "text/html": [
       "<div>\n",
       "<style scoped>\n",
       "    .dataframe tbody tr th:only-of-type {\n",
       "        vertical-align: middle;\n",
       "    }\n",
       "\n",
       "    .dataframe tbody tr th {\n",
       "        vertical-align: top;\n",
       "    }\n",
       "\n",
       "    .dataframe thead th {\n",
       "        text-align: right;\n",
       "    }\n",
       "</style>\n",
       "<table border=\"1\" class=\"dataframe\">\n",
       "  <thead>\n",
       "    <tr style=\"text-align: right;\">\n",
       "      <th></th>\n",
       "      <th>user_id</th>\n",
       "      <th>order_id</th>\n",
       "      <th>days_since_prior_order</th>\n",
       "    </tr>\n",
       "  </thead>\n",
       "  <tbody>\n",
       "    <tr>\n",
       "      <th>0</th>\n",
       "      <td>1</td>\n",
       "      <td>2539329</td>\n",
       "      <td>NaN</td>\n",
       "    </tr>\n",
       "    <tr>\n",
       "      <th>1</th>\n",
       "      <td>1</td>\n",
       "      <td>2398795</td>\n",
       "      <td>15.0</td>\n",
       "    </tr>\n",
       "    <tr>\n",
       "      <th>2</th>\n",
       "      <td>1</td>\n",
       "      <td>473747</td>\n",
       "      <td>21.0</td>\n",
       "    </tr>\n",
       "    <tr>\n",
       "      <th>3</th>\n",
       "      <td>1</td>\n",
       "      <td>2254736</td>\n",
       "      <td>29.0</td>\n",
       "    </tr>\n",
       "    <tr>\n",
       "      <th>4</th>\n",
       "      <td>1</td>\n",
       "      <td>431534</td>\n",
       "      <td>28.0</td>\n",
       "    </tr>\n",
       "  </tbody>\n",
       "</table>\n",
       "</div>"
      ],
      "text/plain": [
       "   user_id  order_id  days_since_prior_order\n",
       "0        1   2539329                     NaN\n",
       "1        1   2398795                    15.0\n",
       "2        1    473747                    21.0\n",
       "3        1   2254736                    29.0\n",
       "4        1    431534                    28.0"
      ]
     },
     "execution_count": 83,
     "metadata": {},
     "output_type": "execute_result"
    }
   ],
   "source": [
    "user_days.head()"
   ]
  },
  {
   "cell_type": "code",
   "execution_count": 84,
   "id": "92a34cc0",
   "metadata": {},
   "outputs": [],
   "source": [
    "# take sum of days_since_prior_order\n",
    "user_days = user_days.groupby('user_id')['days_since_prior_order'].sum().reset_index()"
   ]
  },
  {
   "cell_type": "code",
   "execution_count": 85,
   "id": "ac84c7f5",
   "metadata": {},
   "outputs": [
    {
     "data": {
      "text/html": [
       "<div>\n",
       "<style scoped>\n",
       "    .dataframe tbody tr th:only-of-type {\n",
       "        vertical-align: middle;\n",
       "    }\n",
       "\n",
       "    .dataframe tbody tr th {\n",
       "        vertical-align: top;\n",
       "    }\n",
       "\n",
       "    .dataframe thead th {\n",
       "        text-align: right;\n",
       "    }\n",
       "</style>\n",
       "<table border=\"1\" class=\"dataframe\">\n",
       "  <thead>\n",
       "    <tr style=\"text-align: right;\">\n",
       "      <th></th>\n",
       "      <th>user_id</th>\n",
       "      <th>days_since_prior_order</th>\n",
       "    </tr>\n",
       "  </thead>\n",
       "  <tbody>\n",
       "    <tr>\n",
       "      <th>0</th>\n",
       "      <td>1</td>\n",
       "      <td>176.0</td>\n",
       "    </tr>\n",
       "    <tr>\n",
       "      <th>1</th>\n",
       "      <td>2</td>\n",
       "      <td>198.0</td>\n",
       "    </tr>\n",
       "    <tr>\n",
       "      <th>2</th>\n",
       "      <td>3</td>\n",
       "      <td>133.0</td>\n",
       "    </tr>\n",
       "    <tr>\n",
       "      <th>3</th>\n",
       "      <td>4</td>\n",
       "      <td>55.0</td>\n",
       "    </tr>\n",
       "    <tr>\n",
       "      <th>4</th>\n",
       "      <td>7</td>\n",
       "      <td>203.0</td>\n",
       "    </tr>\n",
       "  </tbody>\n",
       "</table>\n",
       "</div>"
      ],
      "text/plain": [
       "   user_id  days_since_prior_order\n",
       "0        1                   176.0\n",
       "1        2                   198.0\n",
       "2        3                   133.0\n",
       "3        4                    55.0\n",
       "4        7                   203.0"
      ]
     },
     "execution_count": 85,
     "metadata": {},
     "output_type": "execute_result"
    }
   ],
   "source": [
    "user_days.head()"
   ]
  },
  {
   "cell_type": "code",
   "execution_count": 86,
   "id": "4aa23241",
   "metadata": {},
   "outputs": [],
   "source": [
    "# add total days as customer\n",
    "df_spend = df_spend.merge(user_days[['user_id','days_since_prior_order']], on='user_id', how='left')"
   ]
  },
  {
   "cell_type": "code",
   "execution_count": 88,
   "id": "5f19e724",
   "metadata": {},
   "outputs": [],
   "source": [
    "# rename days_since_prior_order to days_as_customer\n",
    "df_spend = df_spend.rename(columns={'days_since_prior_order': 'days_as_customer'})"
   ]
  },
  {
   "cell_type": "code",
   "execution_count": 90,
   "id": "6558fa7c",
   "metadata": {},
   "outputs": [],
   "source": [
    "# add average weekly spending to the dataframe\n",
    "df_spend['weekly_spending'] = df_spend.apply(lambda row: row['prices'] if row['days_as_customer'] == 0 else row['prices'] / row['days_as_customer'] * 7, axis=1)"
   ]
  },
  {
   "cell_type": "code",
   "execution_count": 91,
   "id": "619b4b55",
   "metadata": {},
   "outputs": [
    {
     "data": {
      "text/plain": [
       "count    162632.000000\n",
       "mean         54.964817\n",
       "std          49.210473\n",
       "min           0.368421\n",
       "25%          24.865503\n",
       "50%          42.520538\n",
       "75%          70.298280\n",
       "max        2761.943902\n",
       "Name: weekly_spending, dtype: float64"
      ]
     },
     "execution_count": 91,
     "metadata": {},
     "output_type": "execute_result"
    }
   ],
   "source": [
    "# find summary stats for weekly_spending\n",
    "df_spend['weekly_spending'].describe()"
   ]
  },
  {
   "cell_type": "markdown",
   "id": "67657a49",
   "metadata": {},
   "source": [
    "#### 6.5.3 Assign spending flags"
   ]
  },
  {
   "cell_type": "markdown",
   "id": "9517de9b",
   "metadata": {},
   "source": [
    "Using the quartiles as boundaries, define users that spend less than 24.827134 as low, greater than 70.217284 as high and the remainder as medium."
   ]
  },
  {
   "cell_type": "code",
   "execution_count": 92,
   "id": "ec93ab46",
   "metadata": {},
   "outputs": [],
   "source": [
    "# assign flags to new spending_flag column\n",
    "df_spend['spending_flag'] = df_spend['weekly_spending'].apply(lambda x: 'low' if x < 24.827134 else ('high' if x > 70.217284 else 'medium'))"
   ]
  },
  {
   "cell_type": "code",
   "execution_count": 93,
   "id": "18bd32b9",
   "metadata": {},
   "outputs": [
    {
     "data": {
      "text/html": [
       "<div>\n",
       "<style scoped>\n",
       "    .dataframe tbody tr th:only-of-type {\n",
       "        vertical-align: middle;\n",
       "    }\n",
       "\n",
       "    .dataframe tbody tr th {\n",
       "        vertical-align: top;\n",
       "    }\n",
       "\n",
       "    .dataframe thead th {\n",
       "        text-align: right;\n",
       "    }\n",
       "</style>\n",
       "<table border=\"1\" class=\"dataframe\">\n",
       "  <thead>\n",
       "    <tr style=\"text-align: right;\">\n",
       "      <th></th>\n",
       "      <th>user_id</th>\n",
       "      <th>prices</th>\n",
       "      <th>days_as_customer</th>\n",
       "      <th>weekly_spending</th>\n",
       "      <th>spending_flag</th>\n",
       "    </tr>\n",
       "  </thead>\n",
       "  <tbody>\n",
       "    <tr>\n",
       "      <th>0</th>\n",
       "      <td>1</td>\n",
       "      <td>375.7</td>\n",
       "      <td>176.0</td>\n",
       "      <td>14.942614</td>\n",
       "      <td>low</td>\n",
       "    </tr>\n",
       "    <tr>\n",
       "      <th>1</th>\n",
       "      <td>2</td>\n",
       "      <td>1465.6</td>\n",
       "      <td>198.0</td>\n",
       "      <td>51.814141</td>\n",
       "      <td>medium</td>\n",
       "    </tr>\n",
       "    <tr>\n",
       "      <th>2</th>\n",
       "      <td>3</td>\n",
       "      <td>721.4</td>\n",
       "      <td>133.0</td>\n",
       "      <td>37.968421</td>\n",
       "      <td>medium</td>\n",
       "    </tr>\n",
       "    <tr>\n",
       "      <th>3</th>\n",
       "      <td>4</td>\n",
       "      <td>147.7</td>\n",
       "      <td>55.0</td>\n",
       "      <td>18.798182</td>\n",
       "      <td>low</td>\n",
       "    </tr>\n",
       "    <tr>\n",
       "      <th>4</th>\n",
       "      <td>7</td>\n",
       "      <td>1538.2</td>\n",
       "      <td>203.0</td>\n",
       "      <td>53.041379</td>\n",
       "      <td>medium</td>\n",
       "    </tr>\n",
       "    <tr>\n",
       "      <th>5</th>\n",
       "      <td>10</td>\n",
       "      <td>1237.1</td>\n",
       "      <td>79.0</td>\n",
       "      <td>109.616456</td>\n",
       "      <td>high</td>\n",
       "    </tr>\n",
       "    <tr>\n",
       "      <th>6</th>\n",
       "      <td>11</td>\n",
       "      <td>782.9</td>\n",
       "      <td>123.0</td>\n",
       "      <td>44.555285</td>\n",
       "      <td>medium</td>\n",
       "    </tr>\n",
       "    <tr>\n",
       "      <th>7</th>\n",
       "      <td>12</td>\n",
       "      <td>600.6</td>\n",
       "      <td>100.0</td>\n",
       "      <td>42.042000</td>\n",
       "      <td>medium</td>\n",
       "    </tr>\n",
       "    <tr>\n",
       "      <th>8</th>\n",
       "      <td>13</td>\n",
       "      <td>705.4</td>\n",
       "      <td>84.0</td>\n",
       "      <td>58.783333</td>\n",
       "      <td>medium</td>\n",
       "    </tr>\n",
       "    <tr>\n",
       "      <th>9</th>\n",
       "      <td>14</td>\n",
       "      <td>1683.0</td>\n",
       "      <td>265.0</td>\n",
       "      <td>44.456604</td>\n",
       "      <td>medium</td>\n",
       "    </tr>\n",
       "  </tbody>\n",
       "</table>\n",
       "</div>"
      ],
      "text/plain": [
       "   user_id  prices  days_as_customer  weekly_spending spending_flag\n",
       "0        1   375.7             176.0        14.942614           low\n",
       "1        2  1465.6             198.0        51.814141        medium\n",
       "2        3   721.4             133.0        37.968421        medium\n",
       "3        4   147.7              55.0        18.798182           low\n",
       "4        7  1538.2             203.0        53.041379        medium\n",
       "5       10  1237.1              79.0       109.616456          high\n",
       "6       11   782.9             123.0        44.555285        medium\n",
       "7       12   600.6             100.0        42.042000        medium\n",
       "8       13   705.4              84.0        58.783333        medium\n",
       "9       14  1683.0             265.0        44.456604        medium"
      ]
     },
     "execution_count": 93,
     "metadata": {},
     "output_type": "execute_result"
    }
   ],
   "source": [
    "# check first 10 rows\n",
    "df_spend.head(10)"
   ]
  },
  {
   "cell_type": "code",
   "execution_count": 94,
   "id": "ab6b1e62",
   "metadata": {},
   "outputs": [],
   "source": [
    "# add flags to user_flags\n",
    "user_flags = user_flags.merge(df_spend[['user_id', 'spending_flag']], on='user_id', how='left')"
   ]
  },
  {
   "cell_type": "code",
   "execution_count": 95,
   "id": "399dc0cb",
   "metadata": {
    "scrolled": true
   },
   "outputs": [
    {
     "data": {
      "text/html": [
       "<div>\n",
       "<style scoped>\n",
       "    .dataframe tbody tr th:only-of-type {\n",
       "        vertical-align: middle;\n",
       "    }\n",
       "\n",
       "    .dataframe tbody tr th {\n",
       "        vertical-align: top;\n",
       "    }\n",
       "\n",
       "    .dataframe thead th {\n",
       "        text-align: right;\n",
       "    }\n",
       "</style>\n",
       "<table border=\"1\" class=\"dataframe\">\n",
       "  <thead>\n",
       "    <tr style=\"text-align: right;\">\n",
       "      <th></th>\n",
       "      <th>user_id</th>\n",
       "      <th>age_flag</th>\n",
       "      <th>income_flag</th>\n",
       "      <th>regularity_flag</th>\n",
       "      <th>groceries_flag</th>\n",
       "      <th>spending_flag</th>\n",
       "    </tr>\n",
       "  </thead>\n",
       "  <tbody>\n",
       "    <tr>\n",
       "      <th>0</th>\n",
       "      <td>1</td>\n",
       "      <td>young_adult</td>\n",
       "      <td>low</td>\n",
       "      <td>irregular</td>\n",
       "      <td>junk</td>\n",
       "      <td>low</td>\n",
       "    </tr>\n",
       "    <tr>\n",
       "      <th>1</th>\n",
       "      <td>15</td>\n",
       "      <td>senior</td>\n",
       "      <td>low</td>\n",
       "      <td>irregular</td>\n",
       "      <td>junk</td>\n",
       "      <td>low</td>\n",
       "    </tr>\n",
       "    <tr>\n",
       "      <th>2</th>\n",
       "      <td>19</td>\n",
       "      <td>adult</td>\n",
       "      <td>high</td>\n",
       "      <td>irregular</td>\n",
       "      <td>none</td>\n",
       "      <td>high</td>\n",
       "    </tr>\n",
       "    <tr>\n",
       "      <th>3</th>\n",
       "      <td>21</td>\n",
       "      <td>senior</td>\n",
       "      <td>medium</td>\n",
       "      <td>irregular</td>\n",
       "      <td>junk</td>\n",
       "      <td>medium</td>\n",
       "    </tr>\n",
       "    <tr>\n",
       "      <th>4</th>\n",
       "      <td>31</td>\n",
       "      <td>adult</td>\n",
       "      <td>low</td>\n",
       "      <td>irregular</td>\n",
       "      <td>none</td>\n",
       "      <td>high</td>\n",
       "    </tr>\n",
       "    <tr>\n",
       "      <th>5</th>\n",
       "      <td>43</td>\n",
       "      <td>adult</td>\n",
       "      <td>medium</td>\n",
       "      <td>irregular</td>\n",
       "      <td>healthy</td>\n",
       "      <td>high</td>\n",
       "    </tr>\n",
       "    <tr>\n",
       "      <th>6</th>\n",
       "      <td>52</td>\n",
       "      <td>adult</td>\n",
       "      <td>low</td>\n",
       "      <td>irregular</td>\n",
       "      <td>none</td>\n",
       "      <td>medium</td>\n",
       "    </tr>\n",
       "    <tr>\n",
       "      <th>7</th>\n",
       "      <td>67</td>\n",
       "      <td>senior</td>\n",
       "      <td>medium</td>\n",
       "      <td>irregular</td>\n",
       "      <td>none</td>\n",
       "      <td>medium</td>\n",
       "    </tr>\n",
       "    <tr>\n",
       "      <th>8</th>\n",
       "      <td>81</td>\n",
       "      <td>adult</td>\n",
       "      <td>medium</td>\n",
       "      <td>irregular</td>\n",
       "      <td>healthy</td>\n",
       "      <td>low</td>\n",
       "    </tr>\n",
       "    <tr>\n",
       "      <th>9</th>\n",
       "      <td>82</td>\n",
       "      <td>adult</td>\n",
       "      <td>low</td>\n",
       "      <td>irregular</td>\n",
       "      <td>none</td>\n",
       "      <td>medium</td>\n",
       "    </tr>\n",
       "  </tbody>\n",
       "</table>\n",
       "</div>"
      ],
      "text/plain": [
       "   user_id     age_flag income_flag regularity_flag groceries_flag  \\\n",
       "0        1  young_adult         low       irregular           junk   \n",
       "1       15       senior         low       irregular           junk   \n",
       "2       19        adult        high       irregular           none   \n",
       "3       21       senior      medium       irregular           junk   \n",
       "4       31        adult         low       irregular           none   \n",
       "5       43        adult      medium       irregular        healthy   \n",
       "6       52        adult         low       irregular           none   \n",
       "7       67       senior      medium       irregular           none   \n",
       "8       81        adult      medium       irregular        healthy   \n",
       "9       82        adult         low       irregular           none   \n",
       "\n",
       "  spending_flag  \n",
       "0           low  \n",
       "1           low  \n",
       "2          high  \n",
       "3        medium  \n",
       "4          high  \n",
       "5          high  \n",
       "6        medium  \n",
       "7        medium  \n",
       "8           low  \n",
       "9        medium  "
      ]
     },
     "execution_count": 95,
     "metadata": {},
     "output_type": "execute_result"
    }
   ],
   "source": [
    "# check first 10 rows of user_flags\n",
    "user_flags.head(10)"
   ]
  },
  {
   "cell_type": "code",
   "execution_count": 96,
   "id": "42996c65",
   "metadata": {
    "scrolled": true
   },
   "outputs": [
    {
     "data": {
      "text/plain": [
       "count     162632\n",
       "unique         3\n",
       "top       medium\n",
       "freq       81303\n",
       "Name: spending_flag, dtype: object"
      ]
     },
     "execution_count": 96,
     "metadata": {},
     "output_type": "execute_result"
    }
   ],
   "source": [
    "# check counts of spending_flag\n",
    "user_flags['spending_flag'].describe()"
   ]
  },
  {
   "cell_type": "code",
   "execution_count": 97,
   "id": "64fc5785",
   "metadata": {
    "scrolled": true
   },
   "outputs": [
    {
     "data": {
      "text/plain": [
       "(162632, 6)"
      ]
     },
     "execution_count": 97,
     "metadata": {},
     "output_type": "execute_result"
    }
   ],
   "source": [
    "user_flags.shape"
   ]
  },
  {
   "cell_type": "code",
   "execution_count": 98,
   "id": "8e87f071",
   "metadata": {},
   "outputs": [
    {
     "data": {
      "text/plain": [
       "0"
      ]
     },
     "execution_count": 98,
     "metadata": {},
     "output_type": "execute_result"
    }
   ],
   "source": [
    "user_flags['spending_flag'].isnull().sum()"
   ]
  },
  {
   "cell_type": "markdown",
   "id": "aa99090e",
   "metadata": {},
   "source": [
    "Counts return correctly."
   ]
  },
  {
   "cell_type": "markdown",
   "id": "c01d5496",
   "metadata": {},
   "source": [
    "### 6.6 Dependents flag"
   ]
  },
  {
   "cell_type": "markdown",
   "id": "c55f0860",
   "metadata": {},
   "source": [
    "Set a TRUE or FALSE flag for whether a customer has dependents or not."
   ]
  },
  {
   "cell_type": "code",
   "execution_count": 99,
   "id": "b1901a57",
   "metadata": {},
   "outputs": [],
   "source": [
    "# create subset of user_id and n_dependents\n",
    "deps_sub = df_high[['user_id','n_dependents']].drop_duplicates()"
   ]
  },
  {
   "cell_type": "code",
   "execution_count": 100,
   "id": "8d2eab35",
   "metadata": {},
   "outputs": [],
   "source": [
    "# assign TRUE or FALSE flag for has_dependents\n",
    "deps_sub['has_dependents'] = deps_sub['n_dependents'].apply(lambda x: False if x == 0 else True)"
   ]
  },
  {
   "cell_type": "code",
   "execution_count": 101,
   "id": "1c0fc9c5",
   "metadata": {},
   "outputs": [],
   "source": [
    "# add has_dependents flag to user_flags\n",
    "user_flags = user_flags.merge(deps_sub[['user_id','has_dependents']], on = 'user_id', how = 'inner')"
   ]
  },
  {
   "cell_type": "code",
   "execution_count": 102,
   "id": "d807f4ad",
   "metadata": {},
   "outputs": [
    {
     "data": {
      "text/plain": [
       "count     162632\n",
       "unique         2\n",
       "top         True\n",
       "freq      121904\n",
       "Name: has_dependents, dtype: object"
      ]
     },
     "execution_count": 102,
     "metadata": {},
     "output_type": "execute_result"
    }
   ],
   "source": [
    "# check counts of has_dependents flag\n",
    "user_flags['has_dependents'].describe()"
   ]
  },
  {
   "cell_type": "markdown",
   "id": "6a3be9a4",
   "metadata": {},
   "source": [
    "### 6.7 Customer profiles"
   ]
  },
  {
   "cell_type": "markdown",
   "id": "28339e15",
   "metadata": {},
   "source": [
    "Using this research as a basis\n",
    "\n",
    "https://www.driveresearch.com/media/4725/final-2022-grocery-segmentation-report.pdf\n",
    "\n",
    "We will assign SPECIALIST customer profiles as follows\n",
    "\n",
    "HEALTHY FAMILIES\n",
    "+ has dependents\n",
    "+ adult or young adult\n",
    "+ medium-high income\n",
    "+ healthy grocery flag\n",
    "\n",
    "GROCERY ENTHUSIAST\n",
    "+ has dependents\n",
    "+ junk grocery flag\n",
    "+ low-medium income\n",
    "+ adults\n",
    "\n",
    "SIMPLE PLEASURES\n",
    "+ low income\n",
    "+ irregular flag\n",
    "+ junk grocery flag\n",
    "\n",
    "YOUNG SPENDER\n",
    "+ young adult\n",
    "+ diverse flag\n",
    "+ medium-high income\n",
    "\n",
    "FRUGAL DIY\n",
    "+ senior\n",
    "+ low spending flag\n",
    "+ low diversity\n",
    "\n",
    "\n",
    "All remaining customers will be profiled as follows, in this order:\n",
    "\n",
    "PROFESSIONALS\n",
    "+ young adult or adult\n",
    "+ medium-high income\n",
    "\n",
    "FAMILY\n",
    "+ has dependents\n",
    "\n",
    "BUDGET\n",
    "+ low income\n",
    "\n",
    "SENIOR\n",
    "+ senior"
   ]
  },
  {
   "cell_type": "markdown",
   "id": "75650af7",
   "metadata": {},
   "source": [
    "#### 6.7.1 Assign HEALTHY FAMILIES profile"
   ]
  },
  {
   "cell_type": "code",
   "execution_count": 103,
   "id": "50624182",
   "metadata": {},
   "outputs": [],
   "source": [
    "# add empty column ready to be populated\n",
    "user_flags['profile'] = None"
   ]
  },
  {
   "cell_type": "code",
   "execution_count": 104,
   "id": "e10642b8",
   "metadata": {},
   "outputs": [],
   "source": [
    "# assign healthy_families flags\n",
    "user_flags.loc[\n",
    "    (user_flags['has_dependents'] == True) &\n",
    "    (user_flags['age_flag'].isin(['young_adult', 'adult'])) &\n",
    "    (user_flags['income_flag'].isin(['medium', 'high'])) &\n",
    "    (user_flags['groceries_flag'] == 'healthy'),\n",
    "    'profile'\n",
    "] = 'healthy_families'"
   ]
  },
  {
   "cell_type": "code",
   "execution_count": 105,
   "id": "6bc30ed8",
   "metadata": {
    "scrolled": true
   },
   "outputs": [
    {
     "data": {
      "text/plain": [
       "count                37479\n",
       "unique                   1\n",
       "top       healthy_families\n",
       "freq                 37479\n",
       "Name: profile, dtype: object"
      ]
     },
     "execution_count": 105,
     "metadata": {},
     "output_type": "execute_result"
    }
   ],
   "source": [
    "# check counts\n",
    "user_flags['profile'].describe()"
   ]
  },
  {
   "cell_type": "markdown",
   "id": "edeb21a5",
   "metadata": {},
   "source": [
    "#### 6.7.2 Assign GROCERIES ENTHUSIAST profiles"
   ]
  },
  {
   "cell_type": "code",
   "execution_count": 106,
   "id": "4cc7b9cd",
   "metadata": {},
   "outputs": [],
   "source": [
    "# Assign groceries_enthusiast flags\n",
    "user_flags.loc[\n",
    "    (user_flags['profile'].isnull()) &\n",
    "    (user_flags['age_flag'] == 'adult') &\n",
    "    (user_flags['has_dependents'] == True) &\n",
    "    (user_flags['income_flag'].isin(['low','medium'])) &\n",
    "    (user_flags['groceries_flag'] == 'junk'),\n",
    "    'profile'\n",
    "] = 'groceries_enthusiast'"
   ]
  },
  {
   "cell_type": "code",
   "execution_count": 107,
   "id": "7347054f",
   "metadata": {},
   "outputs": [
    {
     "data": {
      "text/plain": [
       "healthy_families        37479\n",
       "groceries_enthusiast     4070\n",
       "Name: profile, dtype: int64"
      ]
     },
     "execution_count": 107,
     "metadata": {},
     "output_type": "execute_result"
    }
   ],
   "source": [
    "# check counts\n",
    "user_flags['profile'].value_counts()"
   ]
  },
  {
   "cell_type": "markdown",
   "id": "61ad4fb1",
   "metadata": {},
   "source": [
    "#### 6.7.3 Assign SIMPLE PLEASURES profile"
   ]
  },
  {
   "cell_type": "code",
   "execution_count": 108,
   "id": "2c49e16c",
   "metadata": {},
   "outputs": [],
   "source": [
    "# Assign simple_pleasures flags\n",
    "user_flags.loc[\n",
    "    (user_flags['profile'].isnull()) &\n",
    "    (user_flags['regularity_flag'] == 'irregular') &\n",
    "    (user_flags['income_flag'] == 'low') &\n",
    "    (user_flags['groceries_flag'] == 'junk'),\n",
    "    'profile'\n",
    "] = 'simple_pleasure'"
   ]
  },
  {
   "cell_type": "code",
   "execution_count": 109,
   "id": "52d654c5",
   "metadata": {},
   "outputs": [
    {
     "data": {
      "text/plain": [
       "healthy_families        37479\n",
       "simple_pleasure          4967\n",
       "groceries_enthusiast     4070\n",
       "Name: profile, dtype: int64"
      ]
     },
     "execution_count": 109,
     "metadata": {},
     "output_type": "execute_result"
    }
   ],
   "source": [
    "# check counts\n",
    "user_flags['profile'].value_counts()"
   ]
  },
  {
   "cell_type": "markdown",
   "id": "0e4635a3",
   "metadata": {},
   "source": [
    "#### 6.7.4 Assign YOUNG SPENDER profiles"
   ]
  },
  {
   "cell_type": "code",
   "execution_count": 110,
   "id": "94e69f9d",
   "metadata": {},
   "outputs": [],
   "source": [
    "# Assign young_spender flags\n",
    "user_flags.loc[\n",
    "    (user_flags['profile'].isnull()) &\n",
    "    (user_flags['age_flag'] == 'young_adult') &\n",
    "    (user_flags['income_flag'].isin(['medium','high'])) &\n",
    "    (user_flags['groceries_flag'] == 'diverse'),\n",
    "    'profile'\n",
    "] = 'young_spender'"
   ]
  },
  {
   "cell_type": "code",
   "execution_count": 111,
   "id": "a5410dd3",
   "metadata": {},
   "outputs": [
    {
     "data": {
      "text/plain": [
       "healthy_families        37479\n",
       "simple_pleasure          4967\n",
       "groceries_enthusiast     4070\n",
       "young_spender              21\n",
       "Name: profile, dtype: int64"
      ]
     },
     "execution_count": 111,
     "metadata": {},
     "output_type": "execute_result"
    }
   ],
   "source": [
    "# check counts\n",
    "user_flags['profile'].value_counts()"
   ]
  },
  {
   "cell_type": "markdown",
   "id": "5263f47f",
   "metadata": {},
   "source": [
    "#### 6.7.5 Assign FRUGAL DIY profiles"
   ]
  },
  {
   "cell_type": "code",
   "execution_count": 112,
   "id": "5cc5de01",
   "metadata": {},
   "outputs": [],
   "source": [
    "# Assign frugal_diy flags\n",
    "user_flags.loc[\n",
    "    (user_flags['profile'].isnull()) &\n",
    "    (user_flags['age_flag'] == 'senior') &\n",
    "    (user_flags['spending_flag'] == 'low') &\n",
    "    (user_flags['groceries_flag'] == 'non-diverse'),\n",
    "    'profile'\n",
    "] = 'frugal_diy'"
   ]
  },
  {
   "cell_type": "code",
   "execution_count": 113,
   "id": "1e666951",
   "metadata": {},
   "outputs": [
    {
     "data": {
      "text/plain": [
       "healthy_families        37479\n",
       "simple_pleasure          4967\n",
       "groceries_enthusiast     4070\n",
       "frugal_diy               1068\n",
       "young_spender              21\n",
       "Name: profile, dtype: int64"
      ]
     },
     "execution_count": 113,
     "metadata": {},
     "output_type": "execute_result"
    }
   ],
   "source": [
    "# check counts\n",
    "user_flags['profile'].value_counts()"
   ]
  },
  {
   "cell_type": "code",
   "execution_count": 114,
   "id": "5e18dbbc",
   "metadata": {},
   "outputs": [],
   "source": [
    "# Assign frugal_diy flags\n",
    "user_flags.loc[\n",
    "    (user_flags['profile'].isnull()) &\n",
    "    (user_flags['age_flag'] == 'senior') &\n",
    "    (user_flags['spending_flag'] == 'low') &\n",
    "    (user_flags['groceries_flag'] == 'non-diverse'),\n",
    "    'profile'\n",
    "] = 'frugal_diy'"
   ]
  },
  {
   "cell_type": "markdown",
   "id": "9e00a200",
   "metadata": {},
   "source": [
    "#### 6.7.6 Assign PROFESSIONAL profiles"
   ]
  },
  {
   "cell_type": "code",
   "execution_count": 115,
   "id": "63850937",
   "metadata": {},
   "outputs": [],
   "source": [
    "# Assign professional flags\n",
    "user_flags.loc[\n",
    "    (user_flags['profile'].isnull()) &\n",
    "    (user_flags['age_flag'].isin(['young_adult','adult'])) &\n",
    "    (user_flags['income_flag'].isin(['medium','high'])),\n",
    "    'profile'\n",
    "] = 'professional'"
   ]
  },
  {
   "cell_type": "code",
   "execution_count": 116,
   "id": "066e5e21",
   "metadata": {
    "scrolled": true
   },
   "outputs": [
    {
     "data": {
      "text/plain": [
       "professional            40092\n",
       "healthy_families        37479\n",
       "simple_pleasure          4967\n",
       "groceries_enthusiast     4070\n",
       "frugal_diy               1068\n",
       "young_spender              21\n",
       "Name: profile, dtype: int64"
      ]
     },
     "execution_count": 116,
     "metadata": {},
     "output_type": "execute_result"
    }
   ],
   "source": [
    "# check counts\n",
    "user_flags['profile'].value_counts()"
   ]
  },
  {
   "cell_type": "markdown",
   "id": "9803ab2b",
   "metadata": {},
   "source": [
    "#### 6.7.7 Assign FAMILY profiles"
   ]
  },
  {
   "cell_type": "code",
   "execution_count": 117,
   "id": "f370a8d0",
   "metadata": {},
   "outputs": [],
   "source": [
    "# Assign family flags\n",
    "user_flags.loc[\n",
    "    (user_flags['profile'].isnull()) &\n",
    "    (user_flags['has_dependents'] == True ),\n",
    "    'profile'\n",
    "] = 'family'"
   ]
  },
  {
   "cell_type": "code",
   "execution_count": 118,
   "id": "1f46dfbb",
   "metadata": {
    "scrolled": true
   },
   "outputs": [
    {
     "data": {
      "text/plain": [
       "family                  56154\n",
       "professional            40092\n",
       "healthy_families        37479\n",
       "simple_pleasure          4967\n",
       "groceries_enthusiast     4070\n",
       "frugal_diy               1068\n",
       "young_spender              21\n",
       "Name: profile, dtype: int64"
      ]
     },
     "execution_count": 118,
     "metadata": {},
     "output_type": "execute_result"
    }
   ],
   "source": [
    "# check counts\n",
    "user_flags['profile'].value_counts()"
   ]
  },
  {
   "cell_type": "markdown",
   "id": "5158cf4b",
   "metadata": {},
   "source": [
    "#### 6.7.8 Assign BUDGET profiles"
   ]
  },
  {
   "cell_type": "code",
   "execution_count": 119,
   "id": "694de5b2",
   "metadata": {},
   "outputs": [],
   "source": [
    "# Assign budget flags\n",
    "user_flags.loc[\n",
    "    (user_flags['profile'].isnull()) &\n",
    "    (user_flags['income_flag'] == 'low' ),\n",
    "    'profile'\n",
    "] = 'budget'"
   ]
  },
  {
   "cell_type": "code",
   "execution_count": 120,
   "id": "57f9796c",
   "metadata": {},
   "outputs": [
    {
     "data": {
      "text/plain": [
       "family                  56154\n",
       "professional            40092\n",
       "healthy_families        37479\n",
       "budget                  10152\n",
       "simple_pleasure          4967\n",
       "groceries_enthusiast     4070\n",
       "frugal_diy               1068\n",
       "young_spender              21\n",
       "Name: profile, dtype: int64"
      ]
     },
     "execution_count": 120,
     "metadata": {},
     "output_type": "execute_result"
    }
   ],
   "source": [
    "# check counts\n",
    "user_flags['profile'].value_counts()"
   ]
  },
  {
   "cell_type": "markdown",
   "id": "fd54b446",
   "metadata": {},
   "source": [
    "#### 6.7.9 Assign SENIOR profiles"
   ]
  },
  {
   "cell_type": "code",
   "execution_count": 121,
   "id": "cba5ac74",
   "metadata": {},
   "outputs": [],
   "source": [
    "# Assign senior flags\n",
    "user_flags.loc[\n",
    "    (user_flags['profile'].isnull()) &\n",
    "    (user_flags['age_flag'] == 'senior' ),\n",
    "    'profile'\n",
    "] = 'senior'"
   ]
  },
  {
   "cell_type": "code",
   "execution_count": 122,
   "id": "d7516c1b",
   "metadata": {
    "scrolled": true
   },
   "outputs": [
    {
     "data": {
      "text/plain": [
       "family                  56154\n",
       "professional            40092\n",
       "healthy_families        37479\n",
       "budget                  10152\n",
       "senior                   8629\n",
       "simple_pleasure          4967\n",
       "groceries_enthusiast     4070\n",
       "frugal_diy               1068\n",
       "young_spender              21\n",
       "Name: profile, dtype: int64"
      ]
     },
     "execution_count": 122,
     "metadata": {},
     "output_type": "execute_result"
    }
   ],
   "source": [
    "# check counts\n",
    "user_flags['profile'].value_counts()"
   ]
  },
  {
   "cell_type": "code",
   "execution_count": 123,
   "id": "b93638a9",
   "metadata": {},
   "outputs": [
    {
     "data": {
      "text/plain": [
       "162632"
      ]
     },
     "execution_count": 123,
     "metadata": {},
     "output_type": "execute_result"
    }
   ],
   "source": [
    "# check counts\n",
    "user_flags['profile'].value_counts().sum()"
   ]
  },
  {
   "cell_type": "code",
   "execution_count": 124,
   "id": "9fd5ff6e",
   "metadata": {},
   "outputs": [
    {
     "data": {
      "text/plain": [
       "(162632, 8)"
      ]
     },
     "execution_count": 124,
     "metadata": {},
     "output_type": "execute_result"
    }
   ],
   "source": [
    "user_flags.shape"
   ]
  },
  {
   "cell_type": "markdown",
   "id": "7f0058d6",
   "metadata": {},
   "source": [
    "Counts return correctly."
   ]
  },
  {
   "cell_type": "code",
   "execution_count": 125,
   "id": "7b7280ee",
   "metadata": {},
   "outputs": [],
   "source": [
    "# export user_flags\n",
    "user_flags.to_csv(os.path.join(path, 'Prepared Data', 'user_flags.csv'))"
   ]
  },
  {
   "cell_type": "markdown",
   "id": "e212a9e7",
   "metadata": {},
   "source": [
    "## 7. Profile analysis"
   ]
  },
  {
   "cell_type": "code",
   "execution_count": 126,
   "id": "93af16ee",
   "metadata": {},
   "outputs": [],
   "source": [
    "# drop individual profile flags from df_high\n",
    "df_high = df_high.drop(['activity_status', 'age_flag', 'income_flag'], axis=1)"
   ]
  },
  {
   "cell_type": "code",
   "execution_count": 127,
   "id": "c9eff65b",
   "metadata": {},
   "outputs": [],
   "source": [
    "# add profiles to df_high\n",
    "df_high = df_high.merge(user_flags[['user_id', 'profile']], on='user_id', how='left')"
   ]
  },
  {
   "cell_type": "code",
   "execution_count": 128,
   "id": "a1e0c431",
   "metadata": {
    "scrolled": true
   },
   "outputs": [
    {
     "data": {
      "text/html": [
       "<div>\n",
       "<style scoped>\n",
       "    .dataframe tbody tr th:only-of-type {\n",
       "        vertical-align: middle;\n",
       "    }\n",
       "\n",
       "    .dataframe tbody tr th {\n",
       "        vertical-align: top;\n",
       "    }\n",
       "\n",
       "    .dataframe thead th {\n",
       "        text-align: right;\n",
       "    }\n",
       "</style>\n",
       "<table border=\"1\" class=\"dataframe\">\n",
       "  <thead>\n",
       "    <tr style=\"text-align: right;\">\n",
       "      <th></th>\n",
       "      <th>order_id</th>\n",
       "      <th>user_id</th>\n",
       "      <th>order_number</th>\n",
       "      <th>order_day_of_week</th>\n",
       "      <th>order_hour_of_day</th>\n",
       "      <th>days_since_prior_order</th>\n",
       "      <th>product_id</th>\n",
       "      <th>add_to_cart_order</th>\n",
       "      <th>reordered</th>\n",
       "      <th>product_name</th>\n",
       "      <th>...</th>\n",
       "      <th>sex</th>\n",
       "      <th>state</th>\n",
       "      <th>age</th>\n",
       "      <th>date_joined</th>\n",
       "      <th>n_dependents</th>\n",
       "      <th>family_status</th>\n",
       "      <th>income</th>\n",
       "      <th>region</th>\n",
       "      <th>number_of_orders</th>\n",
       "      <th>profile</th>\n",
       "    </tr>\n",
       "  </thead>\n",
       "  <tbody>\n",
       "    <tr>\n",
       "      <th>0</th>\n",
       "      <td>2539329</td>\n",
       "      <td>1</td>\n",
       "      <td>1</td>\n",
       "      <td>2</td>\n",
       "      <td>8</td>\n",
       "      <td>NaN</td>\n",
       "      <td>196</td>\n",
       "      <td>1</td>\n",
       "      <td>0</td>\n",
       "      <td>Soda</td>\n",
       "      <td>...</td>\n",
       "      <td>Female</td>\n",
       "      <td>Alabama</td>\n",
       "      <td>31</td>\n",
       "      <td>2/17/2019</td>\n",
       "      <td>3</td>\n",
       "      <td>married</td>\n",
       "      <td>40423</td>\n",
       "      <td>South</td>\n",
       "      <td>10</td>\n",
       "      <td>simple_pleasure</td>\n",
       "    </tr>\n",
       "    <tr>\n",
       "      <th>1</th>\n",
       "      <td>2398795</td>\n",
       "      <td>1</td>\n",
       "      <td>2</td>\n",
       "      <td>3</td>\n",
       "      <td>7</td>\n",
       "      <td>15.0</td>\n",
       "      <td>196</td>\n",
       "      <td>1</td>\n",
       "      <td>1</td>\n",
       "      <td>Soda</td>\n",
       "      <td>...</td>\n",
       "      <td>Female</td>\n",
       "      <td>Alabama</td>\n",
       "      <td>31</td>\n",
       "      <td>2/17/2019</td>\n",
       "      <td>3</td>\n",
       "      <td>married</td>\n",
       "      <td>40423</td>\n",
       "      <td>South</td>\n",
       "      <td>10</td>\n",
       "      <td>simple_pleasure</td>\n",
       "    </tr>\n",
       "    <tr>\n",
       "      <th>2</th>\n",
       "      <td>473747</td>\n",
       "      <td>1</td>\n",
       "      <td>3</td>\n",
       "      <td>3</td>\n",
       "      <td>12</td>\n",
       "      <td>21.0</td>\n",
       "      <td>196</td>\n",
       "      <td>1</td>\n",
       "      <td>1</td>\n",
       "      <td>Soda</td>\n",
       "      <td>...</td>\n",
       "      <td>Female</td>\n",
       "      <td>Alabama</td>\n",
       "      <td>31</td>\n",
       "      <td>2/17/2019</td>\n",
       "      <td>3</td>\n",
       "      <td>married</td>\n",
       "      <td>40423</td>\n",
       "      <td>South</td>\n",
       "      <td>10</td>\n",
       "      <td>simple_pleasure</td>\n",
       "    </tr>\n",
       "    <tr>\n",
       "      <th>3</th>\n",
       "      <td>2254736</td>\n",
       "      <td>1</td>\n",
       "      <td>4</td>\n",
       "      <td>4</td>\n",
       "      <td>7</td>\n",
       "      <td>29.0</td>\n",
       "      <td>196</td>\n",
       "      <td>1</td>\n",
       "      <td>1</td>\n",
       "      <td>Soda</td>\n",
       "      <td>...</td>\n",
       "      <td>Female</td>\n",
       "      <td>Alabama</td>\n",
       "      <td>31</td>\n",
       "      <td>2/17/2019</td>\n",
       "      <td>3</td>\n",
       "      <td>married</td>\n",
       "      <td>40423</td>\n",
       "      <td>South</td>\n",
       "      <td>10</td>\n",
       "      <td>simple_pleasure</td>\n",
       "    </tr>\n",
       "    <tr>\n",
       "      <th>4</th>\n",
       "      <td>431534</td>\n",
       "      <td>1</td>\n",
       "      <td>5</td>\n",
       "      <td>4</td>\n",
       "      <td>15</td>\n",
       "      <td>28.0</td>\n",
       "      <td>196</td>\n",
       "      <td>1</td>\n",
       "      <td>1</td>\n",
       "      <td>Soda</td>\n",
       "      <td>...</td>\n",
       "      <td>Female</td>\n",
       "      <td>Alabama</td>\n",
       "      <td>31</td>\n",
       "      <td>2/17/2019</td>\n",
       "      <td>3</td>\n",
       "      <td>married</td>\n",
       "      <td>40423</td>\n",
       "      <td>South</td>\n",
       "      <td>10</td>\n",
       "      <td>simple_pleasure</td>\n",
       "    </tr>\n",
       "  </tbody>\n",
       "</table>\n",
       "<p>5 rows × 23 columns</p>\n",
       "</div>"
      ],
      "text/plain": [
       "   order_id  user_id  order_number  order_day_of_week  order_hour_of_day  \\\n",
       "0   2539329        1             1                  2                  8   \n",
       "1   2398795        1             2                  3                  7   \n",
       "2    473747        1             3                  3                 12   \n",
       "3   2254736        1             4                  4                  7   \n",
       "4    431534        1             5                  4                 15   \n",
       "\n",
       "   days_since_prior_order  product_id  add_to_cart_order  reordered  \\\n",
       "0                     NaN         196                  1          0   \n",
       "1                    15.0         196                  1          1   \n",
       "2                    21.0         196                  1          1   \n",
       "3                    29.0         196                  1          1   \n",
       "4                    28.0         196                  1          1   \n",
       "\n",
       "  product_name  ...     sex    state  age date_joined n_dependents  \\\n",
       "0         Soda  ...  Female  Alabama   31   2/17/2019            3   \n",
       "1         Soda  ...  Female  Alabama   31   2/17/2019            3   \n",
       "2         Soda  ...  Female  Alabama   31   2/17/2019            3   \n",
       "3         Soda  ...  Female  Alabama   31   2/17/2019            3   \n",
       "4         Soda  ...  Female  Alabama   31   2/17/2019            3   \n",
       "\n",
       "   family_status income  region number_of_orders          profile  \n",
       "0        married  40423   South               10  simple_pleasure  \n",
       "1        married  40423   South               10  simple_pleasure  \n",
       "2        married  40423   South               10  simple_pleasure  \n",
       "3        married  40423   South               10  simple_pleasure  \n",
       "4        married  40423   South               10  simple_pleasure  \n",
       "\n",
       "[5 rows x 23 columns]"
      ]
     },
     "execution_count": 128,
     "metadata": {},
     "output_type": "execute_result"
    }
   ],
   "source": [
    "df_high.head()"
   ]
  },
  {
   "cell_type": "markdown",
   "id": "75cb2646",
   "metadata": {},
   "source": [
    "### 7.1 Distribution of profiles"
   ]
  },
  {
   "cell_type": "code",
   "execution_count": 129,
   "id": "67339a79",
   "metadata": {
    "scrolled": false
   },
   "outputs": [
    {
     "data": {
      "image/png": "[encoded data removed]",
      "text/plain": [
       "<Figure size 640x480 with 1 Axes>"
      ]
     },
     "metadata": {},
     "output_type": "display_data"
    }
   ],
   "source": [
    "# construct bar chart of profiles\n",
    "\n",
    "# Count the occurrences of each profile\n",
    "profile_counts = user_flags['profile'].value_counts()\n",
    "\n",
    "# Create a bar chart\n",
    "plt.bar(profile_counts.index, profile_counts.values)\n",
    "\n",
    "# Set the x-axis labels\n",
    "plt.xlabel('Profile')\n",
    "\n",
    "# Set the y-axis labels\n",
    "plt.ylabel('Count')\n",
    "\n",
    "# Set the chart title\n",
    "plt.title('Distribution Of All Profiles')\n",
    "\n",
    "# Rotate x-axis labels if needed\n",
    "plt.xticks(rotation='vertical')\n",
    "\n",
    "# Display the chart\n",
    "plt.show()"
   ]
  },
  {
   "cell_type": "code",
   "execution_count": 130,
   "id": "1ce1c0fe",
   "metadata": {},
   "outputs": [
    {
     "data": {
      "image/png": "[encoded data removed]",
      "text/plain": [
       "<Figure size 640x480 with 1 Axes>"
      ]
     },
     "metadata": {},
     "output_type": "display_data"
    }
   ],
   "source": [
    "# construct bar chart showing the distribution of the specialist profiles\n",
    "\n",
    "# Define the desired profiles\n",
    "desired_profiles = ['healthy_families', 'simple_pleasure', 'groceries_enthusiast', 'young_spender', 'frugal_diy']\n",
    "\n",
    "# Filter the DataFrame based on the desired profiles\n",
    "filtered_flags = user_flags[user_flags['profile'].isin(desired_profiles)]\n",
    "\n",
    "# Count the occurrences of each profile\n",
    "profile_counts = filtered_flags['profile'].value_counts()\n",
    "\n",
    "# Create a bar chart\n",
    "plt.bar(profile_counts.index, profile_counts.values)\n",
    "\n",
    "# Set the x-axis labels\n",
    "plt.xlabel('Profile')\n",
    "\n",
    "# Set the y-axis labels\n",
    "plt.ylabel('Count')\n",
    "\n",
    "# Set the chart title\n",
    "plt.title('Distribution Of Specialist Profiles')\n",
    "\n",
    "# Rotate x-axis labels if needed\n",
    "plt.xticks(rotation='vertical')\n",
    "\n",
    "# Display the chart\n",
    "plt.show()\n"
   ]
  },
  {
   "cell_type": "markdown",
   "id": "57544b8b",
   "metadata": {},
   "source": [
    "### 7.2 Summary statistics for profiles "
   ]
  },
  {
   "cell_type": "markdown",
   "id": "fcb1b066",
   "metadata": {},
   "source": [
    "We will find summary statistics for profiles on usage frequency and expenditure and analyse by region.\n",
    "Create dataframe that contains user_id, profile, region, days_as_customer, total_spending, total_orders, weekly_orders, weekly_spending, order_frequency. df_spend already contains some of this data."
   ]
  },
  {
   "cell_type": "markdown",
   "id": "ef37872e",
   "metadata": {},
   "source": [
    "#### 7.2.1 Construct dataframe"
   ]
  },
  {
   "cell_type": "code",
   "execution_count": 131,
   "id": "2248ba49",
   "metadata": {},
   "outputs": [
    {
     "data": {
      "text/html": [
       "<div>\n",
       "<style scoped>\n",
       "    .dataframe tbody tr th:only-of-type {\n",
       "        vertical-align: middle;\n",
       "    }\n",
       "\n",
       "    .dataframe tbody tr th {\n",
       "        vertical-align: top;\n",
       "    }\n",
       "\n",
       "    .dataframe thead th {\n",
       "        text-align: right;\n",
       "    }\n",
       "</style>\n",
       "<table border=\"1\" class=\"dataframe\">\n",
       "  <thead>\n",
       "    <tr style=\"text-align: right;\">\n",
       "      <th></th>\n",
       "      <th>user_id</th>\n",
       "      <th>prices</th>\n",
       "      <th>days_as_customer</th>\n",
       "      <th>weekly_spending</th>\n",
       "      <th>spending_flag</th>\n",
       "    </tr>\n",
       "  </thead>\n",
       "  <tbody>\n",
       "    <tr>\n",
       "      <th>0</th>\n",
       "      <td>1</td>\n",
       "      <td>375.7</td>\n",
       "      <td>176.0</td>\n",
       "      <td>14.942614</td>\n",
       "      <td>low</td>\n",
       "    </tr>\n",
       "    <tr>\n",
       "      <th>1</th>\n",
       "      <td>2</td>\n",
       "      <td>1465.6</td>\n",
       "      <td>198.0</td>\n",
       "      <td>51.814141</td>\n",
       "      <td>medium</td>\n",
       "    </tr>\n",
       "    <tr>\n",
       "      <th>2</th>\n",
       "      <td>3</td>\n",
       "      <td>721.4</td>\n",
       "      <td>133.0</td>\n",
       "      <td>37.968421</td>\n",
       "      <td>medium</td>\n",
       "    </tr>\n",
       "    <tr>\n",
       "      <th>3</th>\n",
       "      <td>4</td>\n",
       "      <td>147.7</td>\n",
       "      <td>55.0</td>\n",
       "      <td>18.798182</td>\n",
       "      <td>low</td>\n",
       "    </tr>\n",
       "    <tr>\n",
       "      <th>4</th>\n",
       "      <td>7</td>\n",
       "      <td>1538.2</td>\n",
       "      <td>203.0</td>\n",
       "      <td>53.041379</td>\n",
       "      <td>medium</td>\n",
       "    </tr>\n",
       "  </tbody>\n",
       "</table>\n",
       "</div>"
      ],
      "text/plain": [
       "   user_id  prices  days_as_customer  weekly_spending spending_flag\n",
       "0        1   375.7             176.0        14.942614           low\n",
       "1        2  1465.6             198.0        51.814141        medium\n",
       "2        3   721.4             133.0        37.968421        medium\n",
       "3        4   147.7              55.0        18.798182           low\n",
       "4        7  1538.2             203.0        53.041379        medium"
      ]
     },
     "execution_count": 131,
     "metadata": {},
     "output_type": "execute_result"
    }
   ],
   "source": [
    "df_spend.head()"
   ]
  },
  {
   "cell_type": "code",
   "execution_count": 132,
   "id": "33dd39ec",
   "metadata": {},
   "outputs": [],
   "source": [
    "# drop spending_flag\n",
    "df_spend = df_spend.drop('spending_flag', axis=1)"
   ]
  },
  {
   "cell_type": "code",
   "execution_count": 133,
   "id": "4d4f7d0e",
   "metadata": {},
   "outputs": [],
   "source": [
    "# rename prices to total_spending\n",
    "df_spend = df_spend.rename(columns={'prices' : 'total_spending'})"
   ]
  },
  {
   "cell_type": "code",
   "execution_count": 134,
   "id": "076e0704",
   "metadata": {},
   "outputs": [],
   "source": [
    "# take subset of users and regions from df_high ready for merge\n",
    "user_region = df_high[['user_id','region']].drop_duplicates()"
   ]
  },
  {
   "cell_type": "code",
   "execution_count": 135,
   "id": "8ed55c80",
   "metadata": {},
   "outputs": [],
   "source": [
    "# add regions to df_spend\n",
    "df_spend = df_spend.merge(user_region[['user_id','region']], on='user_id', how='left')"
   ]
  },
  {
   "cell_type": "code",
   "execution_count": 136,
   "id": "0810be7d",
   "metadata": {},
   "outputs": [],
   "source": [
    "# remove user_region for memory\n",
    "del user_region"
   ]
  },
  {
   "cell_type": "code",
   "execution_count": 137,
   "id": "c65f4120",
   "metadata": {},
   "outputs": [],
   "source": [
    "# add profiles to df_spend\n",
    "df_spend = df_spend.merge(user_flags[['user_id','profile']], on='user_id', how='left')"
   ]
  },
  {
   "cell_type": "code",
   "execution_count": 138,
   "id": "3e9ae918",
   "metadata": {},
   "outputs": [
    {
     "data": {
      "text/html": [
       "<div>\n",
       "<style scoped>\n",
       "    .dataframe tbody tr th:only-of-type {\n",
       "        vertical-align: middle;\n",
       "    }\n",
       "\n",
       "    .dataframe tbody tr th {\n",
       "        vertical-align: top;\n",
       "    }\n",
       "\n",
       "    .dataframe thead th {\n",
       "        text-align: right;\n",
       "    }\n",
       "</style>\n",
       "<table border=\"1\" class=\"dataframe\">\n",
       "  <thead>\n",
       "    <tr style=\"text-align: right;\">\n",
       "      <th></th>\n",
       "      <th>user_id</th>\n",
       "      <th>order_id</th>\n",
       "    </tr>\n",
       "  </thead>\n",
       "  <tbody>\n",
       "    <tr>\n",
       "      <th>0</th>\n",
       "      <td>1</td>\n",
       "      <td>10</td>\n",
       "    </tr>\n",
       "    <tr>\n",
       "      <th>1</th>\n",
       "      <td>2</td>\n",
       "      <td>14</td>\n",
       "    </tr>\n",
       "    <tr>\n",
       "      <th>2</th>\n",
       "      <td>3</td>\n",
       "      <td>12</td>\n",
       "    </tr>\n",
       "    <tr>\n",
       "      <th>3</th>\n",
       "      <td>4</td>\n",
       "      <td>5</td>\n",
       "    </tr>\n",
       "    <tr>\n",
       "      <th>4</th>\n",
       "      <td>7</td>\n",
       "      <td>20</td>\n",
       "    </tr>\n",
       "    <tr>\n",
       "      <th>...</th>\n",
       "      <td>...</td>\n",
       "      <td>...</td>\n",
       "    </tr>\n",
       "    <tr>\n",
       "      <th>162627</th>\n",
       "      <td>206203</td>\n",
       "      <td>5</td>\n",
       "    </tr>\n",
       "    <tr>\n",
       "      <th>162628</th>\n",
       "      <td>206206</td>\n",
       "      <td>67</td>\n",
       "    </tr>\n",
       "    <tr>\n",
       "      <th>162629</th>\n",
       "      <td>206207</td>\n",
       "      <td>16</td>\n",
       "    </tr>\n",
       "    <tr>\n",
       "      <th>162630</th>\n",
       "      <td>206208</td>\n",
       "      <td>49</td>\n",
       "    </tr>\n",
       "    <tr>\n",
       "      <th>162631</th>\n",
       "      <td>206209</td>\n",
       "      <td>13</td>\n",
       "    </tr>\n",
       "  </tbody>\n",
       "</table>\n",
       "<p>162632 rows × 2 columns</p>\n",
       "</div>"
      ],
      "text/plain": [
       "        user_id  order_id\n",
       "0             1        10\n",
       "1             2        14\n",
       "2             3        12\n",
       "3             4         5\n",
       "4             7        20\n",
       "...         ...       ...\n",
       "162627   206203         5\n",
       "162628   206206        67\n",
       "162629   206207        16\n",
       "162630   206208        49\n",
       "162631   206209        13\n",
       "\n",
       "[162632 rows x 2 columns]"
      ]
     },
     "execution_count": 138,
     "metadata": {},
     "output_type": "execute_result"
    }
   ],
   "source": [
    "df_high.groupby('user_id')['order_id'].nunique().reset_index()"
   ]
  },
  {
   "cell_type": "code",
   "execution_count": 139,
   "id": "ad6d654f",
   "metadata": {},
   "outputs": [],
   "source": [
    "# add number of orders to df_spend\n",
    "df_spend = df_spend.merge(df_high.groupby('user_id')['order_id'].nunique().reset_index(), on='user_id', how='left')"
   ]
  },
  {
   "cell_type": "code",
   "execution_count": 140,
   "id": "17cd31c4",
   "metadata": {},
   "outputs": [],
   "source": [
    "# rename order_id to number_of_orders\n",
    "df_spend = df_spend.rename(columns={'order_id' : 'number_of_orders'})"
   ]
  },
  {
   "cell_type": "code",
   "execution_count": 141,
   "id": "3fb40d87",
   "metadata": {},
   "outputs": [],
   "source": [
    "# add average weekly order to df_spend\n",
    "df_spend['weekly_orders'] = df_spend.apply(lambda row: row['number_of_orders'] if row['days_as_customer'] == 0 else row['number_of_orders'] / row['days_as_customer'] * 7, axis=1)"
   ]
  },
  {
   "cell_type": "code",
   "execution_count": 142,
   "id": "dbe9444a",
   "metadata": {},
   "outputs": [],
   "source": [
    "# add order frequency that is the average number of weeks between each order\n",
    "df_spend[\"avg_order_frequency\"] = 1 / df_spend[\"weekly_orders\"]"
   ]
  },
  {
   "cell_type": "code",
   "execution_count": 143,
   "id": "c86f0b67",
   "metadata": {},
   "outputs": [],
   "source": [
    "# export dataframes for analysis in new notebook\n",
    "df_high.to_csv(os.path.join(path, 'Prepared Data', 'high_activity_customers.csv'))"
   ]
  },
  {
   "cell_type": "code",
   "execution_count": 144,
   "id": "78e33502",
   "metadata": {},
   "outputs": [],
   "source": [
    "df_spend.to_csv(os.path.join(path, 'Prepared Data', 'profiling.csv'))"
   ]
  }
 ],
 "metadata": {
  "kernelspec": {
   "display_name": "Python 3 (ipykernel)",
   "language": "python",
   "name": "python3"
  },
  "language_info": {
   "codemirror_mode": {
    "name": "ipython",
    "version": 3
   },
   "file_extension": ".py",
   "mimetype": "text/x-python",
   "name": "python",
   "nbconvert_exporter": "python",
   "pygments_lexer": "ipython3",
   "version": "3.11.3"
  }
 },
 "nbformat": 4,
 "nbformat_minor": 5
}
